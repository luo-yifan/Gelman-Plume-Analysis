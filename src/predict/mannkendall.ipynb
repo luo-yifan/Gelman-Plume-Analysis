{
 "cells": [
  {
   "cell_type": "code",
   "execution_count": 14,
   "metadata": {
    "collapsed": true
   },
   "outputs": [],
   "source": [
    "import pandas as pd\n",
    "import pymannkendall as mk\n",
    "import matplotlib.pyplot as plt"
   ]
  },
  {
   "cell_type": "code",
   "execution_count": 15,
   "outputs": [
    {
     "data": {
      "text/plain": "             Well Name         ds     y\n16  110 Parkland Plaza 1986-08-22  17.0\n17  110 Parkland Plaza 1986-09-19  17.0\n18  110 Parkland Plaza 1986-10-10  12.0\n19  110 Parkland Plaza 1986-10-10   1.0\n20  110 Parkland Plaza 1987-11-09   7.0",
      "text/html": "<div>\n<style scoped>\n    .dataframe tbody tr th:only-of-type {\n        vertical-align: middle;\n    }\n\n    .dataframe tbody tr th {\n        vertical-align: top;\n    }\n\n    .dataframe thead th {\n        text-align: right;\n    }\n</style>\n<table border=\"1\" class=\"dataframe\">\n  <thead>\n    <tr style=\"text-align: right;\">\n      <th></th>\n      <th>Well Name</th>\n      <th>ds</th>\n      <th>y</th>\n    </tr>\n  </thead>\n  <tbody>\n    <tr>\n      <th>16</th>\n      <td>110 Parkland Plaza</td>\n      <td>1986-08-22</td>\n      <td>17.0</td>\n    </tr>\n    <tr>\n      <th>17</th>\n      <td>110 Parkland Plaza</td>\n      <td>1986-09-19</td>\n      <td>17.0</td>\n    </tr>\n    <tr>\n      <th>18</th>\n      <td>110 Parkland Plaza</td>\n      <td>1986-10-10</td>\n      <td>12.0</td>\n    </tr>\n    <tr>\n      <th>19</th>\n      <td>110 Parkland Plaza</td>\n      <td>1986-10-10</td>\n      <td>1.0</td>\n    </tr>\n    <tr>\n      <th>20</th>\n      <td>110 Parkland Plaza</td>\n      <td>1987-11-09</td>\n      <td>7.0</td>\n    </tr>\n  </tbody>\n</table>\n</div>"
     },
     "execution_count": 15,
     "metadata": {},
     "output_type": "execute_result"
    }
   ],
   "source": [
    "well_data = pd.read_excel('../data/Data-Wells.xlsx')\n",
    "rm_nd = well_data.loc[well_data['1,4-Dioxane Results (ppb)'] != 'nd'].copy()\n",
    "rm_capital_nd = rm_nd.loc[rm_nd['1,4-Dioxane Results (ppb)'] != 'ND'].copy()\n",
    "rm_capital_nd['1,4-Dioxane Results (ppb)'] = rm_capital_nd['1,4-Dioxane Results (ppb)'].map(lambda x: x.replace(',', ''))\n",
    "rm_capital_nd['1,4-Dioxane Results (ppb)'] = rm_capital_nd['1,4-Dioxane Results (ppb)'].map(lambda x: x.replace('<', ''))\n",
    "res = rm_capital_nd\n",
    "res.loc[:, 'ds']= pd.to_datetime(res['Date Sampled'])\n",
    "res.loc[:, 'dioxane_results']= pd.to_numeric(res['1,4-Dioxane Results (ppb)'])\n",
    "di_time = res.iloc[:, lambda df: df.columns.str.contains('Well Name|ds|dioxane_results',\n",
    "                                              case=False)].copy()\n",
    "di_time.rename(columns = {'dioxane_results':'y'}, inplace = True)\n",
    "di_time.head(5)"
   ],
   "metadata": {
    "collapsed": false,
    "pycharm": {
     "name": "#%%\n"
    }
   }
  },
  {
   "cell_type": "code",
   "execution_count": 18,
   "outputs": [
    {
     "name": "stdout",
     "output_type": "stream",
     "text": [
      "zero division error 2655 Dexter Rd\n",
      "zero division error 2828 Dexter Rd\n",
      "zero division error 3041 Dexter Rd\n",
      "zero division error 3225 Dexter Rd\n",
      "zero division error 3250 Kingwood\n",
      "zero division error 3432 Ferry St\n",
      "zero division error 3537 Elizabeth Rd\n",
      "zero division error 3550 Elizabeth Rd\n",
      "zero division error 371 Parkland Plaza #1\n",
      "zero division error 4061-4065 Jackson Rd\n",
      "zero division error 4530 Jackson Rd\n",
      "zero division error 460 Rose\n",
      "zero division error 4709 Breezewood Ct\n",
      "zero division error 777 S. Wagner Road\n",
      "zero division error HCMW-2d\n",
      "zero division error Honey Creek/W Huron Dr\n",
      "zero division error INF-UV1-A\n",
      "zero division error IW-1\n",
      "zero division error LS-1\n",
      "zero division error LS-2\n",
      "zero division error LS-3\n",
      "zero division error LS-5\n",
      "zero division error MW-120s\n",
      "zero division error MW-122d\n",
      "zero division error MW-123s\n",
      "zero division error MW-124d\n",
      "zero division error MW-127d\n",
      "zero division error MW-127s\n",
      "zero division error MW-128s\n",
      "zero division error MW-131d\n",
      "zero division error MW-135\n",
      "zero division error MW-139d\n",
      "zero division error MW-50/MW-58s\n",
      "zero division error MW-51\n",
      "zero division error MW-62d\n",
      "zero division error MW-62i\n",
      "zero division error MW-62s\n",
      "zero division error MW-63s\n",
      "zero division error MW-70\n",
      "zero division error MW-86\n",
      "zero division error OW-1\n",
      "zero division error Production Well #1\n",
      "zero division error SI-MW-2\n",
      "zero division error SI-MW-4\n",
      "zero division error SI-MW-5\n",
      "zero division error SI-MW-7\n",
      "zero division error Tributary/Outfall Upstream\n",
      "            Well name       trend      h             p         z       Tau  \\\n",
      "0  110 Parkland Plaza  decreasing   True  2.326843e-10 -6.338055 -0.591195   \n",
      "1          170 Aprill    no trend  False  7.427813e-01 -0.328172 -0.039683   \n",
      "2   175 Jackson Plaza  increasing   True  1.278999e-11  6.770996  0.616541   \n",
      "3         2575 Valley  increasing   True  2.772549e-04  3.635674  0.594737   \n",
      "4      2601 Dexter Rd  increasing   True  7.469328e-03  2.675161  0.722222   \n",
      "\n",
      "       s         var_s      slope   intercept  \n",
      "0 -846.0  17774.666667  -0.200000   12.300000  \n",
      "1  -25.0   5348.333333   0.000000   10.500000  \n",
      "2  984.0  21076.666667  19.795139 -127.263889  \n",
      "3  113.0    949.000000   4.844444   22.477778  \n",
      "4   26.0     87.333333   1.000000   -2.000000  \n"
     ]
    }
   ],
   "source": [
    "grouped = di_time.groupby('Well Name')\n",
    "mk_res = []\n",
    "for name, group in grouped:\n",
    "\n",
    "    try:\n",
    "        data = group.y\n",
    "        trend, h, p, z, Tau, s, var_s, slope, intercept = mk.original_test(data)\n",
    "\n",
    "        mk_res.append([name, trend, h, p, z, Tau, s, var_s, slope, intercept])\n",
    "    except ZeroDivisionError:\n",
    "        # print(group)\n",
    "        print(\"zero division error\", name)\n",
    "        # plt.plot(group.ds, group.y)\n",
    "        # plt.show()\n",
    "\n",
    "    except KeyboardInterrupt:\n",
    "        break\n",
    "    except:\n",
    "        print(\"[mk error]\", name)\n",
    "        continue\n",
    "\n",
    "\n",
    "mk_df = pd.DataFrame(mk_res, columns=['Well name', 'trend', 'h', 'p', 'z', 'Tau', 's', 'var_s','slope' , 'intercept'])\n",
    "print(mk_df.head(5))\n",
    "mk_df.to_csv(\"../result/mannkendall.csv\", index = False, header=True)"
   ],
   "metadata": {
    "collapsed": false,
    "pycharm": {
     "name": "#%%\n"
    }
   }
  }
 ],
 "metadata": {
  "kernelspec": {
   "display_name": "Python 3",
   "language": "python",
   "name": "python3"
  },
  "language_info": {
   "codemirror_mode": {
    "name": "ipython",
    "version": 2
   },
   "file_extension": ".py",
   "mimetype": "text/x-python",
   "name": "python",
   "nbconvert_exporter": "python",
   "pygments_lexer": "ipython2",
   "version": "2.7.6"
  }
 },
 "nbformat": 4,
 "nbformat_minor": 0
}