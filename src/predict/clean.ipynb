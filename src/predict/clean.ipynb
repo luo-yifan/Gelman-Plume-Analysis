{
 "cells": [
  {
   "cell_type": "code",
   "execution_count": 1,
   "metadata": {
    "collapsed": true
   },
   "outputs": [],
   "source": [
    "import itertools\n",
    "import pandas as pd\n",
    "import matplotlib.pyplot as plt\n",
    "import numpy as np\n",
    "from fbprophet import Prophet\n",
    "import pymannkendall as mk\n",
    "from sktime.datasets import load_airline\n",
    "from sktime.forecasting.base import ForecastingHorizon\n",
    "from sktime.forecasting.model_selection import temporal_train_test_split\n",
    "from sktime.forecasting.theta import ThetaForecaster\n",
    "from sktime.utils.plotting import plot_series"
   ]
  },
  {
   "cell_type": "code",
   "execution_count": 2,
   "metadata": {
    "pycharm": {
     "name": "#%%\n"
    }
   },
   "outputs": [
    {
     "ename": "KeyboardInterrupt",
     "evalue": "",
     "output_type": "error",
     "traceback": [
      "\u001B[0;31m---------------------------------------------------------------------------\u001B[0m",
      "\u001B[0;31mKeyboardInterrupt\u001B[0m                         Traceback (most recent call last)",
      "\u001B[0;32m<ipython-input-2-2fdeefe7a0b2>\u001B[0m in \u001B[0;36m<module>\u001B[0;34m\u001B[0m\n\u001B[0;32m----> 1\u001B[0;31m \u001B[0mwell_data\u001B[0m \u001B[0;34m=\u001B[0m \u001B[0mpd\u001B[0m\u001B[0;34m.\u001B[0m\u001B[0mread_excel\u001B[0m\u001B[0;34m(\u001B[0m\u001B[0;34m'../data/Data-Wells.xlsx'\u001B[0m\u001B[0;34m)\u001B[0m\u001B[0;34m\u001B[0m\u001B[0;34m\u001B[0m\u001B[0m\n\u001B[0m\u001B[1;32m      2\u001B[0m \u001B[0;34m\u001B[0m\u001B[0m\n\u001B[1;32m      3\u001B[0m \u001B[0mwell_data\u001B[0m\u001B[0;34m.\u001B[0m\u001B[0mhead\u001B[0m\u001B[0;34m(\u001B[0m\u001B[0;36m10\u001B[0m\u001B[0;34m)\u001B[0m\u001B[0;34m\u001B[0m\u001B[0;34m\u001B[0m\u001B[0m\n\u001B[1;32m      4\u001B[0m \u001B[0;34m\u001B[0m\u001B[0m\n",
      "\u001B[0;32m~/.virtualenvs/Gelman-Plume-Analysis/lib/python3.7/site-packages/pandas/util/_decorators.py\u001B[0m in \u001B[0;36mwrapper\u001B[0;34m(*args, **kwargs)\u001B[0m\n\u001B[1;32m    297\u001B[0m                 )\n\u001B[1;32m    298\u001B[0m                 \u001B[0mwarnings\u001B[0m\u001B[0;34m.\u001B[0m\u001B[0mwarn\u001B[0m\u001B[0;34m(\u001B[0m\u001B[0mmsg\u001B[0m\u001B[0;34m,\u001B[0m \u001B[0mFutureWarning\u001B[0m\u001B[0;34m,\u001B[0m \u001B[0mstacklevel\u001B[0m\u001B[0;34m=\u001B[0m\u001B[0mstacklevel\u001B[0m\u001B[0;34m)\u001B[0m\u001B[0;34m\u001B[0m\u001B[0;34m\u001B[0m\u001B[0m\n\u001B[0;32m--> 299\u001B[0;31m             \u001B[0;32mreturn\u001B[0m \u001B[0mfunc\u001B[0m\u001B[0;34m(\u001B[0m\u001B[0;34m*\u001B[0m\u001B[0margs\u001B[0m\u001B[0;34m,\u001B[0m \u001B[0;34m**\u001B[0m\u001B[0mkwargs\u001B[0m\u001B[0;34m)\u001B[0m\u001B[0;34m\u001B[0m\u001B[0;34m\u001B[0m\u001B[0m\n\u001B[0m\u001B[1;32m    300\u001B[0m \u001B[0;34m\u001B[0m\u001B[0m\n\u001B[1;32m    301\u001B[0m         \u001B[0;32mreturn\u001B[0m \u001B[0mwrapper\u001B[0m\u001B[0;34m\u001B[0m\u001B[0;34m\u001B[0m\u001B[0m\n",
      "\u001B[0;32m~/.virtualenvs/Gelman-Plume-Analysis/lib/python3.7/site-packages/pandas/io/excel/_base.py\u001B[0m in \u001B[0;36mread_excel\u001B[0;34m(io, sheet_name, header, names, index_col, usecols, squeeze, dtype, engine, converters, true_values, false_values, skiprows, nrows, na_values, keep_default_na, na_filter, verbose, parse_dates, date_parser, thousands, comment, skipfooter, convert_float, mangle_dupe_cols, storage_options)\u001B[0m\n\u001B[1;32m    365\u001B[0m             \u001B[0mskipfooter\u001B[0m\u001B[0;34m=\u001B[0m\u001B[0mskipfooter\u001B[0m\u001B[0;34m,\u001B[0m\u001B[0;34m\u001B[0m\u001B[0;34m\u001B[0m\u001B[0m\n\u001B[1;32m    366\u001B[0m             \u001B[0mconvert_float\u001B[0m\u001B[0;34m=\u001B[0m\u001B[0mconvert_float\u001B[0m\u001B[0;34m,\u001B[0m\u001B[0;34m\u001B[0m\u001B[0;34m\u001B[0m\u001B[0m\n\u001B[0;32m--> 367\u001B[0;31m             \u001B[0mmangle_dupe_cols\u001B[0m\u001B[0;34m=\u001B[0m\u001B[0mmangle_dupe_cols\u001B[0m\u001B[0;34m,\u001B[0m\u001B[0;34m\u001B[0m\u001B[0;34m\u001B[0m\u001B[0m\n\u001B[0m\u001B[1;32m    368\u001B[0m         )\n\u001B[1;32m    369\u001B[0m     \u001B[0;32mfinally\u001B[0m\u001B[0;34m:\u001B[0m\u001B[0;34m\u001B[0m\u001B[0;34m\u001B[0m\u001B[0m\n",
      "\u001B[0;32m~/.virtualenvs/Gelman-Plume-Analysis/lib/python3.7/site-packages/pandas/io/excel/_base.py\u001B[0m in \u001B[0;36mparse\u001B[0;34m(self, sheet_name, header, names, index_col, usecols, squeeze, converters, true_values, false_values, skiprows, nrows, na_values, parse_dates, date_parser, thousands, comment, skipfooter, convert_float, mangle_dupe_cols, **kwds)\u001B[0m\n\u001B[1;32m   1188\u001B[0m             \u001B[0mconvert_float\u001B[0m\u001B[0;34m=\u001B[0m\u001B[0mconvert_float\u001B[0m\u001B[0;34m,\u001B[0m\u001B[0;34m\u001B[0m\u001B[0;34m\u001B[0m\u001B[0m\n\u001B[1;32m   1189\u001B[0m             \u001B[0mmangle_dupe_cols\u001B[0m\u001B[0;34m=\u001B[0m\u001B[0mmangle_dupe_cols\u001B[0m\u001B[0;34m,\u001B[0m\u001B[0;34m\u001B[0m\u001B[0;34m\u001B[0m\u001B[0m\n\u001B[0;32m-> 1190\u001B[0;31m             \u001B[0;34m**\u001B[0m\u001B[0mkwds\u001B[0m\u001B[0;34m,\u001B[0m\u001B[0;34m\u001B[0m\u001B[0;34m\u001B[0m\u001B[0m\n\u001B[0m\u001B[1;32m   1191\u001B[0m         )\n\u001B[1;32m   1192\u001B[0m \u001B[0;34m\u001B[0m\u001B[0m\n",
      "\u001B[0;32m~/.virtualenvs/Gelman-Plume-Analysis/lib/python3.7/site-packages/pandas/io/excel/_base.py\u001B[0m in \u001B[0;36mparse\u001B[0;34m(self, sheet_name, header, names, index_col, usecols, squeeze, dtype, true_values, false_values, skiprows, nrows, na_values, verbose, parse_dates, date_parser, thousands, comment, skipfooter, convert_float, mangle_dupe_cols, **kwds)\u001B[0m\n\u001B[1;32m    490\u001B[0m                 \u001B[0msheet\u001B[0m \u001B[0;34m=\u001B[0m \u001B[0mself\u001B[0m\u001B[0;34m.\u001B[0m\u001B[0mget_sheet_by_index\u001B[0m\u001B[0;34m(\u001B[0m\u001B[0masheetname\u001B[0m\u001B[0;34m)\u001B[0m\u001B[0;34m\u001B[0m\u001B[0;34m\u001B[0m\u001B[0m\n\u001B[1;32m    491\u001B[0m \u001B[0;34m\u001B[0m\u001B[0m\n\u001B[0;32m--> 492\u001B[0;31m             \u001B[0mdata\u001B[0m \u001B[0;34m=\u001B[0m \u001B[0mself\u001B[0m\u001B[0;34m.\u001B[0m\u001B[0mget_sheet_data\u001B[0m\u001B[0;34m(\u001B[0m\u001B[0msheet\u001B[0m\u001B[0;34m,\u001B[0m \u001B[0mconvert_float\u001B[0m\u001B[0;34m)\u001B[0m\u001B[0;34m\u001B[0m\u001B[0;34m\u001B[0m\u001B[0m\n\u001B[0m\u001B[1;32m    493\u001B[0m             \u001B[0musecols\u001B[0m \u001B[0;34m=\u001B[0m \u001B[0mmaybe_convert_usecols\u001B[0m\u001B[0;34m(\u001B[0m\u001B[0musecols\u001B[0m\u001B[0;34m)\u001B[0m\u001B[0;34m\u001B[0m\u001B[0;34m\u001B[0m\u001B[0m\n\u001B[1;32m    494\u001B[0m \u001B[0;34m\u001B[0m\u001B[0m\n",
      "\u001B[0;32m~/.virtualenvs/Gelman-Plume-Analysis/lib/python3.7/site-packages/pandas/io/excel/_openpyxl.py\u001B[0m in \u001B[0;36mget_sheet_data\u001B[0;34m(self, sheet, convert_float)\u001B[0m\n\u001B[1;32m    546\u001B[0m         \u001B[0mdata\u001B[0m\u001B[0;34m:\u001B[0m \u001B[0mList\u001B[0m\u001B[0;34m[\u001B[0m\u001B[0mList\u001B[0m\u001B[0;34m[\u001B[0m\u001B[0mScalar\u001B[0m\u001B[0;34m]\u001B[0m\u001B[0;34m]\u001B[0m \u001B[0;34m=\u001B[0m \u001B[0;34m[\u001B[0m\u001B[0;34m]\u001B[0m\u001B[0;34m\u001B[0m\u001B[0;34m\u001B[0m\u001B[0m\n\u001B[1;32m    547\u001B[0m         \u001B[0mlast_row_with_data\u001B[0m \u001B[0;34m=\u001B[0m \u001B[0;34m-\u001B[0m\u001B[0;36m1\u001B[0m\u001B[0;34m\u001B[0m\u001B[0;34m\u001B[0m\u001B[0m\n\u001B[0;32m--> 548\u001B[0;31m         \u001B[0;32mfor\u001B[0m \u001B[0mrow_number\u001B[0m\u001B[0;34m,\u001B[0m \u001B[0mrow\u001B[0m \u001B[0;32min\u001B[0m \u001B[0menumerate\u001B[0m\u001B[0;34m(\u001B[0m\u001B[0msheet\u001B[0m\u001B[0;34m.\u001B[0m\u001B[0mrows\u001B[0m\u001B[0;34m)\u001B[0m\u001B[0;34m:\u001B[0m\u001B[0;34m\u001B[0m\u001B[0;34m\u001B[0m\u001B[0m\n\u001B[0m\u001B[1;32m    549\u001B[0m             \u001B[0mconverted_row\u001B[0m \u001B[0;34m=\u001B[0m \u001B[0;34m[\u001B[0m\u001B[0mself\u001B[0m\u001B[0;34m.\u001B[0m\u001B[0m_convert_cell\u001B[0m\u001B[0;34m(\u001B[0m\u001B[0mcell\u001B[0m\u001B[0;34m,\u001B[0m \u001B[0mconvert_float\u001B[0m\u001B[0;34m)\u001B[0m \u001B[0;32mfor\u001B[0m \u001B[0mcell\u001B[0m \u001B[0;32min\u001B[0m \u001B[0mrow\u001B[0m\u001B[0;34m]\u001B[0m\u001B[0;34m\u001B[0m\u001B[0;34m\u001B[0m\u001B[0m\n\u001B[1;32m    550\u001B[0m             \u001B[0;32mif\u001B[0m \u001B[0;32mnot\u001B[0m \u001B[0mall\u001B[0m\u001B[0;34m(\u001B[0m\u001B[0mcell\u001B[0m \u001B[0;34m==\u001B[0m \u001B[0;34m\"\"\u001B[0m \u001B[0;32mfor\u001B[0m \u001B[0mcell\u001B[0m \u001B[0;32min\u001B[0m \u001B[0mconverted_row\u001B[0m\u001B[0;34m)\u001B[0m\u001B[0;34m:\u001B[0m\u001B[0;34m\u001B[0m\u001B[0;34m\u001B[0m\u001B[0m\n",
      "\u001B[0;32m~/.virtualenvs/Gelman-Plume-Analysis/lib/python3.7/site-packages/openpyxl/worksheet/_read_only.py\u001B[0m in \u001B[0;36m_cells_by_row\u001B[0;34m(self, min_col, min_row, max_col, max_row, values_only)\u001B[0m\n\u001B[1;32m     77\u001B[0m                                  \u001B[0mdata_only\u001B[0m\u001B[0;34m=\u001B[0m\u001B[0mself\u001B[0m\u001B[0;34m.\u001B[0m\u001B[0mparent\u001B[0m\u001B[0;34m.\u001B[0m\u001B[0mdata_only\u001B[0m\u001B[0;34m,\u001B[0m \u001B[0mepoch\u001B[0m\u001B[0;34m=\u001B[0m\u001B[0mself\u001B[0m\u001B[0;34m.\u001B[0m\u001B[0mparent\u001B[0m\u001B[0;34m.\u001B[0m\u001B[0mepoch\u001B[0m\u001B[0;34m,\u001B[0m\u001B[0;34m\u001B[0m\u001B[0;34m\u001B[0m\u001B[0m\n\u001B[1;32m     78\u001B[0m                                  date_formats=self.parent._date_formats)\n\u001B[0;32m---> 79\u001B[0;31m         \u001B[0;32mfor\u001B[0m \u001B[0midx\u001B[0m\u001B[0;34m,\u001B[0m \u001B[0mrow\u001B[0m \u001B[0;32min\u001B[0m \u001B[0mparser\u001B[0m\u001B[0;34m.\u001B[0m\u001B[0mparse\u001B[0m\u001B[0;34m(\u001B[0m\u001B[0;34m)\u001B[0m\u001B[0;34m:\u001B[0m\u001B[0;34m\u001B[0m\u001B[0;34m\u001B[0m\u001B[0m\n\u001B[0m\u001B[1;32m     80\u001B[0m             \u001B[0;32mif\u001B[0m \u001B[0mmax_row\u001B[0m \u001B[0;32mis\u001B[0m \u001B[0;32mnot\u001B[0m \u001B[0;32mNone\u001B[0m \u001B[0;32mand\u001B[0m \u001B[0midx\u001B[0m \u001B[0;34m>\u001B[0m \u001B[0mmax_row\u001B[0m\u001B[0;34m:\u001B[0m\u001B[0;34m\u001B[0m\u001B[0;34m\u001B[0m\u001B[0m\n\u001B[1;32m     81\u001B[0m                 \u001B[0;32mbreak\u001B[0m\u001B[0;34m\u001B[0m\u001B[0;34m\u001B[0m\u001B[0m\n",
      "\u001B[0;32m~/.virtualenvs/Gelman-Plume-Analysis/lib/python3.7/site-packages/openpyxl/worksheet/_reader.py\u001B[0m in \u001B[0;36mparse\u001B[0;34m(self)\u001B[0m\n\u001B[1;32m    142\u001B[0m         \u001B[0mit\u001B[0m \u001B[0;34m=\u001B[0m \u001B[0miterparse\u001B[0m\u001B[0;34m(\u001B[0m\u001B[0mself\u001B[0m\u001B[0;34m.\u001B[0m\u001B[0msource\u001B[0m\u001B[0;34m)\u001B[0m \u001B[0;31m# add a finaliser to close the source when this becomes possible\u001B[0m\u001B[0;34m\u001B[0m\u001B[0;34m\u001B[0m\u001B[0m\n\u001B[1;32m    143\u001B[0m \u001B[0;34m\u001B[0m\u001B[0m\n\u001B[0;32m--> 144\u001B[0;31m         \u001B[0;32mfor\u001B[0m \u001B[0m_\u001B[0m\u001B[0;34m,\u001B[0m \u001B[0melement\u001B[0m \u001B[0;32min\u001B[0m \u001B[0mit\u001B[0m\u001B[0;34m:\u001B[0m\u001B[0;34m\u001B[0m\u001B[0;34m\u001B[0m\u001B[0m\n\u001B[0m\u001B[1;32m    145\u001B[0m             \u001B[0mtag_name\u001B[0m \u001B[0;34m=\u001B[0m \u001B[0melement\u001B[0m\u001B[0;34m.\u001B[0m\u001B[0mtag\u001B[0m\u001B[0;34m\u001B[0m\u001B[0;34m\u001B[0m\u001B[0m\n\u001B[1;32m    146\u001B[0m             \u001B[0;32mif\u001B[0m \u001B[0mtag_name\u001B[0m \u001B[0;32min\u001B[0m \u001B[0mdispatcher\u001B[0m\u001B[0;34m:\u001B[0m\u001B[0;34m\u001B[0m\u001B[0;34m\u001B[0m\u001B[0m\n",
      "\u001B[0;32m/usr/local/Cellar/python/3.7.6_1/Frameworks/Python.framework/Versions/3.7/lib/python3.7/xml/etree/ElementTree.py\u001B[0m in \u001B[0;36miterator\u001B[0;34m()\u001B[0m\n\u001B[1;32m   1225\u001B[0m                 \u001B[0;32mif\u001B[0m \u001B[0;32mnot\u001B[0m \u001B[0mdata\u001B[0m\u001B[0;34m:\u001B[0m\u001B[0;34m\u001B[0m\u001B[0;34m\u001B[0m\u001B[0m\n\u001B[1;32m   1226\u001B[0m                     \u001B[0;32mbreak\u001B[0m\u001B[0;34m\u001B[0m\u001B[0;34m\u001B[0m\u001B[0m\n\u001B[0;32m-> 1227\u001B[0;31m                 \u001B[0mpullparser\u001B[0m\u001B[0;34m.\u001B[0m\u001B[0mfeed\u001B[0m\u001B[0;34m(\u001B[0m\u001B[0mdata\u001B[0m\u001B[0;34m)\u001B[0m\u001B[0;34m\u001B[0m\u001B[0;34m\u001B[0m\u001B[0m\n\u001B[0m\u001B[1;32m   1228\u001B[0m             \u001B[0mroot\u001B[0m \u001B[0;34m=\u001B[0m \u001B[0mpullparser\u001B[0m\u001B[0;34m.\u001B[0m\u001B[0m_close_and_return_root\u001B[0m\u001B[0;34m(\u001B[0m\u001B[0;34m)\u001B[0m\u001B[0;34m\u001B[0m\u001B[0;34m\u001B[0m\u001B[0m\n\u001B[1;32m   1229\u001B[0m             \u001B[0;32myield\u001B[0m \u001B[0;32mfrom\u001B[0m \u001B[0mpullparser\u001B[0m\u001B[0;34m.\u001B[0m\u001B[0mread_events\u001B[0m\u001B[0;34m(\u001B[0m\u001B[0;34m)\u001B[0m\u001B[0;34m\u001B[0m\u001B[0;34m\u001B[0m\u001B[0m\n",
      "\u001B[0;32m/usr/local/Cellar/python/3.7.6_1/Frameworks/Python.framework/Versions/3.7/lib/python3.7/xml/etree/ElementTree.py\u001B[0m in \u001B[0;36mfeed\u001B[0;34m(self, data)\u001B[0m\n\u001B[1;32m   1267\u001B[0m         \u001B[0;32mif\u001B[0m \u001B[0mdata\u001B[0m\u001B[0;34m:\u001B[0m\u001B[0;34m\u001B[0m\u001B[0;34m\u001B[0m\u001B[0m\n\u001B[1;32m   1268\u001B[0m             \u001B[0;32mtry\u001B[0m\u001B[0;34m:\u001B[0m\u001B[0;34m\u001B[0m\u001B[0;34m\u001B[0m\u001B[0m\n\u001B[0;32m-> 1269\u001B[0;31m                 \u001B[0mself\u001B[0m\u001B[0;34m.\u001B[0m\u001B[0m_parser\u001B[0m\u001B[0;34m.\u001B[0m\u001B[0mfeed\u001B[0m\u001B[0;34m(\u001B[0m\u001B[0mdata\u001B[0m\u001B[0;34m)\u001B[0m\u001B[0;34m\u001B[0m\u001B[0;34m\u001B[0m\u001B[0m\n\u001B[0m\u001B[1;32m   1270\u001B[0m             \u001B[0;32mexcept\u001B[0m \u001B[0mSyntaxError\u001B[0m \u001B[0;32mas\u001B[0m \u001B[0mexc\u001B[0m\u001B[0;34m:\u001B[0m\u001B[0;34m\u001B[0m\u001B[0;34m\u001B[0m\u001B[0m\n\u001B[1;32m   1271\u001B[0m                 \u001B[0mself\u001B[0m\u001B[0;34m.\u001B[0m\u001B[0m_events_queue\u001B[0m\u001B[0;34m.\u001B[0m\u001B[0mappend\u001B[0m\u001B[0;34m(\u001B[0m\u001B[0mexc\u001B[0m\u001B[0;34m)\u001B[0m\u001B[0;34m\u001B[0m\u001B[0;34m\u001B[0m\u001B[0m\n",
      "\u001B[0;32m/usr/local/Cellar/python/3.7.6_1/Frameworks/Python.framework/Versions/3.7/lib/python3.7/xml/etree/ElementTree.py\u001B[0m in \u001B[0;36mfeed\u001B[0;34m(self, data)\u001B[0m\n\u001B[1;32m   1628\u001B[0m         \u001B[0;34m\"\"\"Feed encoded data to parser.\"\"\"\u001B[0m\u001B[0;34m\u001B[0m\u001B[0;34m\u001B[0m\u001B[0m\n\u001B[1;32m   1629\u001B[0m         \u001B[0;32mtry\u001B[0m\u001B[0;34m:\u001B[0m\u001B[0;34m\u001B[0m\u001B[0;34m\u001B[0m\u001B[0m\n\u001B[0;32m-> 1630\u001B[0;31m             \u001B[0mself\u001B[0m\u001B[0;34m.\u001B[0m\u001B[0mparser\u001B[0m\u001B[0;34m.\u001B[0m\u001B[0mParse\u001B[0m\u001B[0;34m(\u001B[0m\u001B[0mdata\u001B[0m\u001B[0;34m,\u001B[0m \u001B[0;36m0\u001B[0m\u001B[0;34m)\u001B[0m\u001B[0;34m\u001B[0m\u001B[0;34m\u001B[0m\u001B[0m\n\u001B[0m\u001B[1;32m   1631\u001B[0m         \u001B[0;32mexcept\u001B[0m \u001B[0mself\u001B[0m\u001B[0;34m.\u001B[0m\u001B[0m_error\u001B[0m \u001B[0;32mas\u001B[0m \u001B[0mv\u001B[0m\u001B[0;34m:\u001B[0m\u001B[0;34m\u001B[0m\u001B[0;34m\u001B[0m\u001B[0m\n\u001B[1;32m   1632\u001B[0m             \u001B[0mself\u001B[0m\u001B[0;34m.\u001B[0m\u001B[0m_raiseerror\u001B[0m\u001B[0;34m(\u001B[0m\u001B[0mv\u001B[0m\u001B[0;34m)\u001B[0m\u001B[0;34m\u001B[0m\u001B[0;34m\u001B[0m\u001B[0m\n",
      "\u001B[0;32m/private/tmp/python-20191230-1464-1o7r8ok/Python-3.7.6/Modules/pyexpat.c\u001B[0m in \u001B[0;36mStartElement\u001B[0;34m()\u001B[0m\n",
      "\u001B[0;32m/usr/local/Cellar/python/3.7.6_1/Frameworks/Python.framework/Versions/3.7/lib/python3.7/xml/etree/ElementTree.py\u001B[0m in \u001B[0;36m_start\u001B[0;34m(self, tag, attr_list)\u001B[0m\n\u001B[1;32m   1550\u001B[0m         \u001B[0mattrib\u001B[0m \u001B[0;34m=\u001B[0m \u001B[0;34m{\u001B[0m\u001B[0;34m}\u001B[0m\u001B[0;34m\u001B[0m\u001B[0;34m\u001B[0m\u001B[0m\n\u001B[1;32m   1551\u001B[0m         \u001B[0;32mif\u001B[0m \u001B[0mattr_list\u001B[0m\u001B[0;34m:\u001B[0m\u001B[0;34m\u001B[0m\u001B[0;34m\u001B[0m\u001B[0m\n\u001B[0;32m-> 1552\u001B[0;31m             \u001B[0;32mfor\u001B[0m \u001B[0mi\u001B[0m \u001B[0;32min\u001B[0m \u001B[0mrange\u001B[0m\u001B[0;34m(\u001B[0m\u001B[0;36m0\u001B[0m\u001B[0;34m,\u001B[0m \u001B[0mlen\u001B[0m\u001B[0;34m(\u001B[0m\u001B[0mattr_list\u001B[0m\u001B[0;34m)\u001B[0m\u001B[0;34m,\u001B[0m \u001B[0;36m2\u001B[0m\u001B[0;34m)\u001B[0m\u001B[0;34m:\u001B[0m\u001B[0;34m\u001B[0m\u001B[0;34m\u001B[0m\u001B[0m\n\u001B[0m\u001B[1;32m   1553\u001B[0m                 \u001B[0mattrib\u001B[0m\u001B[0;34m[\u001B[0m\u001B[0mfixname\u001B[0m\u001B[0;34m(\u001B[0m\u001B[0mattr_list\u001B[0m\u001B[0;34m[\u001B[0m\u001B[0mi\u001B[0m\u001B[0;34m]\u001B[0m\u001B[0;34m)\u001B[0m\u001B[0;34m]\u001B[0m \u001B[0;34m=\u001B[0m \u001B[0mattr_list\u001B[0m\u001B[0;34m[\u001B[0m\u001B[0mi\u001B[0m\u001B[0;34m+\u001B[0m\u001B[0;36m1\u001B[0m\u001B[0;34m]\u001B[0m\u001B[0;34m\u001B[0m\u001B[0;34m\u001B[0m\u001B[0m\n\u001B[1;32m   1554\u001B[0m         \u001B[0;32mreturn\u001B[0m \u001B[0mself\u001B[0m\u001B[0;34m.\u001B[0m\u001B[0mtarget\u001B[0m\u001B[0;34m.\u001B[0m\u001B[0mstart\u001B[0m\u001B[0;34m(\u001B[0m\u001B[0mtag\u001B[0m\u001B[0;34m,\u001B[0m \u001B[0mattrib\u001B[0m\u001B[0;34m)\u001B[0m\u001B[0;34m\u001B[0m\u001B[0;34m\u001B[0m\u001B[0m\n",
      "\u001B[0;31mKeyboardInterrupt\u001B[0m: "
     ]
    }
   ],
   "source": [
    "well_data = pd.read_excel('../data/Data-Wells.xlsx')\n",
    "\n",
    "well_data.head(10)"
   ]
  },
  {
   "cell_type": "code",
   "execution_count": null,
   "metadata": {
    "pycharm": {
     "name": "#%%\n"
    }
   },
   "outputs": [],
   "source": [
    "well_data.head(10)\n",
    "\n",
    "rm_nd = well_data.loc[well_data['1,4-Dioxane Results (ppb)'] != 'nd'].copy()\n",
    "\n",
    "rm_capital_nd = rm_nd.loc[rm_nd['1,4-Dioxane Results (ppb)'] != 'ND'].copy()\n",
    "\n",
    "rm_capital_nd['1,4-Dioxane Results (ppb)'] = rm_capital_nd['1,4-Dioxane Results (ppb)'].map(lambda x: x.replace(',', ''))\n",
    "\n",
    "rm_capital_nd['1,4-Dioxane Results (ppb)'] = rm_capital_nd['1,4-Dioxane Results (ppb)'].map(lambda x: x.replace('<', ''))\n",
    "\n",
    "res = rm_capital_nd\n",
    "res.loc[:, 'ds']= pd.to_datetime(res['Date Sampled'])\n",
    "res.loc[:, 'dioxane_results']= pd.to_numeric(res['1,4-Dioxane Results (ppb)'])\n",
    "res.head(5)"
   ]
  },
  {
   "cell_type": "code",
   "execution_count": null,
   "metadata": {
    "pycharm": {
     "name": "#%%\n"
    }
   },
   "outputs": [],
   "source": [
    "di_time = res.iloc[:, lambda df: df.columns.str.contains('Well Name|ds|dioxane_results',\n",
    "                                              case=False)].copy()\n",
    "di_time.rename(columns = {'dioxane_results':'y'}, inplace = True)\n",
    "di_time.head(20)"
   ]
  },
  {
   "cell_type": "code",
   "execution_count": null,
   "metadata": {
    "pycharm": {
     "name": "#%%\n"
    }
   },
   "outputs": [],
   "source": [
    "from fbprophet.plot import plot_plotly, plot_components_plotly\n",
    "import plotly.offline as py\n",
    "import plotly.graph_objs as go\n",
    "\n",
    "IS_DEBUG = False\n",
    "\n",
    "py.init_notebook_mode()\n",
    "\n",
    "grouped = di_time.groupby('Well Name')\n",
    "count = 1\n",
    "n_rows = 2\n",
    "n_cols = 1\n",
    "fig = plt.figure(figsize=(5*n_cols, 5*n_rows))\n",
    "\n",
    "mk_res = []\n",
    "\n",
    "print(len(grouped))\n",
    "\n",
    "for name, group in grouped:\n",
    "    # if count > n_rows:\n",
    "    #     break\n",
    "    if len(group) < 150:\n",
    "        continue\n",
    "\n",
    "    max_value = group['y'].max()\n",
    "    if IS_DEBUG:\n",
    "        print(max_value)\n",
    "        print(name)\n",
    "        print(group)\n",
    "    test = group\n",
    "\n",
    "    test['cap'] = max_value\n",
    "    test['floor'] = 0\n",
    "    model = Prophet(growth = 'logistic')\n",
    "    # fit the model\n",
    "    model.fit(test)\n",
    "\n",
    "    future = model.make_future_dataframe(periods=1826)\n",
    "    future['cap'] = max_value\n",
    "    future['floor'] = 0\n",
    "\n",
    "    # use the model to make a forecast\n",
    "    forecast = model.predict(future)\n",
    "    # summarize the forecast\n",
    "    if IS_DEBUG:\n",
    "        print(\"forecast:\")\n",
    "        print(forecast[['ds', 'yhat']].head())\n",
    "    # plot forecast\n",
    "    # model.plot(forecast)\n",
    "\n",
    "    fig = plot_plotly(model, forecast)  # This returns a plotly Figure\n",
    "    py.iplot(fig)\n",
    "\n",
    "    # Data generation for analysis\n",
    "    data = test.y\n",
    "    trend, h, p, z, Tau, s, var_s, slope, intercept = mk.original_test(data)\n",
    "\n",
    "    mk_res.append([name, trend, h, p, z, Tau, s, var_s, slope, intercept])\n",
    "\n",
    "    count+=1\n",
    "\n",
    "\n",
    "mk_df = pd.DataFrame(mk_res, columns=['Well name', 'trend', 'h', 'p', 'z', 'Tau', 's', 'var_s','slope' , 'intercept'])\n",
    "mk_df"
   ]
  },
  {
   "cell_type": "code",
   "execution_count": null,
   "metadata": {
    "pycharm": {
     "name": "#%%\n"
    }
   },
   "outputs": [],
   "source": [
    "\n",
    "y = load_airline()\n",
    "print(y)\n",
    "y_train, y_test = temporal_train_test_split(y)\n",
    "plot_series(y_train, y_test, labels=[\"y_train\", \"y_test\"])\n",
    "fh = ForecastingHorizon(y_test.index, is_relative=False)\n",
    "forecaster = ThetaForecaster(sp=12)  # monthly seasonal periodicity\n",
    "forecaster.fit(y_train)\n",
    "y_pred = forecaster.predict(fh)\n",
    "plot_series(y_train, y_test, y_pred, labels=[\"y_train\", \"y_test\", \"y_pred\"])\n",
    "type(y)"
   ]
  },
  {
   "cell_type": "code",
   "execution_count": null,
   "metadata": {
    "pycharm": {
     "name": "#%%\n"
    }
   },
   "outputs": [],
   "source": [
    "from sktime.forecasting.compose import (\n",
    "    EnsembleForecaster,\n",
    "    TransformedTargetForecaster,\n",
    "    DirectRegressionForecaster,\n",
    "    ReducedForecaster\n",
    ")\n",
    "from sktime.forecasting.exp_smoothing import ExponentialSmoothing\n",
    "from sklearn.neighbors import KNeighborsRegressor\n",
    "from sktime.forecasting.online_learning import (\n",
    "    NormalHedgeEnsemble,\n",
    "    OnlineEnsembleForecaster,\n",
    ")\n",
    "max_value = di_time[\"y\"].max()\n",
    "# set_index_dt = di_time.set_index(pd.DatetimeIndex(di_time['ds']))\n",
    "\n",
    "grouped = di_time.groupby('Well Name')\n",
    "count = 1\n",
    "n_rows = 2\n",
    "n_cols = 1\n",
    "fig = plt.figure(figsize=(5*n_cols, 5*n_rows))\n",
    "\n",
    "mk_res = []\n",
    "\n",
    "for name, group in grouped:\n",
    "    if count > n_rows:\n",
    "        break\n",
    "    if len(group) < 10:\n",
    "        continue\n",
    "\n",
    "    print(group)\n",
    "    test = group.set_index('ds')['y'].rename_axis(None)\n",
    "    test.index = test.index.to_period(\"M\")\n",
    "    print(test)\n",
    "    print('test',type(test))\n",
    "    y_train, y_test = temporal_train_test_split(test)\n",
    "    print(type(y_test.index))\n",
    "\n",
    "\n",
    "    ses = ExponentialSmoothing(sp=12)\n",
    "    holt = ExponentialSmoothing(trend=\"mul\", damped_trend=False, sp=12)\n",
    "    damped = ExponentialSmoothing(trend=\"mul\", damped_trend=True, sp=12)\n",
    "\n",
    "    hedge_expert = NormalHedgeEnsemble(n_estimators=3)\n",
    "    forecaster = OnlineEnsembleForecaster(\n",
    "    [\n",
    "        (\"ses\", ses),\n",
    "        (\"holt\", holt),\n",
    "        (\"damped\", damped),\n",
    "    ],\n",
    "    ensemble_algorithm=hedge_expert,\n",
    "    )\n",
    "\n",
    "    forecaster.fit(y_train)\n",
    "    y_pred = forecaster.update_predict(y_test)\n",
    "    plot_series(y_train, y_test, y_pred, labels=[\"y_train\", \"y_test\", \"y_pred\"])\n",
    "    count+=1"
   ]
  },
  {
   "cell_type": "code",
   "execution_count": null,
   "metadata": {
    "pycharm": {
     "name": "#%%\n"
    }
   },
   "outputs": [],
   "source": [
    "a = 1\n",
    "a"
   ]
  },
  {
   "cell_type": "code",
   "execution_count": null,
   "metadata": {
    "pycharm": {
     "name": "#%%\n"
    }
   },
   "outputs": [],
   "source": [
    "\n",
    "from fbprophet.plot import plot_plotly, plot_components_plotly\n",
    "import plotly.offline as py\n",
    "import plotly.graph_objs as go\n",
    "\n",
    "IS_DEBUG = False\n",
    "\n",
    "py.init_notebook_mode()\n",
    "\n",
    "grouped = di_time.groupby('Well Name')\n",
    "count = 1\n",
    "n_rows = 2\n",
    "n_cols = 1\n",
    "fig = plt.figure(figsize=(5*n_cols, 5*n_rows))\n",
    "\n",
    "mk_res = []\n",
    "\n",
    "print(len(grouped))\n",
    "\n",
    "for name, group in grouped:\n",
    "    # if count > n_rows:\n",
    "    #     break\n",
    "    if len(group) < 150:\n",
    "        continue\n",
    "\n",
    "    max_value = group['y'].max()\n",
    "    if IS_DEBUG:\n",
    "        print(max_value)\n",
    "        print(name)\n",
    "        print(group)\n",
    "    test = group\n",
    "\n",
    "    test['cap'] = max_value\n",
    "    test['floor'] = 0\n",
    "    model = Prophet(growth = 'logistic', daily_seasonality = False, weekly_seasonality = False,\n",
    "                    yearly_seasonality =  False)\n",
    "    # fit the model\n",
    "    model.fit(test)\n",
    "\n",
    "    future = model.make_future_dataframe(periods=1826)\n",
    "    future['cap'] = max_value\n",
    "    future['floor'] = 0\n",
    "\n",
    "    # use the model to make a forecast\n",
    "    forecast = model.predict(future)\n",
    "    # summarize the forecast\n",
    "    if IS_DEBUG:\n",
    "        print(\"forecast:\")\n",
    "        print(forecast[['ds', 'yhat']].head())\n",
    "    # plot forecast\n",
    "    # model.plot(forecast)\n",
    "\n",
    "    fig = plot_plotly(model, forecast)  # This returns a plotly Figure\n",
    "    py.iplot(fig)\n",
    "\n",
    "    # Data generation for analysis\n",
    "    data = test.y\n",
    "    trend, h, p, z, Tau, s, var_s, slope, intercept = mk.original_test(data)\n",
    "\n",
    "    mk_res.append([name, trend, h, p, z, Tau, s, var_s, slope, intercept])\n",
    "\n",
    "    count+=1\n",
    "\n",
    "\n",
    "mk_df = pd.DataFrame(mk_res, columns=['Well name', 'trend', 'h', 'p', 'z', 'Tau', 's', 'var_s','slope' , 'intercept'])\n",
    "mk_df\n",
    "\n"
   ]
  }
 ],
 "metadata": {
  "kernelspec": {
   "display_name": "Python 3",
   "language": "python",
   "name": "python3"
  },
  "language_info": {
   "codemirror_mode": {
    "name": "ipython",
    "version": 3
   },
   "file_extension": ".py",
   "mimetype": "text/x-python",
   "name": "python",
   "nbconvert_exporter": "python",
   "pygments_lexer": "ipython3",
   "version": "3.7.6"
  },
  "widgets": {
   "application/vnd.jupyter.widget-state+json": {
    "state": {},
    "version_major": 2,
    "version_minor": 0
   }
  }
 },
 "nbformat": 4,
 "nbformat_minor": 1
}