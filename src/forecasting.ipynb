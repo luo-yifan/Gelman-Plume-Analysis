{
 "cells": [
  {
   "cell_type": "code",
   "execution_count": 1,
   "outputs": [],
   "source": [
    "import pandas as pd"
   ],
   "metadata": {
    "collapsed": false,
    "pycharm": {
     "name": "#%%\n"
    }
   }
  },
  {
   "cell_type": "code",
   "execution_count": 6,
   "metadata": {
    "collapsed": true
   },
   "outputs": [],
   "source": [
    "name = 'MW-37'\n",
    "well_data = pd.read_csv('../result/ori/rm5_parallel_test/cache/' + name + '/data.csv')\n",
    "well_pred = pd.read_csv('../result/ori/rm5_parallel_test/cache/' + name + '/predict.csv')"
   ]
  },
  {
   "cell_type": "code",
   "execution_count": 7,
   "outputs": [
    {
     "data": {
      "text/plain": "          Date        y\n0   1992-09-04  29000.0\n1   1993-03-04  34700.0\n2   1993-11-22  30000.0\n3   1995-10-31  24500.0\n4   1996-04-02  32000.0\n..         ...      ...\n73  2015-01-23    300.0\n74  2015-05-13    310.0\n75  2015-07-29    270.0\n76  2015-10-22    280.0\n77  2015-11-10    290.0\n\n[78 rows x 2 columns]",
      "text/html": "<div>\n<style scoped>\n    .dataframe tbody tr th:only-of-type {\n        vertical-align: middle;\n    }\n\n    .dataframe tbody tr th {\n        vertical-align: top;\n    }\n\n    .dataframe thead th {\n        text-align: right;\n    }\n</style>\n<table border=\"1\" class=\"dataframe\">\n  <thead>\n    <tr style=\"text-align: right;\">\n      <th></th>\n      <th>Date</th>\n      <th>y</th>\n    </tr>\n  </thead>\n  <tbody>\n    <tr>\n      <th>0</th>\n      <td>1992-09-04</td>\n      <td>29000.0</td>\n    </tr>\n    <tr>\n      <th>1</th>\n      <td>1993-03-04</td>\n      <td>34700.0</td>\n    </tr>\n    <tr>\n      <th>2</th>\n      <td>1993-11-22</td>\n      <td>30000.0</td>\n    </tr>\n    <tr>\n      <th>3</th>\n      <td>1995-10-31</td>\n      <td>24500.0</td>\n    </tr>\n    <tr>\n      <th>4</th>\n      <td>1996-04-02</td>\n      <td>32000.0</td>\n    </tr>\n    <tr>\n      <th>...</th>\n      <td>...</td>\n      <td>...</td>\n    </tr>\n    <tr>\n      <th>73</th>\n      <td>2015-01-23</td>\n      <td>300.0</td>\n    </tr>\n    <tr>\n      <th>74</th>\n      <td>2015-05-13</td>\n      <td>310.0</td>\n    </tr>\n    <tr>\n      <th>75</th>\n      <td>2015-07-29</td>\n      <td>270.0</td>\n    </tr>\n    <tr>\n      <th>76</th>\n      <td>2015-10-22</td>\n      <td>280.0</td>\n    </tr>\n    <tr>\n      <th>77</th>\n      <td>2015-11-10</td>\n      <td>290.0</td>\n    </tr>\n  </tbody>\n</table>\n<p>78 rows × 2 columns</p>\n</div>"
     },
     "execution_count": 7,
     "metadata": {},
     "output_type": "execute_result"
    }
   ],
   "source": [
    "well_data"
   ],
   "metadata": {
    "collapsed": false,
    "pycharm": {
     "name": "#%%\n"
    }
   }
  },
  {
   "cell_type": "code",
   "execution_count": 12,
   "outputs": [
    {
     "data": {
      "text/plain": "         Date             y\n0  2016-12-31  3.668104e+04\n1  2017-12-31  2.641072e+05\n2  2018-12-31  1.161745e+07\n3  2019-12-31  2.313526e+10\n4  2020-12-31  9.258934e+16",
      "text/html": "<div>\n<style scoped>\n    .dataframe tbody tr th:only-of-type {\n        vertical-align: middle;\n    }\n\n    .dataframe tbody tr th {\n        vertical-align: top;\n    }\n\n    .dataframe thead th {\n        text-align: right;\n    }\n</style>\n<table border=\"1\" class=\"dataframe\">\n  <thead>\n    <tr style=\"text-align: right;\">\n      <th></th>\n      <th>Date</th>\n      <th>y</th>\n    </tr>\n  </thead>\n  <tbody>\n    <tr>\n      <th>0</th>\n      <td>2016-12-31</td>\n      <td>3.668104e+04</td>\n    </tr>\n    <tr>\n      <th>1</th>\n      <td>2017-12-31</td>\n      <td>2.641072e+05</td>\n    </tr>\n    <tr>\n      <th>2</th>\n      <td>2018-12-31</td>\n      <td>1.161745e+07</td>\n    </tr>\n    <tr>\n      <th>3</th>\n      <td>2019-12-31</td>\n      <td>2.313526e+10</td>\n    </tr>\n    <tr>\n      <th>4</th>\n      <td>2020-12-31</td>\n      <td>9.258934e+16</td>\n    </tr>\n  </tbody>\n</table>\n</div>"
     },
     "execution_count": 12,
     "metadata": {},
     "output_type": "execute_result"
    }
   ],
   "source": [
    "well_pred\n"
   ],
   "metadata": {
    "collapsed": false,
    "pycharm": {
     "name": "#%%\n"
    }
   }
  },
  {
   "cell_type": "code",
   "execution_count": 10,
   "outputs": [],
   "source": [
    "import pymannkendall as mk"
   ],
   "metadata": {
    "collapsed": false,
    "pycharm": {
     "name": "#%%\n"
    }
   }
  },
  {
   "cell_type": "code",
   "execution_count": 13,
   "outputs": [],
   "source": [
    "ori_mk = mk.original_test(well_data['y'])\n",
    "pred_mk = mk.original_test(well_pred['y'])"
   ],
   "metadata": {
    "collapsed": false,
    "pycharm": {
     "name": "#%%\n"
    }
   }
  },
  {
   "cell_type": "code",
   "execution_count": 14,
   "outputs": [
    {
     "data": {
      "text/plain": "Mann_Kendall_Test(trend='decreasing', h=True, p=2.220446049250313e-16, z=-8.241567768004426, Tau=-0.6363636363636364, s=-1911.0, var_s=53709.0, slope=-68.95833333333333, intercept=3103.895833333333)"
     },
     "execution_count": 14,
     "metadata": {},
     "output_type": "execute_result"
    }
   ],
   "source": [
    "ori_mk"
   ],
   "metadata": {
    "collapsed": false,
    "pycharm": {
     "name": "#%%\n"
    }
   }
  },
  {
   "cell_type": "code",
   "execution_count": 15,
   "outputs": [
    {
     "data": {
      "text/plain": "Mann_Kendall_Test(trend='increasing', h=True, p=0.0274863361115103, z=2.2045407685048604, Tau=1.0, s=10.0, var_s=16.666666666666668, slope=17345573238.227547, intercept=-34679529024.78394)"
     },
     "execution_count": 15,
     "metadata": {},
     "output_type": "execute_result"
    }
   ],
   "source": [
    "pred_mk"
   ],
   "metadata": {
    "collapsed": false,
    "pycharm": {
     "name": "#%%\n"
    }
   }
  },
  {
   "cell_type": "code",
   "execution_count": null,
   "outputs": [],
   "source": [
    "import statistics\n",
    "ori =well_data['y']\n",
    "pred = well_pred['y']\n",
    "\n",
    "def validation(ori, pred):\n",
    "    ori_mk = mk.original_test(well_data['y'])\n",
    "    pred_mk = mk.original_test(well_pred['y'])\n",
    "    if ori_mk.h == True and ori_mk.p < 0.05:\n",
    "        if ori_mk.trend == 'decreasing':\n",
    "            if max(ori)*1.5 < max(pred):\n",
    "                return False\n",
    "        else:\n",
    "            if statistics.mean(ori) * 3.0 < statistics.mean(pred):\n",
    "                return False\n",
    "    else:\n",
    "        if statistics.mean(ori) * 10.0 < statistics.mean(pred):\n",
    "                return False\n",
    "    return True"
   ],
   "metadata": {
    "collapsed": false,
    "pycharm": {
     "name": "#%%\n"
    }
   }
  }
 ],
 "metadata": {
  "kernelspec": {
   "display_name": "Python 3",
   "language": "python",
   "name": "python3"
  },
  "language_info": {
   "codemirror_mode": {
    "name": "ipython",
    "version": 2
   },
   "file_extension": ".py",
   "mimetype": "text/x-python",
   "name": "python",
   "nbconvert_exporter": "python",
   "pygments_lexer": "ipython2",
   "version": "2.7.6"
  }
 },
 "nbformat": 4,
 "nbformat_minor": 0
}