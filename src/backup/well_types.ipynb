{
 "cells": [
  {
   "cell_type": "code",
   "execution_count": 1,
   "metadata": {
    "collapsed": true
   },
   "outputs": [],
   "source": [
    "import math\n",
    "import pathlib\n",
    "import os\n",
    "\n",
    "import pandas as pd\n",
    "import numpy as np"
   ]
  },
  {
   "cell_type": "code",
   "execution_count": 2,
   "outputs": [],
   "source": [
    "well_data = pd.read_excel('../data/well_data.xlsx')"
   ],
   "metadata": {
    "collapsed": false,
    "pycharm": {
     "name": "#%%\n"
    }
   }
  },
  {
   "cell_type": "code",
   "execution_count": 19,
   "outputs": [
    {
     "data": {
      "text/plain": "                           Well Name         Well Types\n0                  1021 Westview Way  Residential Wells\n1                  1024 Westview Way  Residential Wells\n2                  1049 Westview Way  Residential Wells\n3                         105 Myrtle  Residential Wells\n4                         105 Myrtle  Residential Wells\n...                              ...                ...\n34361  Weber's Drain 1st Sister Lake  Residential Wells\n34362        Weber's Heat Pump Drain  Residential Wells\n34363        Weber's Heat Pump Drain  Residential Wells\n34364                 West Park Pond      Surface Water\n34365                 West Park Pond      Surface Water\n\n[34366 rows x 2 columns]",
      "text/html": "<div>\n<style scoped>\n    .dataframe tbody tr th:only-of-type {\n        vertical-align: middle;\n    }\n\n    .dataframe tbody tr th {\n        vertical-align: top;\n    }\n\n    .dataframe thead th {\n        text-align: right;\n    }\n</style>\n<table border=\"1\" class=\"dataframe\">\n  <thead>\n    <tr style=\"text-align: right;\">\n      <th></th>\n      <th>Well Name</th>\n      <th>Well Types</th>\n    </tr>\n  </thead>\n  <tbody>\n    <tr>\n      <th>0</th>\n      <td>1021 Westview Way</td>\n      <td>Residential Wells</td>\n    </tr>\n    <tr>\n      <th>1</th>\n      <td>1024 Westview Way</td>\n      <td>Residential Wells</td>\n    </tr>\n    <tr>\n      <th>2</th>\n      <td>1049 Westview Way</td>\n      <td>Residential Wells</td>\n    </tr>\n    <tr>\n      <th>3</th>\n      <td>105 Myrtle</td>\n      <td>Residential Wells</td>\n    </tr>\n    <tr>\n      <th>4</th>\n      <td>105 Myrtle</td>\n      <td>Residential Wells</td>\n    </tr>\n    <tr>\n      <th>...</th>\n      <td>...</td>\n      <td>...</td>\n    </tr>\n    <tr>\n      <th>34361</th>\n      <td>Weber's Drain 1st Sister Lake</td>\n      <td>Residential Wells</td>\n    </tr>\n    <tr>\n      <th>34362</th>\n      <td>Weber's Heat Pump Drain</td>\n      <td>Residential Wells</td>\n    </tr>\n    <tr>\n      <th>34363</th>\n      <td>Weber's Heat Pump Drain</td>\n      <td>Residential Wells</td>\n    </tr>\n    <tr>\n      <th>34364</th>\n      <td>West Park Pond</td>\n      <td>Surface Water</td>\n    </tr>\n    <tr>\n      <th>34365</th>\n      <td>West Park Pond</td>\n      <td>Surface Water</td>\n    </tr>\n  </tbody>\n</table>\n<p>34366 rows × 2 columns</p>\n</div>"
     },
     "execution_count": 19,
     "metadata": {},
     "output_type": "execute_result"
    }
   ],
   "source": [
    "df = well_data[[\"Well Name\",\"Well Types\"]]\n",
    "df"
   ],
   "metadata": {
    "collapsed": false,
    "pycharm": {
     "name": "#%%\n"
    }
   }
  },
  {
   "cell_type": "code",
   "execution_count": 20,
   "outputs": [],
   "source": [
    "df = df.rename(columns={\"Well Name\": \"Well_Name\", \"Well Types\": \"Well_Types\"})\n",
    "df = df.drop_duplicates(ignore_index=True)"
   ],
   "metadata": {
    "collapsed": false,
    "pycharm": {
     "name": "#%%\n"
    }
   }
  },
  {
   "cell_type": "code",
   "execution_count": 21,
   "outputs": [],
   "source": [
    "df.to_csv('../data/well_types.csv')"
   ],
   "metadata": {
    "collapsed": false,
    "pycharm": {
     "name": "#%%\n"
    }
   }
  },
  {
   "cell_type": "code",
   "execution_count": 47,
   "outputs": [],
   "source": [
    "s = pd.read_excel('../data/shiny_data/well_data.xlsx')"
   ],
   "metadata": {
    "collapsed": false,
    "pycharm": {
     "name": "#%%\n"
    }
   }
  },
  {
   "cell_type": "code",
   "execution_count": 49,
   "outputs": [
    {
     "data": {
      "text/plain": "Index(['Bore', 'Depth1', 'Depth2', 'SampleDate', 'Value', 'Elevation', 'lat',\n       'lon'],\n      dtype='object')"
     },
     "execution_count": 49,
     "metadata": {},
     "output_type": "execute_result"
    }
   ],
   "source": [
    "s.columns"
   ],
   "metadata": {
    "collapsed": false,
    "pycharm": {
     "name": "#%%\n"
    }
   }
  },
  {
   "cell_type": "code",
   "execution_count": 48,
   "outputs": [
    {
     "data": {
      "text/plain": "                     Bore  Depth1  Depth2 SampleDate  Value  Elevation  \\\n0      110 Parkland Plaza    80.2    91.0 1986-08-22   17.0   936.1181   \n1      110 Parkland Plaza    80.2    91.0 1986-09-19   17.0   936.1181   \n2      110 Parkland Plaza    80.2    91.0 1986-10-10   12.0   936.1181   \n3      110 Parkland Plaza    80.2    91.0 1987-11-09    7.0   936.1181   \n4      110 Parkland Plaza    80.2    91.0 1988-04-18   13.0   936.1181   \n...                   ...     ...     ...        ...    ...        ...   \n18747                TW-9   105.0   115.0 2019-11-25  450.0   919.4272   \n18748                TW-9   105.0   115.0 2020-01-07  520.0   919.4272   \n18749                TW-9   105.0   115.0 2020-01-14  530.0   919.4272   \n18750                TW-9   105.0   115.0 2020-04-02  430.0   919.4272   \n18751                TW-9   105.0   115.0 2020-11-23  490.0   919.4272   \n\n             lat        lon  \n0      42.283188 -83.814204  \n1      42.283188 -83.814204  \n2      42.283188 -83.814204  \n3      42.283188 -83.814204  \n4      42.283188 -83.814204  \n...          ...        ...  \n18747  42.280147 -83.806439  \n18748  42.280147 -83.806439  \n18749  42.280147 -83.806439  \n18750  42.280147 -83.806439  \n18751  42.280147 -83.806439  \n\n[18752 rows x 8 columns]",
      "text/html": "<div>\n<style scoped>\n    .dataframe tbody tr th:only-of-type {\n        vertical-align: middle;\n    }\n\n    .dataframe tbody tr th {\n        vertical-align: top;\n    }\n\n    .dataframe thead th {\n        text-align: right;\n    }\n</style>\n<table border=\"1\" class=\"dataframe\">\n  <thead>\n    <tr style=\"text-align: right;\">\n      <th></th>\n      <th>Bore</th>\n      <th>Depth1</th>\n      <th>Depth2</th>\n      <th>SampleDate</th>\n      <th>Value</th>\n      <th>Elevation</th>\n      <th>lat</th>\n      <th>lon</th>\n    </tr>\n  </thead>\n  <tbody>\n    <tr>\n      <th>0</th>\n      <td>110 Parkland Plaza</td>\n      <td>80.2</td>\n      <td>91.0</td>\n      <td>1986-08-22</td>\n      <td>17.0</td>\n      <td>936.1181</td>\n      <td>42.283188</td>\n      <td>-83.814204</td>\n    </tr>\n    <tr>\n      <th>1</th>\n      <td>110 Parkland Plaza</td>\n      <td>80.2</td>\n      <td>91.0</td>\n      <td>1986-09-19</td>\n      <td>17.0</td>\n      <td>936.1181</td>\n      <td>42.283188</td>\n      <td>-83.814204</td>\n    </tr>\n    <tr>\n      <th>2</th>\n      <td>110 Parkland Plaza</td>\n      <td>80.2</td>\n      <td>91.0</td>\n      <td>1986-10-10</td>\n      <td>12.0</td>\n      <td>936.1181</td>\n      <td>42.283188</td>\n      <td>-83.814204</td>\n    </tr>\n    <tr>\n      <th>3</th>\n      <td>110 Parkland Plaza</td>\n      <td>80.2</td>\n      <td>91.0</td>\n      <td>1987-11-09</td>\n      <td>7.0</td>\n      <td>936.1181</td>\n      <td>42.283188</td>\n      <td>-83.814204</td>\n    </tr>\n    <tr>\n      <th>4</th>\n      <td>110 Parkland Plaza</td>\n      <td>80.2</td>\n      <td>91.0</td>\n      <td>1988-04-18</td>\n      <td>13.0</td>\n      <td>936.1181</td>\n      <td>42.283188</td>\n      <td>-83.814204</td>\n    </tr>\n    <tr>\n      <th>...</th>\n      <td>...</td>\n      <td>...</td>\n      <td>...</td>\n      <td>...</td>\n      <td>...</td>\n      <td>...</td>\n      <td>...</td>\n      <td>...</td>\n    </tr>\n    <tr>\n      <th>18747</th>\n      <td>TW-9</td>\n      <td>105.0</td>\n      <td>115.0</td>\n      <td>2019-11-25</td>\n      <td>450.0</td>\n      <td>919.4272</td>\n      <td>42.280147</td>\n      <td>-83.806439</td>\n    </tr>\n    <tr>\n      <th>18748</th>\n      <td>TW-9</td>\n      <td>105.0</td>\n      <td>115.0</td>\n      <td>2020-01-07</td>\n      <td>520.0</td>\n      <td>919.4272</td>\n      <td>42.280147</td>\n      <td>-83.806439</td>\n    </tr>\n    <tr>\n      <th>18749</th>\n      <td>TW-9</td>\n      <td>105.0</td>\n      <td>115.0</td>\n      <td>2020-01-14</td>\n      <td>530.0</td>\n      <td>919.4272</td>\n      <td>42.280147</td>\n      <td>-83.806439</td>\n    </tr>\n    <tr>\n      <th>18750</th>\n      <td>TW-9</td>\n      <td>105.0</td>\n      <td>115.0</td>\n      <td>2020-04-02</td>\n      <td>430.0</td>\n      <td>919.4272</td>\n      <td>42.280147</td>\n      <td>-83.806439</td>\n    </tr>\n    <tr>\n      <th>18751</th>\n      <td>TW-9</td>\n      <td>105.0</td>\n      <td>115.0</td>\n      <td>2020-11-23</td>\n      <td>490.0</td>\n      <td>919.4272</td>\n      <td>42.280147</td>\n      <td>-83.806439</td>\n    </tr>\n  </tbody>\n</table>\n<p>18752 rows × 8 columns</p>\n</div>"
     },
     "execution_count": 48,
     "metadata": {},
     "output_type": "execute_result"
    }
   ],
   "source": [
    "s = s.drop(['Unnamed: 0.1', 'Unnamed: 0','Comment','Name',\n",
    "       'Enabled', 'Easting', 'Northing', 'TotalDepth',\n",
    "       'CollarElevation', 'Comments', 'GEIcon', 'Color', 'SymbolTypeId',\n",
    "       'NeedXYZCalc', 'dd_lon', 'dd_lat', 'lcs_x', 'lcs_y', 'lcs_unit',\n",
    "       'pls_meridian', 'pls_range', 'pls_township', 'pls_section',\n",
    "       'pls_offset_based', 'pls_x_offset', 'pls_y_offset', 'pls_fwl',\n",
    "       'pls_fsl', 'pls_description', 'spc_zone', 'spc_x', 'spc_y', 'spc_unit',\n",
    "       'utm_datum', 'utm_zone', 'utm_x', 'utm_y', 'utm_unit', 'pj4_x', 'pj4_y',\n",
    "       'pj4_paramstr'],axis=1)\n",
    "s"
   ],
   "metadata": {
    "collapsed": false,
    "pycharm": {
     "name": "#%%\n"
    }
   }
  },
  {
   "cell_type": "code",
   "execution_count": 50,
   "outputs": [],
   "source": [
    "s.to_csv('../data/shiny_data/well_data.csv')"
   ],
   "metadata": {
    "collapsed": false,
    "pycharm": {
     "name": "#%%\n"
    }
   }
  }
 ],
 "metadata": {
  "kernelspec": {
   "display_name": "Python 3",
   "language": "python",
   "name": "python3"
  },
  "language_info": {
   "codemirror_mode": {
    "name": "ipython",
    "version": 2
   },
   "file_extension": ".py",
   "mimetype": "text/x-python",
   "name": "python",
   "nbconvert_exporter": "python",
   "pygments_lexer": "ipython2",
   "version": "2.7.6"
  }
 },
 "nbformat": 4,
 "nbformat_minor": 0
}