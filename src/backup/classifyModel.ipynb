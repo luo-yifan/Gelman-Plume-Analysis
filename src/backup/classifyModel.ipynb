{
 "cells": [
  {
   "cell_type": "code",
   "execution_count": 2,
   "metadata": {
    "collapsed": true
   },
   "outputs": [],
   "source": [
    "import utils.Utils as uts"
   ]
  },
  {
   "cell_type": "code",
   "execution_count": 9,
   "outputs": [],
   "source": [
    "ut = uts.Utils()\n",
    "\n",
    "import os\n",
    "\n",
    "path = \"../result/mod\"\n",
    "dirs = os.listdir( path )\n",
    "\n",
    "well_names = []\n",
    "for file in dirs:\n",
    "    well_names.append(file.split(\".txt\")[0])"
   ],
   "metadata": {
    "collapsed": false,
    "pycharm": {
     "name": "#%%\n"
    }
   }
  },
  {
   "cell_type": "code",
   "execution_count": 10,
   "outputs": [
    {
     "data": {
      "text/plain": "['MW-65d',\n 'MW-65s',\n 'TW-9',\n 'A2 Cleaning Supply',\n 'MW-57',\n '465 Dupont',\n 'MW-81',\n 'MW-95',\n 'MW-4d',\n 'MW-4s',\n 'TW-8',\n '2652 Dexter Rd',\n 'MW-11i',\n 'LB-4',\n 'NMW-2d',\n 'NMW-2s',\n 'HZ-S',\n '584 Allison',\n 'SW-1M',\n '3365 Jackson Rd',\n 'MW-53d',\n 'MW-8d',\n 'MW-96',\n 'MW-8s',\n 'MW-45s',\n 'MW-55',\n 'MW-45d',\n 'MW-103s',\n 'MW-103d',\n 'MW-12s',\n 'MW-12d',\n '333 Jackson Plaza',\n 'LB-1',\n 'MW-92',\n 'MW-52s',\n 'IW-2',\n 'Saginaw Forest Cabin #1',\n 'Maple-Inj',\n 'MW-93',\n '2805 Dexter Rd',\n 'MW-50',\n 'NMW-3d',\n 'NMW-3s',\n 'MW-78',\n 'MW-87s',\n 'MW-87d',\n 'MW-125',\n 'MW-119',\n 'LB-2',\n 'MW-30i',\n 'MW-5d',\n 'MW-5s',\n 'MW-46',\n '723 S. Wagner Road',\n 'MW-91',\n 'MW-85',\n '4601 Park 6 inch',\n 'Saginaw Forest Cabin #2',\n 'MW-72d',\n 'MW-72s',\n 'MW-134d',\n 'MW-134s',\n 'MW-25d',\n 'MW-25s',\n 'MW-90',\n 'MW-122s',\n 'LB-3',\n 'MW-118',\n '4141 Jackson Rd',\n 'MW-20',\n 'MW-38d',\n 'PMW-4',\n 'TW-12',\n 'MW-79d',\n 'MW-79s',\n '4742 Park Rd',\n 'TW-13',\n '544 Allison',\n 'MW-21',\n 'MW-35',\n 'MW-105s',\n '597 Allison',\n 'MW-105d',\n 'MW-14d',\n 'MW-34d',\n 'MW-23',\n 'MW-37',\n 'MW-34s',\n 'MW-133d',\n 'TW-11',\n 'MW-133s',\n 'MW-1',\n 'MW-76i',\n 'TW-10',\n 'MW-130i',\n 'MW-2d',\n 'MW-36',\n 'MW-22',\n 'MW-2s',\n 'MW-18s',\n 'MW-18d',\n 'MW-108s',\n 'MW-108d',\n 'Smith Ponds',\n '456 Clarendon',\n 'MW-3d',\n 'MW-26',\n 'MW-32',\n 'PMW-2',\n 'TW-14',\n 'MW-58s',\n 'MW-58d',\n 'MOW-1',\n 'OUTFALL',\n '3563 Elizabeth Rd',\n 'TW-15',\n 'PMW-3',\n 'MW-33',\n '420 Parkwood',\n 'MW-27',\n 'MW-15s',\n 'MW-15d',\n 'MW-31',\n 'PMW-1',\n 'MW-54s',\n 'MW-54d',\n 'TW-17',\n '170 Aprill',\n 'MW-BE-1d',\n 'MW-39d',\n 'MW-BE-1s',\n 'MW-39s',\n 'MW-24',\n '354 Pinewood',\n 'MW-41d',\n '4401 Park West',\n 'MW-41s',\n 'MW-29',\n 'EFF-UV1-A',\n '4601 Park 4 inch',\n 'MW-94d',\n 'MW-94s',\n 'Red Pond',\n '373 Pinewood Shallow',\n 'MW-28',\n 'MW-82s',\n '440 Clarendon',\n '441 Parkwood',\n 'MW-16',\n '580 Allison',\n 'TW-18',\n 'MW-98d',\n 'TW-19',\n 'MW-1 Replacement',\n 'MW-17',\n 'MW-61s',\n 'MW-61d',\n '453 Dupont',\n 'PW-1',\n 'ARTESIAN #3',\n 'TW-21',\n 'MW-400 Clarendon',\n '435 Barber',\n 'MW-76s',\n 'MW-76d',\n 'TW-20',\n 'MW-133i',\n 'ARTESIAN #2',\n 'AMW-2',\n '2575 Valley',\n '305 Pinewood',\n 'MW-83s',\n 'SW-COMB',\n '430 Barber East',\n 'TW-22',\n '2819 Dexter Rd',\n 'ARTESIAN #1',\n 'MW-56s',\n 'AMW-1',\n 'MW-40s',\n 'MW-106d',\n 'MW-106s',\n 'DOLPH',\n 'MW-115',\n 'MW-101',\n '593 Allison',\n 'MW-89',\n 'HZ-N',\n '476 Barber',\n 'MW-134i',\n 'EFF-UV2-A',\n 'AE-1',\n 'MW-88',\n 'MW-121d',\n 'MW-30d',\n 'MW-77',\n 'TW-1',\n 'MW-100',\n '350 Rose',\n 'MW-10d',\n 'MW-10s',\n 'MW-116',\n 'TW-3',\n '2700 Dexter Rd',\n 'MW-75',\n 'MW-49',\n 'AE-3',\n 'MW-138i',\n 'SW-3M',\n 'EFF-UV2-B',\n '2643 Dexter Rd',\n 'Third Sister Lake',\n 'MW-52i',\n '110 Parkland Plaza',\n 'AE-2',\n 'MW-48',\n 'MW-60',\n 'MW-84s',\n 'MW-117',\n '430 Barber West',\n '3245 Kingwood',\n 'MW-107',\n 'MW-113',\n 'TW-6',\n 'NMW-1s',\n '5005 Jackson Rd',\n 'NMW-1d',\n 'MW-64',\n '175 Jackson Plaza',\n 'MW-53i',\n 'MW-KZ-1',\n 'SW-2M',\n 'MW-71',\n 'MW-11d',\n 'MW-11s',\n 'MW-110',\n 'MW-104',\n '545 Allison',\n 'TW-5',\n 'MW-KD-1d',\n 'MW-KD-1s',\n 'MW-66',\n 'TW-4',\n 'MW-65i']"
     },
     "execution_count": 10,
     "metadata": {},
     "output_type": "execute_result"
    }
   ],
   "source": [
    "well_names"
   ],
   "metadata": {
    "collapsed": false,
    "pycharm": {
     "name": "#%%\n"
    }
   }
  },
  {
   "cell_type": "code",
   "execution_count": 15,
   "outputs": [],
   "source": [
    "mod_well = {}\n",
    "for wn in well_names:\n",
    "    mod = ut.get_model_name(ut.get_model_description(wn))\n",
    "    if mod in mod_well:\n",
    "        mod_well[mod].append(wn)\n",
    "    else:\n",
    "        mod_well[mod] = [wn]"
   ],
   "metadata": {
    "collapsed": false,
    "pycharm": {
     "name": "#%%\n"
    }
   }
  },
  {
   "cell_type": "code",
   "execution_count": 21,
   "outputs": [],
   "source": [
    "mod_well.items()\n",
    "res = []\n",
    "for i in mod_well.items():\n",
    "    res.append((i[0], str(i[1])))"
   ],
   "metadata": {
    "collapsed": false,
    "pycharm": {
     "name": "#%%\n"
    }
   }
  },
  {
   "cell_type": "code",
   "execution_count": 22,
   "outputs": [
    {
     "data": {
      "text/plain": "[('LastValueNaive',\n  \"['MW-65d', 'MW-65s', 'MW-4s', 'MW-11i', '3365 Jackson Rd', 'MW-8s', 'MW-45d', 'LB-1', 'Saginaw Forest Cabin #1', 'MW-87d', 'MW-46', 'TW-12', 'MW-34d', 'MW-133s', '456 Clarendon', 'MW-26', 'MW-41s', '580 Allison', 'PW-1', '435 Barber', '430 Barber East', 'MW-88', 'MW-30d', 'MW-48', 'MW-84s', 'MW-71', 'MW-11d', 'MW-11s']\"),\n ('RollingRegression',\n  \"['TW-9', 'MW-53d', 'MW-5d', 'MW-25s', 'TW-11', 'MW-BE-1d', 'ARTESIAN #1']\"),\n ('UnobservedComponents',\n  \"['A2 Cleaning Supply', 'MW-103s', '4742 Park Rd', 'MW-35', 'MW-1', 'MW-98d', 'DOLPH', 'MW-10s', 'MW-117', 'NMW-1d']\"),\n ('ZeroesNaive',\n  \"['MW-57', 'HZ-S', 'MW-103d', 'MW-78', 'MW-36', 'MW-22', 'MW-18d', 'OUTFALL', '4601 Park 4 inch', 'MW-75', 'MW-49', 'MW-KZ-1']\"),\n ('AverageValueNaive',\n  \"['465 Dupont', '584 Allison', 'MW-45s', 'MW-92', '2805 Dexter Rd', 'NMW-3d', '4601 Park 6 inch', 'MW-72s', 'TW-10', 'Smith Ponds', 'TW-14', '2575 Valley', 'MW-101', '5005 Jackson Rd']\"),\n ('ETS',\n  \"['MW-81', 'NMW-2s', 'MW-85', 'Saginaw Forest Cabin #2', 'LB-3', 'MW-37', 'MW-76i', 'MW-108d', 'MW-3d', 'MW-15d', 'MW-39s', '4401 Park West', 'MW-16', 'TW-19', 'MW-17', '453 Dupont', '2819 Dexter Rd', 'MW-106s', 'MW-60', '430 Barber West', 'MW-64']\"),\n ('Ensemble',\n  \"['MW-95', 'MW-4d', 'TW-8', 'LB-4', 'SW-1M', 'MW-12s', '333 Jackson Plaza', 'Maple-Inj', 'MW-50', 'MW-125', 'LB-2', 'MW-5s', '723 S. Wagner Road', 'MW-134d', 'MW-134s', 'PMW-4', 'MW-79d', 'MW-79s', 'MW-21', '597 Allison', 'MW-105d', 'MW-23', 'MW-133d', 'MW-130i', 'MW-2s', 'MW-18s', 'PMW-2', 'MW-58d', 'MOW-1', '3563 Elizabeth Rd', 'PMW-3', '420 Parkwood', 'MW-27', 'PMW-1', 'TW-17', 'MW-39d', 'MW-24', 'MW-29', 'EFF-UV1-A', 'MW-94s', 'Red Pond', '373 Pinewood Shallow', '440 Clarendon', 'TW-18', 'TW-21', 'ARTESIAN #2', '305 Pinewood', 'MW-83s', 'SW-COMB', 'TW-22', 'AMW-1', 'MW-40s', 'MW-106d', 'HZ-N', '476 Barber', 'MW-134i', 'EFF-UV2-A', 'MW-121d', 'MW-77', 'TW-1', '350 Rose', 'MW-116', 'MW-138i', 'SW-3M', 'EFF-UV2-B', '2643 Dexter Rd', 'Third Sister Lake', '110 Parkland Plaza', 'AE-2', 'NMW-1s', 'SW-2M', '545 Allison', 'TW-5']\"),\n ('DatepartRegression',\n  \"['2652 Dexter Rd', 'MW-96', 'MW-91', 'MW-2d', 'MW-58s', 'MW-28', '441 Parkwood', 'MW-61d', 'AMW-2', '593 Allison', 'TW-3', '2700 Dexter Rd', 'TW-6', 'MW-110']\"),\n ('SeasonalNaive',\n  \"['NMW-2d', 'MW-8d', 'MW-87s', 'MW-34s', 'TW-15', 'MW-15s', 'MW-54d', 'ARTESIAN #3', 'MW-113', 'MW-KD-1d', 'MW-66', 'TW-4']\"),\n ('GLM',\n  \"['MW-55', 'MW-52s', 'NMW-3s', 'MW-119', 'MW-72d', 'MW-25d', 'MW-32', '354 Pinewood', 'AE-1', 'MW-100', 'MW-KD-1s', 'MW-65i']\"),\n ('FBProphet',\n  \"['MW-12d', 'IW-2', 'MW-30i', 'MW-90', 'MW-122s', 'MW-118', 'MW-20', 'MW-38d', '544 Allison', 'MW-14d', 'MW-108s', 'MW-33', 'MW-54s', 'MW-94d', 'MW-1 Replacement', 'MW-61s', 'MW-400 Clarendon', 'MW-76d', 'MW-133i', 'MW-56s', 'MW-89', 'MW-10d', 'AE-3', 'MW-52i', '3245 Kingwood', 'MW-107', 'MW-53i']\"),\n ('GLS',\n  \"['MW-93', '4141 Jackson Rd', 'TW-13', 'MW-105s', 'MW-31', '170 Aprill', 'MW-BE-1s', 'MW-41d', 'MW-82s', 'MW-76s', 'TW-20', 'MW-115', '175 Jackson Plaza', 'MW-104']\")]"
     },
     "execution_count": 22,
     "metadata": {},
     "output_type": "execute_result"
    }
   ],
   "source": [
    "res"
   ],
   "metadata": {
    "collapsed": false,
    "pycharm": {
     "name": "#%%\n"
    }
   }
  }
 ],
 "metadata": {
  "kernelspec": {
   "display_name": "Python 3",
   "language": "python",
   "name": "python3"
  },
  "language_info": {
   "codemirror_mode": {
    "name": "ipython",
    "version": 2
   },
   "file_extension": ".py",
   "mimetype": "text/x-python",
   "name": "python",
   "nbconvert_exporter": "python",
   "pygments_lexer": "ipython2",
   "version": "2.7.6"
  }
 },
 "nbformat": 4,
 "nbformat_minor": 0
}