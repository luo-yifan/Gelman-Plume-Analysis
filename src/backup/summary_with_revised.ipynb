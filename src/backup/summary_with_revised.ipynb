{
 "cells": [
  {
   "cell_type": "code",
   "execution_count": 22,
   "metadata": {
    "collapsed": true
   },
   "outputs": [],
   "source": []
  },
  {
   "cell_type": "code",
   "execution_count": 23,
   "outputs": [],
   "source": [
    "import pathlib\n",
    "import pandas as pd\n",
    "from pathlib import Path\n",
    "import matplotlib.pyplot as plt"
   ],
   "metadata": {
    "collapsed": false,
    "pycharm": {
     "name": "#%%\n"
    }
   }
  },
  {
   "cell_type": "code",
   "execution_count": 24,
   "outputs": [],
   "source": [
    "FIG_DIR = pathlib.Path('../../result(new)/fig/')\n",
    "FIG_DIR_REVISED = pathlib.Path('../../result(new)/revised/fig/')\n",
    "FIG_CC_DIR = pathlib.Path('../../result(new)/fig_cc/')"
   ],
   "metadata": {
    "collapsed": false,
    "pycharm": {
     "name": "#%%\n"
    }
   }
  },
  {
   "cell_type": "code",
   "execution_count": 25,
   "outputs": [],
   "source": [
    "ori_list = [x.name for x in FIG_DIR.iterdir() if x.is_file()]\n",
    "revise_list = [x.name for x in FIG_DIR_REVISED.iterdir() if x.is_file()]"
   ],
   "metadata": {
    "collapsed": false,
    "pycharm": {
     "name": "#%%\n"
    }
   }
  },
  {
   "cell_type": "code",
   "execution_count": 26,
   "outputs": [
    {
     "data": {
      "text/plain": "['2643 Dexter Rd.png',\n '2700 Dexter Rd.png',\n '3245 Kingwood.png',\n 'DOLPH.png',\n 'HZ-S.png',\n 'IW-2.png',\n 'LB-3.png',\n 'LB-4.png',\n 'MW-1 Replacement.png',\n 'MW-1.png',\n 'MW-108d.png',\n 'MW-117.png',\n 'MW-16.png',\n 'MW-22.png',\n 'MW-23.png',\n 'MW-24.png',\n 'MW-25d.png',\n 'MW-30i.png',\n 'MW-53i.png',\n 'MW-55.png',\n 'MW-61d.png',\n 'MW-71.png',\n 'MW-79s.png',\n 'MW-98s.png',\n 'MW-BE-1d.png',\n 'PMW-2.png',\n 'TW-4.png',\n 'TW-5.png',\n 'TW-9.png']"
     },
     "execution_count": 26,
     "metadata": {},
     "output_type": "execute_result"
    }
   ],
   "source": [
    "revise_list"
   ],
   "metadata": {
    "collapsed": false,
    "pycharm": {
     "name": "#%%\n"
    }
   }
  },
  {
   "cell_type": "code",
   "execution_count": 27,
   "outputs": [],
   "source": [
    "import pathlib\n",
    "import shutil\n",
    "\n",
    "f = open(\"../../result(new)/summary.md\", \"w\")\n",
    "# Path(\"../result/fig/\").mkdir(parents=True, exist_ok=True)\n",
    "f.write(\"# Summary\\n\")\n",
    "for i in ori_list:\n",
    "\n",
    "    f.write(\"## \"+i+\"\\n\")\n",
    "\n",
    "    from_file = FIG_DIR.joinpath(str(i))\n",
    "    if i in revise_list:\n",
    "        from_file = FIG_DIR_REVISED.joinpath(str(i))\n",
    "\n",
    "    to_file = FIG_CC_DIR.joinpath(i.replace(' ', '_'))\n",
    "    shutil.copy(from_file, to_file)\n",
    "\n",
    "    # model_str = Path(\"../result/mod/\" + i[0] + '.txt').read_text()\n",
    "    # f.write('`\\n'+ model_str +'`\\n')\n",
    "\n",
    "    f.write('\\n')\n",
    "    f.write('![](./fig_cc/'+str(i.replace(' ', '_'))+')\\n')\n",
    "f.close()"
   ],
   "metadata": {
    "collapsed": false,
    "pycharm": {
     "name": "#%%\n"
    }
   }
  }
 ],
 "metadata": {
  "kernelspec": {
   "display_name": "Python 3",
   "language": "python",
   "name": "python3"
  },
  "language_info": {
   "codemirror_mode": {
    "name": "ipython",
    "version": 2
   },
   "file_extension": ".py",
   "mimetype": "text/x-python",
   "name": "python",
   "nbconvert_exporter": "python",
   "pygments_lexer": "ipython2",
   "version": "2.7.6"
  }
 },
 "nbformat": 4,
 "nbformat_minor": 0
}