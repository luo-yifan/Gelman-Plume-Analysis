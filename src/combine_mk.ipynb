{
 "cells": [
  {
   "cell_type": "code",
   "execution_count": 1,
   "metadata": {
    "collapsed": true
   },
   "outputs": [],
   "source": [
    "\n",
    "import pandas as pd"
   ]
  },
  {
   "cell_type": "code",
   "execution_count": 2,
   "outputs": [],
   "source": [
    "df = pd.read_excel('../data/Gelman_MannKendall.xlsx')"
   ],
   "metadata": {
    "collapsed": false,
    "pycharm": {
     "name": "#%%\n"
    }
   }
  },
  {
   "cell_type": "code",
   "execution_count": 3,
   "outputs": [],
   "source": [
    "df = df.drop(columns=['p', 'z','Tau','s','var_s','slope','intercept'])"
   ],
   "metadata": {
    "collapsed": false,
    "pycharm": {
     "name": "#%%\n"
    }
   }
  },
  {
   "cell_type": "code",
   "execution_count": 4,
   "outputs": [],
   "source": [
    "import os"
   ],
   "metadata": {
    "collapsed": false,
    "pycharm": {
     "name": "#%%\n"
    }
   }
  },
  {
   "cell_type": "code",
   "execution_count": 5,
   "outputs": [
    {
     "data": {
      "text/plain": "                         Well name       trend      h  maximal historical\n0               110 Parkland Plaza  decreasing   True                17.0\n1                       170 Aprill    no trend  False                26.0\n2                175 Jackson Plaza  increasing   True              1324.0\n3                      2575 Valley  increasing   True               110.0\n4                   2601 Dexter Rd  increasing   True                 NaN\n..                             ...         ...    ...                 ...\n302              Tributary/Outfall    no trend  False                 NaN\n303              Tributary/Park Rd    no trend  False                 NaN\n304                   Varsity Ford    no trend  False                 NaN\n305  Weber's Drain 1st Sister Lake    no trend  False                 NaN\n306        Weber's Heat Pump Drain    no trend  False                 NaN\n\n[307 rows x 4 columns]",
      "text/html": "<div>\n<style scoped>\n    .dataframe tbody tr th:only-of-type {\n        vertical-align: middle;\n    }\n\n    .dataframe tbody tr th {\n        vertical-align: top;\n    }\n\n    .dataframe thead th {\n        text-align: right;\n    }\n</style>\n<table border=\"1\" class=\"dataframe\">\n  <thead>\n    <tr style=\"text-align: right;\">\n      <th></th>\n      <th>Well name</th>\n      <th>trend</th>\n      <th>h</th>\n      <th>maximal historical</th>\n    </tr>\n  </thead>\n  <tbody>\n    <tr>\n      <th>0</th>\n      <td>110 Parkland Plaza</td>\n      <td>decreasing</td>\n      <td>True</td>\n      <td>17.0</td>\n    </tr>\n    <tr>\n      <th>1</th>\n      <td>170 Aprill</td>\n      <td>no trend</td>\n      <td>False</td>\n      <td>26.0</td>\n    </tr>\n    <tr>\n      <th>2</th>\n      <td>175 Jackson Plaza</td>\n      <td>increasing</td>\n      <td>True</td>\n      <td>1324.0</td>\n    </tr>\n    <tr>\n      <th>3</th>\n      <td>2575 Valley</td>\n      <td>increasing</td>\n      <td>True</td>\n      <td>110.0</td>\n    </tr>\n    <tr>\n      <th>4</th>\n      <td>2601 Dexter Rd</td>\n      <td>increasing</td>\n      <td>True</td>\n      <td>NaN</td>\n    </tr>\n    <tr>\n      <th>...</th>\n      <td>...</td>\n      <td>...</td>\n      <td>...</td>\n      <td>...</td>\n    </tr>\n    <tr>\n      <th>302</th>\n      <td>Tributary/Outfall</td>\n      <td>no trend</td>\n      <td>False</td>\n      <td>NaN</td>\n    </tr>\n    <tr>\n      <th>303</th>\n      <td>Tributary/Park Rd</td>\n      <td>no trend</td>\n      <td>False</td>\n      <td>NaN</td>\n    </tr>\n    <tr>\n      <th>304</th>\n      <td>Varsity Ford</td>\n      <td>no trend</td>\n      <td>False</td>\n      <td>NaN</td>\n    </tr>\n    <tr>\n      <th>305</th>\n      <td>Weber's Drain 1st Sister Lake</td>\n      <td>no trend</td>\n      <td>False</td>\n      <td>NaN</td>\n    </tr>\n    <tr>\n      <th>306</th>\n      <td>Weber's Heat Pump Drain</td>\n      <td>no trend</td>\n      <td>False</td>\n      <td>NaN</td>\n    </tr>\n  </tbody>\n</table>\n<p>307 rows × 4 columns</p>\n</div>"
     },
     "execution_count": 5,
     "metadata": {},
     "output_type": "execute_result"
    }
   ],
   "source": [
    "def get_maximal_history (row):\n",
    "    name = row['Well name']\n",
    "    if not os.path.exists('../result/ori/simple/8v/cache/' +  name  + '/data.csv'):\n",
    "       return None\n",
    "    ori_data = pd.read_csv('../result/ori/simple/8v/cache/' + name + '/data.csv')\n",
    "    return max(ori_data['y'])\n",
    "\n",
    "df['maximal historical'] = df.apply(lambda row: get_maximal_history(row), axis=1)\n",
    "df"
   ],
   "metadata": {
    "collapsed": false,
    "pycharm": {
     "name": "#%%\n"
    }
   }
  },
  {
   "cell_type": "code",
   "execution_count": 6,
   "outputs": [
    {
     "data": {
      "text/plain": "                         Well name       trend      h  maximal historical  \\\n0               110 Parkland Plaza  decreasing   True                17.0   \n1                       170 Aprill    no trend  False                26.0   \n2                175 Jackson Plaza  increasing   True              1324.0   \n3                      2575 Valley  increasing   True               110.0   \n4                   2601 Dexter Rd  increasing   True                 NaN   \n..                             ...         ...    ...                 ...   \n302              Tributary/Outfall    no trend  False                 NaN   \n303              Tributary/Park Rd    no trend  False                 NaN   \n304                   Varsity Ford    no trend  False                 NaN   \n305  Weber's Drain 1st Sister Lake    no trend  False                 NaN   \n306        Weber's Heat Pump Drain    no trend  False                 NaN   \n\n     2021 Prediction  2022 Prediction  2023 Prediction  2024 Prediction  \\\n0           0.385181         0.064425         0.000000         0.000000   \n1           2.300919         0.903777         0.000000         0.000000   \n2         893.810164       899.332249       993.621951      1105.759578   \n3          81.655723        86.444246        91.232768        96.035574   \n4                NaN              NaN              NaN              NaN   \n..               ...              ...              ...              ...   \n302              NaN              NaN              NaN              NaN   \n303              NaN              NaN              NaN              NaN   \n304              NaN              NaN              NaN              NaN   \n305              NaN              NaN              NaN              NaN   \n306              NaN              NaN              NaN              NaN   \n\n     2025 Prediction  \n0           0.000000  \n1           0.000000  \n2        1020.256106  \n3         100.824097  \n4                NaN  \n..               ...  \n302              NaN  \n303              NaN  \n304              NaN  \n305              NaN  \n306              NaN  \n\n[307 rows x 9 columns]",
      "text/html": "<div>\n<style scoped>\n    .dataframe tbody tr th:only-of-type {\n        vertical-align: middle;\n    }\n\n    .dataframe tbody tr th {\n        vertical-align: top;\n    }\n\n    .dataframe thead th {\n        text-align: right;\n    }\n</style>\n<table border=\"1\" class=\"dataframe\">\n  <thead>\n    <tr style=\"text-align: right;\">\n      <th></th>\n      <th>Well name</th>\n      <th>trend</th>\n      <th>h</th>\n      <th>maximal historical</th>\n      <th>2021 Prediction</th>\n      <th>2022 Prediction</th>\n      <th>2023 Prediction</th>\n      <th>2024 Prediction</th>\n      <th>2025 Prediction</th>\n    </tr>\n  </thead>\n  <tbody>\n    <tr>\n      <th>0</th>\n      <td>110 Parkland Plaza</td>\n      <td>decreasing</td>\n      <td>True</td>\n      <td>17.0</td>\n      <td>0.385181</td>\n      <td>0.064425</td>\n      <td>0.000000</td>\n      <td>0.000000</td>\n      <td>0.000000</td>\n    </tr>\n    <tr>\n      <th>1</th>\n      <td>170 Aprill</td>\n      <td>no trend</td>\n      <td>False</td>\n      <td>26.0</td>\n      <td>2.300919</td>\n      <td>0.903777</td>\n      <td>0.000000</td>\n      <td>0.000000</td>\n      <td>0.000000</td>\n    </tr>\n    <tr>\n      <th>2</th>\n      <td>175 Jackson Plaza</td>\n      <td>increasing</td>\n      <td>True</td>\n      <td>1324.0</td>\n      <td>893.810164</td>\n      <td>899.332249</td>\n      <td>993.621951</td>\n      <td>1105.759578</td>\n      <td>1020.256106</td>\n    </tr>\n    <tr>\n      <th>3</th>\n      <td>2575 Valley</td>\n      <td>increasing</td>\n      <td>True</td>\n      <td>110.0</td>\n      <td>81.655723</td>\n      <td>86.444246</td>\n      <td>91.232768</td>\n      <td>96.035574</td>\n      <td>100.824097</td>\n    </tr>\n    <tr>\n      <th>4</th>\n      <td>2601 Dexter Rd</td>\n      <td>increasing</td>\n      <td>True</td>\n      <td>NaN</td>\n      <td>NaN</td>\n      <td>NaN</td>\n      <td>NaN</td>\n      <td>NaN</td>\n      <td>NaN</td>\n    </tr>\n    <tr>\n      <th>...</th>\n      <td>...</td>\n      <td>...</td>\n      <td>...</td>\n      <td>...</td>\n      <td>...</td>\n      <td>...</td>\n      <td>...</td>\n      <td>...</td>\n      <td>...</td>\n    </tr>\n    <tr>\n      <th>302</th>\n      <td>Tributary/Outfall</td>\n      <td>no trend</td>\n      <td>False</td>\n      <td>NaN</td>\n      <td>NaN</td>\n      <td>NaN</td>\n      <td>NaN</td>\n      <td>NaN</td>\n      <td>NaN</td>\n    </tr>\n    <tr>\n      <th>303</th>\n      <td>Tributary/Park Rd</td>\n      <td>no trend</td>\n      <td>False</td>\n      <td>NaN</td>\n      <td>NaN</td>\n      <td>NaN</td>\n      <td>NaN</td>\n      <td>NaN</td>\n      <td>NaN</td>\n    </tr>\n    <tr>\n      <th>304</th>\n      <td>Varsity Ford</td>\n      <td>no trend</td>\n      <td>False</td>\n      <td>NaN</td>\n      <td>NaN</td>\n      <td>NaN</td>\n      <td>NaN</td>\n      <td>NaN</td>\n      <td>NaN</td>\n    </tr>\n    <tr>\n      <th>305</th>\n      <td>Weber's Drain 1st Sister Lake</td>\n      <td>no trend</td>\n      <td>False</td>\n      <td>NaN</td>\n      <td>NaN</td>\n      <td>NaN</td>\n      <td>NaN</td>\n      <td>NaN</td>\n      <td>NaN</td>\n    </tr>\n    <tr>\n      <th>306</th>\n      <td>Weber's Heat Pump Drain</td>\n      <td>no trend</td>\n      <td>False</td>\n      <td>NaN</td>\n      <td>NaN</td>\n      <td>NaN</td>\n      <td>NaN</td>\n      <td>NaN</td>\n      <td>NaN</td>\n    </tr>\n  </tbody>\n</table>\n<p>307 rows × 9 columns</p>\n</div>"
     },
     "execution_count": 6,
     "metadata": {},
     "output_type": "execute_result"
    }
   ],
   "source": [
    "from functools import partial\n",
    "\n",
    "\n",
    "def get_predict (year, row):\n",
    "    name = row['Well name']\n",
    "    if not os.path.exists('../result/ori/simple/8v/cache/' +  name  + '/predict.csv'):\n",
    "       return None\n",
    "    data = pd.read_csv('../result/ori/simple/8v/cache/' + name + '/predict.csv')\n",
    "    return data.iloc[year]['y']\n",
    "p2021 = partial(get_predict, 0)\n",
    "p2022 = partial(get_predict, 1)\n",
    "p2023 = partial(get_predict, 2)\n",
    "p2024 = partial(get_predict, 3)\n",
    "p2025 = partial(get_predict, 4)\n",
    "\n",
    "df['2021 Prediction'] = df.apply(lambda row: p2021(row), axis=1)\n",
    "df['2022 Prediction'] = df.apply(lambda row: p2022(row), axis=1)\n",
    "df['2023 Prediction'] = df.apply(lambda row: p2023(row), axis=1)\n",
    "df['2024 Prediction'] = df.apply(lambda row: p2024(row), axis=1)\n",
    "df['2025 Prediction'] = df.apply(lambda row: p2025(row), axis=1)\n",
    "df\n"
   ],
   "metadata": {
    "collapsed": false,
    "pycharm": {
     "name": "#%%\n"
    }
   }
  },
  {
   "cell_type": "code",
   "execution_count": 7,
   "outputs": [],
   "source": [
    "df = df.dropna()"
   ],
   "metadata": {
    "collapsed": false,
    "pycharm": {
     "name": "#%%\n"
    }
   }
  },
  {
   "cell_type": "code",
   "execution_count": 8,
   "outputs": [
    {
     "name": "stderr",
     "output_type": "stream",
     "text": [
      "<ipython-input-8-4d097e29dd67>:1: SettingWithCopyWarning: \n",
      "A value is trying to be set on a copy of a slice from a DataFrame.\n",
      "Try using .loc[row_indexer,col_indexer] = value instead\n",
      "\n",
      "See the caveats in the documentation: https://pandas.pydata.org/pandas-docs/stable/user_guide/indexing.html#returning-a-view-versus-a-copy\n",
      "  df['Prediction High'] = df.apply(lambda row: max([row['2025 Prediction'],row['2021 Prediction'],row['2022 Prediction'],row['2023 Prediction'],row['2024 Prediction']]), axis=1)\n",
      "<ipython-input-8-4d097e29dd67>:2: SettingWithCopyWarning: \n",
      "A value is trying to be set on a copy of a slice from a DataFrame.\n",
      "Try using .loc[row_indexer,col_indexer] = value instead\n",
      "\n",
      "See the caveats in the documentation: https://pandas.pydata.org/pandas-docs/stable/user_guide/indexing.html#returning-a-view-versus-a-copy\n",
      "  df['Below detectable level (1 ppb)'] = df.apply(lambda row: row['Prediction High'] < 1, axis=1)\n",
      "<ipython-input-8-4d097e29dd67>:3: SettingWithCopyWarning: \n",
      "A value is trying to be set on a copy of a slice from a DataFrame.\n",
      "Try using .loc[row_indexer,col_indexer] = value instead\n",
      "\n",
      "See the caveats in the documentation: https://pandas.pydata.org/pandas-docs/stable/user_guide/indexing.html#returning-a-view-versus-a-copy\n",
      "  df['Below trigger for responese level (4 ppb)'] = df.apply(lambda row: row['Prediction High'] < 4, axis=1)\n",
      "<ipython-input-8-4d097e29dd67>:4: SettingWithCopyWarning: \n",
      "A value is trying to be set on a copy of a slice from a DataFrame.\n",
      "Try using .loc[row_indexer,col_indexer] = value instead\n",
      "\n",
      "See the caveats in the documentation: https://pandas.pydata.org/pandas-docs/stable/user_guide/indexing.html#returning-a-view-versus-a-copy\n",
      "  df['Below current drinking water standard (7.2 ppb)'] = df.apply(lambda row: row['Prediction High'] < 7.2, axis=1)\n",
      "<ipython-input-8-4d097e29dd67>:5: SettingWithCopyWarning: \n",
      "A value is trying to be set on a copy of a slice from a DataFrame.\n",
      "Try using .loc[row_indexer,col_indexer] = value instead\n",
      "\n",
      "See the caveats in the documentation: https://pandas.pydata.org/pandas-docs/stable/user_guide/indexing.html#returning-a-view-versus-a-copy\n",
      "  df['Below previous drinking water standard (85 ppb)'] = df.apply(lambda row: row['Prediction High'] < 85, axis=1)\n"
     ]
    },
    {
     "data": {
      "text/plain": "              Well name       trend      h  maximal historical  \\\n0    110 Parkland Plaza  decreasing   True                17.0   \n1            170 Aprill    no trend  False                26.0   \n2     175 Jackson Plaza  increasing   True              1324.0   \n3           2575 Valley  increasing   True               110.0   \n5        2643 Dexter Rd    no trend  False                12.0   \n..                  ...         ...    ...                 ...   \n295                TW-4  decreasing   True              6743.0   \n296                TW-5  decreasing   True             12871.0   \n297                TW-6  decreasing   True             23267.0   \n298                TW-8  decreasing   True              1304.0   \n299                TW-9  decreasing   True             12761.0   \n\n     2021 Prediction  2022 Prediction  2023 Prediction  2024 Prediction  \\\n0           0.385181         0.064425         0.000000         0.000000   \n1           2.300919         0.903777         0.000000         0.000000   \n2         893.810164       899.332249       993.621951      1105.759578   \n3          81.655723        86.444246        91.232768        96.035574   \n5          31.284734         4.196700         4.446853         4.697007   \n..               ...              ...              ...              ...   \n295         0.000000         0.000000         0.000000         0.000000   \n296        48.321834        48.321834        48.321834        48.321834   \n297        77.000000        77.000000        77.000000        77.000000   \n298       704.777778       704.777778       704.777778       704.777778   \n299        31.583032        31.507047        31.465114        31.436437   \n\n     2025 Prediction  Prediction High  Below detectable level (1 ppb)  \\\n0           0.000000         0.385181                            True   \n1           0.000000         2.300919                           False   \n2        1020.256106      1105.759578                           False   \n3         100.824097       100.824097                           False   \n5           4.947160        31.284734                           False   \n..               ...              ...                             ...   \n295         0.000000         0.000000                            True   \n296        48.321834        48.321834                           False   \n297        77.000000        77.000000                           False   \n298       704.777778       704.777778                           False   \n299        31.414787        31.583032                           False   \n\n     Below trigger for responese level (4 ppb)  \\\n0                                         True   \n1                                         True   \n2                                        False   \n3                                        False   \n5                                        False   \n..                                         ...   \n295                                       True   \n296                                      False   \n297                                      False   \n298                                      False   \n299                                      False   \n\n     Below current drinking water standard (7.2 ppb)  \\\n0                                               True   \n1                                               True   \n2                                              False   \n3                                              False   \n5                                              False   \n..                                               ...   \n295                                             True   \n296                                            False   \n297                                            False   \n298                                            False   \n299                                            False   \n\n     Below previous drinking water standard (85 ppb)  \n0                                               True  \n1                                               True  \n2                                              False  \n3                                              False  \n5                                               True  \n..                                               ...  \n295                                             True  \n296                                             True  \n297                                             True  \n298                                            False  \n299                                             True  \n\n[245 rows x 14 columns]",
      "text/html": "<div>\n<style scoped>\n    .dataframe tbody tr th:only-of-type {\n        vertical-align: middle;\n    }\n\n    .dataframe tbody tr th {\n        vertical-align: top;\n    }\n\n    .dataframe thead th {\n        text-align: right;\n    }\n</style>\n<table border=\"1\" class=\"dataframe\">\n  <thead>\n    <tr style=\"text-align: right;\">\n      <th></th>\n      <th>Well name</th>\n      <th>trend</th>\n      <th>h</th>\n      <th>maximal historical</th>\n      <th>2021 Prediction</th>\n      <th>2022 Prediction</th>\n      <th>2023 Prediction</th>\n      <th>2024 Prediction</th>\n      <th>2025 Prediction</th>\n      <th>Prediction High</th>\n      <th>Below detectable level (1 ppb)</th>\n      <th>Below trigger for responese level (4 ppb)</th>\n      <th>Below current drinking water standard (7.2 ppb)</th>\n      <th>Below previous drinking water standard (85 ppb)</th>\n    </tr>\n  </thead>\n  <tbody>\n    <tr>\n      <th>0</th>\n      <td>110 Parkland Plaza</td>\n      <td>decreasing</td>\n      <td>True</td>\n      <td>17.0</td>\n      <td>0.385181</td>\n      <td>0.064425</td>\n      <td>0.000000</td>\n      <td>0.000000</td>\n      <td>0.000000</td>\n      <td>0.385181</td>\n      <td>True</td>\n      <td>True</td>\n      <td>True</td>\n      <td>True</td>\n    </tr>\n    <tr>\n      <th>1</th>\n      <td>170 Aprill</td>\n      <td>no trend</td>\n      <td>False</td>\n      <td>26.0</td>\n      <td>2.300919</td>\n      <td>0.903777</td>\n      <td>0.000000</td>\n      <td>0.000000</td>\n      <td>0.000000</td>\n      <td>2.300919</td>\n      <td>False</td>\n      <td>True</td>\n      <td>True</td>\n      <td>True</td>\n    </tr>\n    <tr>\n      <th>2</th>\n      <td>175 Jackson Plaza</td>\n      <td>increasing</td>\n      <td>True</td>\n      <td>1324.0</td>\n      <td>893.810164</td>\n      <td>899.332249</td>\n      <td>993.621951</td>\n      <td>1105.759578</td>\n      <td>1020.256106</td>\n      <td>1105.759578</td>\n      <td>False</td>\n      <td>False</td>\n      <td>False</td>\n      <td>False</td>\n    </tr>\n    <tr>\n      <th>3</th>\n      <td>2575 Valley</td>\n      <td>increasing</td>\n      <td>True</td>\n      <td>110.0</td>\n      <td>81.655723</td>\n      <td>86.444246</td>\n      <td>91.232768</td>\n      <td>96.035574</td>\n      <td>100.824097</td>\n      <td>100.824097</td>\n      <td>False</td>\n      <td>False</td>\n      <td>False</td>\n      <td>False</td>\n    </tr>\n    <tr>\n      <th>5</th>\n      <td>2643 Dexter Rd</td>\n      <td>no trend</td>\n      <td>False</td>\n      <td>12.0</td>\n      <td>31.284734</td>\n      <td>4.196700</td>\n      <td>4.446853</td>\n      <td>4.697007</td>\n      <td>4.947160</td>\n      <td>31.284734</td>\n      <td>False</td>\n      <td>False</td>\n      <td>False</td>\n      <td>True</td>\n    </tr>\n    <tr>\n      <th>...</th>\n      <td>...</td>\n      <td>...</td>\n      <td>...</td>\n      <td>...</td>\n      <td>...</td>\n      <td>...</td>\n      <td>...</td>\n      <td>...</td>\n      <td>...</td>\n      <td>...</td>\n      <td>...</td>\n      <td>...</td>\n      <td>...</td>\n      <td>...</td>\n    </tr>\n    <tr>\n      <th>295</th>\n      <td>TW-4</td>\n      <td>decreasing</td>\n      <td>True</td>\n      <td>6743.0</td>\n      <td>0.000000</td>\n      <td>0.000000</td>\n      <td>0.000000</td>\n      <td>0.000000</td>\n      <td>0.000000</td>\n      <td>0.000000</td>\n      <td>True</td>\n      <td>True</td>\n      <td>True</td>\n      <td>True</td>\n    </tr>\n    <tr>\n      <th>296</th>\n      <td>TW-5</td>\n      <td>decreasing</td>\n      <td>True</td>\n      <td>12871.0</td>\n      <td>48.321834</td>\n      <td>48.321834</td>\n      <td>48.321834</td>\n      <td>48.321834</td>\n      <td>48.321834</td>\n      <td>48.321834</td>\n      <td>False</td>\n      <td>False</td>\n      <td>False</td>\n      <td>True</td>\n    </tr>\n    <tr>\n      <th>297</th>\n      <td>TW-6</td>\n      <td>decreasing</td>\n      <td>True</td>\n      <td>23267.0</td>\n      <td>77.000000</td>\n      <td>77.000000</td>\n      <td>77.000000</td>\n      <td>77.000000</td>\n      <td>77.000000</td>\n      <td>77.000000</td>\n      <td>False</td>\n      <td>False</td>\n      <td>False</td>\n      <td>True</td>\n    </tr>\n    <tr>\n      <th>298</th>\n      <td>TW-8</td>\n      <td>decreasing</td>\n      <td>True</td>\n      <td>1304.0</td>\n      <td>704.777778</td>\n      <td>704.777778</td>\n      <td>704.777778</td>\n      <td>704.777778</td>\n      <td>704.777778</td>\n      <td>704.777778</td>\n      <td>False</td>\n      <td>False</td>\n      <td>False</td>\n      <td>False</td>\n    </tr>\n    <tr>\n      <th>299</th>\n      <td>TW-9</td>\n      <td>decreasing</td>\n      <td>True</td>\n      <td>12761.0</td>\n      <td>31.583032</td>\n      <td>31.507047</td>\n      <td>31.465114</td>\n      <td>31.436437</td>\n      <td>31.414787</td>\n      <td>31.583032</td>\n      <td>False</td>\n      <td>False</td>\n      <td>False</td>\n      <td>True</td>\n    </tr>\n  </tbody>\n</table>\n<p>245 rows × 14 columns</p>\n</div>"
     },
     "execution_count": 8,
     "metadata": {},
     "output_type": "execute_result"
    }
   ],
   "source": [
    "df['Prediction High'] = df.apply(lambda row: max([row['2025 Prediction'],row['2021 Prediction'],row['2022 Prediction'],row['2023 Prediction'],row['2024 Prediction']]), axis=1)\n",
    "df['Below detectable level (1 ppb)'] = df.apply(lambda row: row['Prediction High'] < 1, axis=1)\n",
    "df['Below trigger for responese level (4 ppb)'] = df.apply(lambda row: row['Prediction High'] < 4, axis=1)\n",
    "df['Below current drinking water standard (7.2 ppb)'] = df.apply(lambda row: row['Prediction High'] < 7.2, axis=1)\n",
    "df['Below previous drinking water standard (85 ppb)'] = df.apply(lambda row: row['Prediction High'] < 85, axis=1)\n",
    "df"
   ],
   "metadata": {
    "collapsed": false,
    "pycharm": {
     "name": "#%%\n"
    }
   }
  },
  {
   "cell_type": "code",
   "execution_count": 9,
   "outputs": [
    {
     "data": {
      "text/plain": "              Well name       trend  maximal historical  2021 Prediction  \\\n0    110 Parkland Plaza  decreasing                17.0         0.385181   \n1            170 Aprill    no trend                26.0         2.300919   \n2     175 Jackson Plaza  increasing              1324.0       893.810164   \n3           2575 Valley  increasing               110.0        81.655723   \n5        2643 Dexter Rd    no trend                12.0        31.284734   \n..                  ...         ...                 ...              ...   \n295                TW-4  decreasing              6743.0         0.000000   \n296                TW-5  decreasing             12871.0        48.321834   \n297                TW-6  decreasing             23267.0        77.000000   \n298                TW-8  decreasing              1304.0       704.777778   \n299                TW-9  decreasing             12761.0        31.583032   \n\n     2022 Prediction  2023 Prediction  2024 Prediction  2025 Prediction  \\\n0           0.064425         0.000000         0.000000         0.000000   \n1           0.903777         0.000000         0.000000         0.000000   \n2         899.332249       993.621951      1105.759578      1020.256106   \n3          86.444246        91.232768        96.035574       100.824097   \n5           4.196700         4.446853         4.697007         4.947160   \n..               ...              ...              ...              ...   \n295         0.000000         0.000000         0.000000         0.000000   \n296        48.321834        48.321834        48.321834        48.321834   \n297        77.000000        77.000000        77.000000        77.000000   \n298       704.777778       704.777778       704.777778       704.777778   \n299        31.507047        31.465114        31.436437        31.414787   \n\n     Prediction High  Below detectable level (1 ppb)  \\\n0           0.385181                            True   \n1           2.300919                           False   \n2        1105.759578                           False   \n3         100.824097                           False   \n5          31.284734                           False   \n..               ...                             ...   \n295         0.000000                            True   \n296        48.321834                           False   \n297        77.000000                           False   \n298       704.777778                           False   \n299        31.583032                           False   \n\n     Below trigger for responese level (4 ppb)  \\\n0                                         True   \n1                                         True   \n2                                        False   \n3                                        False   \n5                                        False   \n..                                         ...   \n295                                       True   \n296                                      False   \n297                                      False   \n298                                      False   \n299                                      False   \n\n     Below current drinking water standard (7.2 ppb)  \\\n0                                               True   \n1                                               True   \n2                                              False   \n3                                              False   \n5                                              False   \n..                                               ...   \n295                                             True   \n296                                            False   \n297                                            False   \n298                                            False   \n299                                            False   \n\n     Below previous drinking water standard (85 ppb)  \n0                                               True  \n1                                               True  \n2                                              False  \n3                                              False  \n5                                               True  \n..                                               ...  \n295                                             True  \n296                                             True  \n297                                             True  \n298                                            False  \n299                                             True  \n\n[245 rows x 13 columns]",
      "text/html": "<div>\n<style scoped>\n    .dataframe tbody tr th:only-of-type {\n        vertical-align: middle;\n    }\n\n    .dataframe tbody tr th {\n        vertical-align: top;\n    }\n\n    .dataframe thead th {\n        text-align: right;\n    }\n</style>\n<table border=\"1\" class=\"dataframe\">\n  <thead>\n    <tr style=\"text-align: right;\">\n      <th></th>\n      <th>Well name</th>\n      <th>trend</th>\n      <th>maximal historical</th>\n      <th>2021 Prediction</th>\n      <th>2022 Prediction</th>\n      <th>2023 Prediction</th>\n      <th>2024 Prediction</th>\n      <th>2025 Prediction</th>\n      <th>Prediction High</th>\n      <th>Below detectable level (1 ppb)</th>\n      <th>Below trigger for responese level (4 ppb)</th>\n      <th>Below current drinking water standard (7.2 ppb)</th>\n      <th>Below previous drinking water standard (85 ppb)</th>\n    </tr>\n  </thead>\n  <tbody>\n    <tr>\n      <th>0</th>\n      <td>110 Parkland Plaza</td>\n      <td>decreasing</td>\n      <td>17.0</td>\n      <td>0.385181</td>\n      <td>0.064425</td>\n      <td>0.000000</td>\n      <td>0.000000</td>\n      <td>0.000000</td>\n      <td>0.385181</td>\n      <td>True</td>\n      <td>True</td>\n      <td>True</td>\n      <td>True</td>\n    </tr>\n    <tr>\n      <th>1</th>\n      <td>170 Aprill</td>\n      <td>no trend</td>\n      <td>26.0</td>\n      <td>2.300919</td>\n      <td>0.903777</td>\n      <td>0.000000</td>\n      <td>0.000000</td>\n      <td>0.000000</td>\n      <td>2.300919</td>\n      <td>False</td>\n      <td>True</td>\n      <td>True</td>\n      <td>True</td>\n    </tr>\n    <tr>\n      <th>2</th>\n      <td>175 Jackson Plaza</td>\n      <td>increasing</td>\n      <td>1324.0</td>\n      <td>893.810164</td>\n      <td>899.332249</td>\n      <td>993.621951</td>\n      <td>1105.759578</td>\n      <td>1020.256106</td>\n      <td>1105.759578</td>\n      <td>False</td>\n      <td>False</td>\n      <td>False</td>\n      <td>False</td>\n    </tr>\n    <tr>\n      <th>3</th>\n      <td>2575 Valley</td>\n      <td>increasing</td>\n      <td>110.0</td>\n      <td>81.655723</td>\n      <td>86.444246</td>\n      <td>91.232768</td>\n      <td>96.035574</td>\n      <td>100.824097</td>\n      <td>100.824097</td>\n      <td>False</td>\n      <td>False</td>\n      <td>False</td>\n      <td>False</td>\n    </tr>\n    <tr>\n      <th>5</th>\n      <td>2643 Dexter Rd</td>\n      <td>no trend</td>\n      <td>12.0</td>\n      <td>31.284734</td>\n      <td>4.196700</td>\n      <td>4.446853</td>\n      <td>4.697007</td>\n      <td>4.947160</td>\n      <td>31.284734</td>\n      <td>False</td>\n      <td>False</td>\n      <td>False</td>\n      <td>True</td>\n    </tr>\n    <tr>\n      <th>...</th>\n      <td>...</td>\n      <td>...</td>\n      <td>...</td>\n      <td>...</td>\n      <td>...</td>\n      <td>...</td>\n      <td>...</td>\n      <td>...</td>\n      <td>...</td>\n      <td>...</td>\n      <td>...</td>\n      <td>...</td>\n      <td>...</td>\n    </tr>\n    <tr>\n      <th>295</th>\n      <td>TW-4</td>\n      <td>decreasing</td>\n      <td>6743.0</td>\n      <td>0.000000</td>\n      <td>0.000000</td>\n      <td>0.000000</td>\n      <td>0.000000</td>\n      <td>0.000000</td>\n      <td>0.000000</td>\n      <td>True</td>\n      <td>True</td>\n      <td>True</td>\n      <td>True</td>\n    </tr>\n    <tr>\n      <th>296</th>\n      <td>TW-5</td>\n      <td>decreasing</td>\n      <td>12871.0</td>\n      <td>48.321834</td>\n      <td>48.321834</td>\n      <td>48.321834</td>\n      <td>48.321834</td>\n      <td>48.321834</td>\n      <td>48.321834</td>\n      <td>False</td>\n      <td>False</td>\n      <td>False</td>\n      <td>True</td>\n    </tr>\n    <tr>\n      <th>297</th>\n      <td>TW-6</td>\n      <td>decreasing</td>\n      <td>23267.0</td>\n      <td>77.000000</td>\n      <td>77.000000</td>\n      <td>77.000000</td>\n      <td>77.000000</td>\n      <td>77.000000</td>\n      <td>77.000000</td>\n      <td>False</td>\n      <td>False</td>\n      <td>False</td>\n      <td>True</td>\n    </tr>\n    <tr>\n      <th>298</th>\n      <td>TW-8</td>\n      <td>decreasing</td>\n      <td>1304.0</td>\n      <td>704.777778</td>\n      <td>704.777778</td>\n      <td>704.777778</td>\n      <td>704.777778</td>\n      <td>704.777778</td>\n      <td>704.777778</td>\n      <td>False</td>\n      <td>False</td>\n      <td>False</td>\n      <td>False</td>\n    </tr>\n    <tr>\n      <th>299</th>\n      <td>TW-9</td>\n      <td>decreasing</td>\n      <td>12761.0</td>\n      <td>31.583032</td>\n      <td>31.507047</td>\n      <td>31.465114</td>\n      <td>31.436437</td>\n      <td>31.414787</td>\n      <td>31.583032</td>\n      <td>False</td>\n      <td>False</td>\n      <td>False</td>\n      <td>True</td>\n    </tr>\n  </tbody>\n</table>\n<p>245 rows × 13 columns</p>\n</div>"
     },
     "execution_count": 9,
     "metadata": {},
     "output_type": "execute_result"
    }
   ],
   "source": [
    "df = df.drop(['h'], axis=1)\n",
    "df"
   ],
   "metadata": {
    "collapsed": false,
    "pycharm": {
     "name": "#%%\n"
    }
   }
  },
  {
   "cell_type": "code",
   "execution_count": 13,
   "outputs": [],
   "source": [
    "df = df.reset_index(drop=True)\n",
    "df = df.rename(columns={\"trend\": \"Trend\", \"maximal historical\": \"Historical High\"})\n",
    "df.to_csv('mk_pred.csv')"
   ],
   "metadata": {
    "collapsed": false,
    "pycharm": {
     "name": "#%%\n"
    }
   }
  }
 ],
 "metadata": {
  "kernelspec": {
   "display_name": "Python 3",
   "language": "python",
   "name": "python3"
  },
  "language_info": {
   "codemirror_mode": {
    "name": "ipython",
    "version": 2
   },
   "file_extension": ".py",
   "mimetype": "text/x-python",
   "name": "python",
   "nbconvert_exporter": "python",
   "pygments_lexer": "ipython2",
   "version": "2.7.6"
  }
 },
 "nbformat": 4,
 "nbformat_minor": 0
}