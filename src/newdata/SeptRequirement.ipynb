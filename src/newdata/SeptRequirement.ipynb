{
 "cells": [
  {
   "cell_type": "markdown",
   "metadata": {
    "collapsed": true,
    "pycharm": {
     "name": "#%% md\n"
    }
   },
   "source": [
    "# Requirement in Sept 🍁\n",
    "## 🟦 Preparation\n",
    "### 🔹 Define Unity Function"
   ]
  },
  {
   "cell_type": "code",
   "execution_count": 1,
   "outputs": [],
   "source": [
    "import pathlib\n",
    "import pandas as pd\n",
    "import datetime\n",
    "import matplotlib.pyplot as plt"
   ],
   "metadata": {
    "collapsed": false,
    "pycharm": {
     "name": "#%%\n"
    }
   }
  },
  {
   "cell_type": "code",
   "execution_count": 2,
   "outputs": [],
   "source": [
    "CACHE_DIR = pathlib.Path('../../result/history/result(new)/cache/')\n",
    "FIG_DIR = pathlib.Path('../../result/history/result(new)/fig/')\n",
    "\n",
    "def get_ori_predict(well_name):\n",
    "    well_name_dir = CACHE_DIR.joinpath(well_name)\n",
    "    if not well_name_dir.exists(): return None\n",
    "    ori = pd.read_csv(well_name_dir.joinpath('data.csv'), parse_dates=['Date'], squeeze=True)\n",
    "    predict = pd.read_csv(well_name_dir.joinpath('predict.csv'), parse_dates=['Date'], squeeze=True)\n",
    "    return ori, predict"
   ],
   "metadata": {
    "collapsed": false,
    "pycharm": {
     "name": "#%%\n"
    }
   }
  },
  {
   "cell_type": "markdown",
   "source": [
    "### 🔹 Get well name list"
   ],
   "metadata": {
    "collapsed": false,
    "pycharm": {
     "name": "#%% md\n"
    }
   }
  },
  {
   "cell_type": "code",
   "execution_count": 3,
   "outputs": [
    {
     "data": {
      "text/plain": "   Unnamed: 0               Bore         Name  Depth1  Depth2 SampleDate  \\\n0           0  1021 Westview Way  1-4 Dioxane   260.0   268.0 2019-05-08   \n1           1  1024 Westview Way  1-4 Dioxane -9999.0 -9999.0 2019-05-08   \n2           2  1049 Westview Way  1-4 Dioxane   272.0   280.0 2019-05-08   \n3           3         105 Myrtle  1-4 Dioxane    61.0    65.0 1999-03-27   \n4           4         105 Myrtle  1-4 Dioxane    61.0    65.0 1999-05-28   \n\n   Value   Comment  Enabled     Easting  ...  utm_datum  utm_zone  utm_x  \\\n0    0.5  EGLE Lab    False  13274717.9  ...         22        12      0   \n1    0.5  EGLE Lab    False  13274221.6  ...         22        12      0   \n2    0.5  EGLE Lab    False  13274722.1  ...         22        12      0   \n3    0.5       NaN    False  13269250.0  ...         22        12      0   \n4    0.5       NaN    False  13269250.0  ...         22        12      0   \n\n   utm_y utm_unit  pj4_x  pj4_y  pj4_paramstr        lat        lon  \n0      0        1      0      0           NaN  42.269732 -83.807344  \n1      0        1      0      0           NaN  42.269808 -83.809177  \n2      0        1      0      0           NaN  42.269390 -83.807331  \n3      0        1      0      0           NaN  42.285462 -83.827411  \n4      0        1      0      0           NaN  42.285462 -83.827411  \n\n[5 rows x 48 columns]",
      "text/html": "<div>\n<style scoped>\n    .dataframe tbody tr th:only-of-type {\n        vertical-align: middle;\n    }\n\n    .dataframe tbody tr th {\n        vertical-align: top;\n    }\n\n    .dataframe thead th {\n        text-align: right;\n    }\n</style>\n<table border=\"1\" class=\"dataframe\">\n  <thead>\n    <tr style=\"text-align: right;\">\n      <th></th>\n      <th>Unnamed: 0</th>\n      <th>Bore</th>\n      <th>Name</th>\n      <th>Depth1</th>\n      <th>Depth2</th>\n      <th>SampleDate</th>\n      <th>Value</th>\n      <th>Comment</th>\n      <th>Enabled</th>\n      <th>Easting</th>\n      <th>...</th>\n      <th>utm_datum</th>\n      <th>utm_zone</th>\n      <th>utm_x</th>\n      <th>utm_y</th>\n      <th>utm_unit</th>\n      <th>pj4_x</th>\n      <th>pj4_y</th>\n      <th>pj4_paramstr</th>\n      <th>lat</th>\n      <th>lon</th>\n    </tr>\n  </thead>\n  <tbody>\n    <tr>\n      <th>0</th>\n      <td>0</td>\n      <td>1021 Westview Way</td>\n      <td>1-4 Dioxane</td>\n      <td>260.0</td>\n      <td>268.0</td>\n      <td>2019-05-08</td>\n      <td>0.5</td>\n      <td>EGLE Lab</td>\n      <td>False</td>\n      <td>13274717.9</td>\n      <td>...</td>\n      <td>22</td>\n      <td>12</td>\n      <td>0</td>\n      <td>0</td>\n      <td>1</td>\n      <td>0</td>\n      <td>0</td>\n      <td>NaN</td>\n      <td>42.269732</td>\n      <td>-83.807344</td>\n    </tr>\n    <tr>\n      <th>1</th>\n      <td>1</td>\n      <td>1024 Westview Way</td>\n      <td>1-4 Dioxane</td>\n      <td>-9999.0</td>\n      <td>-9999.0</td>\n      <td>2019-05-08</td>\n      <td>0.5</td>\n      <td>EGLE Lab</td>\n      <td>False</td>\n      <td>13274221.6</td>\n      <td>...</td>\n      <td>22</td>\n      <td>12</td>\n      <td>0</td>\n      <td>0</td>\n      <td>1</td>\n      <td>0</td>\n      <td>0</td>\n      <td>NaN</td>\n      <td>42.269808</td>\n      <td>-83.809177</td>\n    </tr>\n    <tr>\n      <th>2</th>\n      <td>2</td>\n      <td>1049 Westview Way</td>\n      <td>1-4 Dioxane</td>\n      <td>272.0</td>\n      <td>280.0</td>\n      <td>2019-05-08</td>\n      <td>0.5</td>\n      <td>EGLE Lab</td>\n      <td>False</td>\n      <td>13274722.1</td>\n      <td>...</td>\n      <td>22</td>\n      <td>12</td>\n      <td>0</td>\n      <td>0</td>\n      <td>1</td>\n      <td>0</td>\n      <td>0</td>\n      <td>NaN</td>\n      <td>42.269390</td>\n      <td>-83.807331</td>\n    </tr>\n    <tr>\n      <th>3</th>\n      <td>3</td>\n      <td>105 Myrtle</td>\n      <td>1-4 Dioxane</td>\n      <td>61.0</td>\n      <td>65.0</td>\n      <td>1999-03-27</td>\n      <td>0.5</td>\n      <td>NaN</td>\n      <td>False</td>\n      <td>13269250.0</td>\n      <td>...</td>\n      <td>22</td>\n      <td>12</td>\n      <td>0</td>\n      <td>0</td>\n      <td>1</td>\n      <td>0</td>\n      <td>0</td>\n      <td>NaN</td>\n      <td>42.285462</td>\n      <td>-83.827411</td>\n    </tr>\n    <tr>\n      <th>4</th>\n      <td>4</td>\n      <td>105 Myrtle</td>\n      <td>1-4 Dioxane</td>\n      <td>61.0</td>\n      <td>65.0</td>\n      <td>1999-05-28</td>\n      <td>0.5</td>\n      <td>NaN</td>\n      <td>False</td>\n      <td>13269250.0</td>\n      <td>...</td>\n      <td>22</td>\n      <td>12</td>\n      <td>0</td>\n      <td>0</td>\n      <td>1</td>\n      <td>0</td>\n      <td>0</td>\n      <td>NaN</td>\n      <td>42.285462</td>\n      <td>-83.827411</td>\n    </tr>\n  </tbody>\n</table>\n<p>5 rows × 48 columns</p>\n</div>"
     },
     "execution_count": 3,
     "metadata": {},
     "output_type": "execute_result"
    }
   ],
   "source": [
    "gelman_data = pd.read_excel(\"../../result/history/result(new)/joined_well_data.xlsx\")\n",
    "gelman_data.head(5)"
   ],
   "metadata": {
    "collapsed": false,
    "pycharm": {
     "name": "#%%\n"
    }
   }
  },
  {
   "cell_type": "code",
   "execution_count": 4,
   "outputs": [
    {
     "data": {
      "text/plain": "Index(['Unnamed: 0', 'Bore', 'Name', 'Depth1', 'Depth2', 'SampleDate', 'Value',\n       'Comment', 'Enabled', 'Easting', 'Northing', 'Elevation', 'TotalDepth',\n       'CollarElevation', 'Comments', 'GEIcon', 'Color', 'SymbolTypeId',\n       'NeedXYZCalc', 'dd_lon', 'dd_lat', 'lcs_x', 'lcs_y', 'lcs_unit',\n       'pls_meridian', 'pls_range', 'pls_township', 'pls_section',\n       'pls_offset_based', 'pls_x_offset', 'pls_y_offset', 'pls_fwl',\n       'pls_fsl', 'pls_description', 'spc_zone', 'spc_x', 'spc_y', 'spc_unit',\n       'utm_datum', 'utm_zone', 'utm_x', 'utm_y', 'utm_unit', 'pj4_x', 'pj4_y',\n       'pj4_paramstr', 'lat', 'lon'],\n      dtype='object')"
     },
     "execution_count": 4,
     "metadata": {},
     "output_type": "execute_result"
    }
   ],
   "source": [
    "gelman_data.columns"
   ],
   "metadata": {
    "collapsed": false,
    "pycharm": {
     "name": "#%%\n"
    }
   }
  },
  {
   "cell_type": "code",
   "execution_count": 5,
   "outputs": [
    {
     "data": {
      "text/plain": "['1021 Westview Way',\n '1024 Westview Way',\n '1049 Westview Way',\n '105 Myrtle',\n '1052 Westview Way',\n '1080 Westview Way',\n '110 Parkland Plaza',\n '1105 Westview Way',\n '1108 Westview Way',\n '1130 Westview Way']"
     },
     "execution_count": 5,
     "metadata": {},
     "output_type": "execute_result"
    }
   ],
   "source": [
    "well_name_list = list(dict.fromkeys(gelman_data['Bore'].tolist()))\n",
    "well_name_list[0:10]"
   ],
   "metadata": {
    "collapsed": false,
    "pycharm": {
     "name": "#%%\n"
    }
   }
  },
  {
   "cell_type": "markdown",
   "source": [
    "## 🟦 Remove wells that do not meet the requirements\n",
    "with 15 valid records and in recent 5 years"
   ],
   "metadata": {
    "collapsed": false,
    "pycharm": {
     "name": "#%% md\n"
    }
   }
  },
  {
   "cell_type": "code",
   "execution_count": 6,
   "outputs": [],
   "source": [
    "count = 0\n",
    "valid_well_list = []\n",
    "for name in well_name_list:\n",
    "    ori_pred = get_ori_predict(name)\n",
    "    if ori_pred is not None:\n",
    "        ori = ori_pred[0]\n",
    "        is_valid_record_num = \\\n",
    "            len(ori) > 15\n",
    "        is_valid_end_date = \\\n",
    "            ori.iloc[-1]['Date'] > \\\n",
    "            datetime.datetime(2016, 12, 31)\n",
    "        if is_valid_end_date and is_valid_record_num:\n",
    "            valid_well_list.append(name)"
   ],
   "metadata": {
    "collapsed": false,
    "pycharm": {
     "name": "#%%\n"
    }
   }
  },
  {
   "cell_type": "code",
   "execution_count": 7,
   "outputs": [
    {
     "data": {
      "text/plain": "226"
     },
     "execution_count": 7,
     "metadata": {},
     "output_type": "execute_result"
    }
   ],
   "source": [
    "len(valid_well_list)"
   ],
   "metadata": {
    "collapsed": false,
    "pycharm": {
     "name": "#%%\n"
    }
   }
  },
  {
   "cell_type": "markdown",
   "source": [
    "### 🔹 Generate xlsx with valid data"
   ],
   "metadata": {
    "collapsed": false,
    "pycharm": {
     "name": "#%% md\n"
    }
   }
  },
  {
   "cell_type": "code",
   "execution_count": 8,
   "outputs": [
    {
     "data": {
      "text/plain": "    Unnamed: 0                Bore         Name  Depth1  Depth2 SampleDate  \\\n17          17  110 Parkland Plaza  1-4 Dioxane    80.2    91.0 1986-08-22   \n18          18  110 Parkland Plaza  1-4 Dioxane    80.2    91.0 1986-09-19   \n19          19  110 Parkland Plaza  1-4 Dioxane    80.2    91.0 1986-10-10   \n20          20  110 Parkland Plaza  1-4 Dioxane    80.2    91.0 1987-11-09   \n21          21  110 Parkland Plaza  1-4 Dioxane    80.2    91.0 1988-04-18   \n22          22  110 Parkland Plaza  1-4 Dioxane    80.2    91.0 1988-12-09   \n23          23  110 Parkland Plaza  1-4 Dioxane    80.2    91.0 1989-07-19   \n24          24  110 Parkland Plaza  1-4 Dioxane    80.2    91.0 1990-01-30   \n25          25  110 Parkland Plaza  1-4 Dioxane    80.2    91.0 1990-08-01   \n26          26  110 Parkland Plaza  1-4 Dioxane    80.2    91.0 1991-01-23   \n\n    Value Comment  Enabled     Easting  ...  utm_datum  utm_zone  utm_x  \\\n17   17.0     NaN    False  13272829.0  ...         22        12      0   \n18   17.0     NaN    False  13272829.0  ...         22        12      0   \n19   12.0     NaN    False  13272829.0  ...         22        12      0   \n20    7.0     NaN    False  13272829.0  ...         22        12      0   \n21   13.0     NaN    False  13272829.0  ...         22        12      0   \n22   14.0     NaN    False  13272829.0  ...         22        12      0   \n23   11.0     NaN    False  13272829.0  ...         22        12      0   \n24   12.0     NaN    False  13272829.0  ...         22        12      0   \n25    8.0     NaN    False  13272829.0  ...         22        12      0   \n26   10.0     NaN    False  13272829.0  ...         22        12      0   \n\n    utm_y utm_unit  pj4_x  pj4_y  pj4_paramstr        lat        lon  \n17      0        1      0      0           NaN  42.283188 -83.814204  \n18      0        1      0      0           NaN  42.283188 -83.814204  \n19      0        1      0      0           NaN  42.283188 -83.814204  \n20      0        1      0      0           NaN  42.283188 -83.814204  \n21      0        1      0      0           NaN  42.283188 -83.814204  \n22      0        1      0      0           NaN  42.283188 -83.814204  \n23      0        1      0      0           NaN  42.283188 -83.814204  \n24      0        1      0      0           NaN  42.283188 -83.814204  \n25      0        1      0      0           NaN  42.283188 -83.814204  \n26      0        1      0      0           NaN  42.283188 -83.814204  \n\n[10 rows x 48 columns]",
      "text/html": "<div>\n<style scoped>\n    .dataframe tbody tr th:only-of-type {\n        vertical-align: middle;\n    }\n\n    .dataframe tbody tr th {\n        vertical-align: top;\n    }\n\n    .dataframe thead th {\n        text-align: right;\n    }\n</style>\n<table border=\"1\" class=\"dataframe\">\n  <thead>\n    <tr style=\"text-align: right;\">\n      <th></th>\n      <th>Unnamed: 0</th>\n      <th>Bore</th>\n      <th>Name</th>\n      <th>Depth1</th>\n      <th>Depth2</th>\n      <th>SampleDate</th>\n      <th>Value</th>\n      <th>Comment</th>\n      <th>Enabled</th>\n      <th>Easting</th>\n      <th>...</th>\n      <th>utm_datum</th>\n      <th>utm_zone</th>\n      <th>utm_x</th>\n      <th>utm_y</th>\n      <th>utm_unit</th>\n      <th>pj4_x</th>\n      <th>pj4_y</th>\n      <th>pj4_paramstr</th>\n      <th>lat</th>\n      <th>lon</th>\n    </tr>\n  </thead>\n  <tbody>\n    <tr>\n      <th>17</th>\n      <td>17</td>\n      <td>110 Parkland Plaza</td>\n      <td>1-4 Dioxane</td>\n      <td>80.2</td>\n      <td>91.0</td>\n      <td>1986-08-22</td>\n      <td>17.0</td>\n      <td>NaN</td>\n      <td>False</td>\n      <td>13272829.0</td>\n      <td>...</td>\n      <td>22</td>\n      <td>12</td>\n      <td>0</td>\n      <td>0</td>\n      <td>1</td>\n      <td>0</td>\n      <td>0</td>\n      <td>NaN</td>\n      <td>42.283188</td>\n      <td>-83.814204</td>\n    </tr>\n    <tr>\n      <th>18</th>\n      <td>18</td>\n      <td>110 Parkland Plaza</td>\n      <td>1-4 Dioxane</td>\n      <td>80.2</td>\n      <td>91.0</td>\n      <td>1986-09-19</td>\n      <td>17.0</td>\n      <td>NaN</td>\n      <td>False</td>\n      <td>13272829.0</td>\n      <td>...</td>\n      <td>22</td>\n      <td>12</td>\n      <td>0</td>\n      <td>0</td>\n      <td>1</td>\n      <td>0</td>\n      <td>0</td>\n      <td>NaN</td>\n      <td>42.283188</td>\n      <td>-83.814204</td>\n    </tr>\n    <tr>\n      <th>19</th>\n      <td>19</td>\n      <td>110 Parkland Plaza</td>\n      <td>1-4 Dioxane</td>\n      <td>80.2</td>\n      <td>91.0</td>\n      <td>1986-10-10</td>\n      <td>12.0</td>\n      <td>NaN</td>\n      <td>False</td>\n      <td>13272829.0</td>\n      <td>...</td>\n      <td>22</td>\n      <td>12</td>\n      <td>0</td>\n      <td>0</td>\n      <td>1</td>\n      <td>0</td>\n      <td>0</td>\n      <td>NaN</td>\n      <td>42.283188</td>\n      <td>-83.814204</td>\n    </tr>\n    <tr>\n      <th>20</th>\n      <td>20</td>\n      <td>110 Parkland Plaza</td>\n      <td>1-4 Dioxane</td>\n      <td>80.2</td>\n      <td>91.0</td>\n      <td>1987-11-09</td>\n      <td>7.0</td>\n      <td>NaN</td>\n      <td>False</td>\n      <td>13272829.0</td>\n      <td>...</td>\n      <td>22</td>\n      <td>12</td>\n      <td>0</td>\n      <td>0</td>\n      <td>1</td>\n      <td>0</td>\n      <td>0</td>\n      <td>NaN</td>\n      <td>42.283188</td>\n      <td>-83.814204</td>\n    </tr>\n    <tr>\n      <th>21</th>\n      <td>21</td>\n      <td>110 Parkland Plaza</td>\n      <td>1-4 Dioxane</td>\n      <td>80.2</td>\n      <td>91.0</td>\n      <td>1988-04-18</td>\n      <td>13.0</td>\n      <td>NaN</td>\n      <td>False</td>\n      <td>13272829.0</td>\n      <td>...</td>\n      <td>22</td>\n      <td>12</td>\n      <td>0</td>\n      <td>0</td>\n      <td>1</td>\n      <td>0</td>\n      <td>0</td>\n      <td>NaN</td>\n      <td>42.283188</td>\n      <td>-83.814204</td>\n    </tr>\n    <tr>\n      <th>22</th>\n      <td>22</td>\n      <td>110 Parkland Plaza</td>\n      <td>1-4 Dioxane</td>\n      <td>80.2</td>\n      <td>91.0</td>\n      <td>1988-12-09</td>\n      <td>14.0</td>\n      <td>NaN</td>\n      <td>False</td>\n      <td>13272829.0</td>\n      <td>...</td>\n      <td>22</td>\n      <td>12</td>\n      <td>0</td>\n      <td>0</td>\n      <td>1</td>\n      <td>0</td>\n      <td>0</td>\n      <td>NaN</td>\n      <td>42.283188</td>\n      <td>-83.814204</td>\n    </tr>\n    <tr>\n      <th>23</th>\n      <td>23</td>\n      <td>110 Parkland Plaza</td>\n      <td>1-4 Dioxane</td>\n      <td>80.2</td>\n      <td>91.0</td>\n      <td>1989-07-19</td>\n      <td>11.0</td>\n      <td>NaN</td>\n      <td>False</td>\n      <td>13272829.0</td>\n      <td>...</td>\n      <td>22</td>\n      <td>12</td>\n      <td>0</td>\n      <td>0</td>\n      <td>1</td>\n      <td>0</td>\n      <td>0</td>\n      <td>NaN</td>\n      <td>42.283188</td>\n      <td>-83.814204</td>\n    </tr>\n    <tr>\n      <th>24</th>\n      <td>24</td>\n      <td>110 Parkland Plaza</td>\n      <td>1-4 Dioxane</td>\n      <td>80.2</td>\n      <td>91.0</td>\n      <td>1990-01-30</td>\n      <td>12.0</td>\n      <td>NaN</td>\n      <td>False</td>\n      <td>13272829.0</td>\n      <td>...</td>\n      <td>22</td>\n      <td>12</td>\n      <td>0</td>\n      <td>0</td>\n      <td>1</td>\n      <td>0</td>\n      <td>0</td>\n      <td>NaN</td>\n      <td>42.283188</td>\n      <td>-83.814204</td>\n    </tr>\n    <tr>\n      <th>25</th>\n      <td>25</td>\n      <td>110 Parkland Plaza</td>\n      <td>1-4 Dioxane</td>\n      <td>80.2</td>\n      <td>91.0</td>\n      <td>1990-08-01</td>\n      <td>8.0</td>\n      <td>NaN</td>\n      <td>False</td>\n      <td>13272829.0</td>\n      <td>...</td>\n      <td>22</td>\n      <td>12</td>\n      <td>0</td>\n      <td>0</td>\n      <td>1</td>\n      <td>0</td>\n      <td>0</td>\n      <td>NaN</td>\n      <td>42.283188</td>\n      <td>-83.814204</td>\n    </tr>\n    <tr>\n      <th>26</th>\n      <td>26</td>\n      <td>110 Parkland Plaza</td>\n      <td>1-4 Dioxane</td>\n      <td>80.2</td>\n      <td>91.0</td>\n      <td>1991-01-23</td>\n      <td>10.0</td>\n      <td>NaN</td>\n      <td>False</td>\n      <td>13272829.0</td>\n      <td>...</td>\n      <td>22</td>\n      <td>12</td>\n      <td>0</td>\n      <td>0</td>\n      <td>1</td>\n      <td>0</td>\n      <td>0</td>\n      <td>NaN</td>\n      <td>42.283188</td>\n      <td>-83.814204</td>\n    </tr>\n  </tbody>\n</table>\n<p>10 rows × 48 columns</p>\n</div>"
     },
     "execution_count": 8,
     "metadata": {},
     "output_type": "execute_result"
    }
   ],
   "source": [
    "valid_data = gelman_data.loc[gelman_data['Bore'].isin(valid_well_list)]\n",
    "valid_data.head(10)"
   ],
   "metadata": {
    "collapsed": false,
    "pycharm": {
     "name": "#%%\n"
    }
   }
  },
  {
   "cell_type": "code",
   "execution_count": 9,
   "outputs": [],
   "source": [
    "valid_data.to_excel(\"../../result/history/result(new)/remove_invalid_well_data.xlsx\")"
   ],
   "metadata": {
    "collapsed": false,
    "pycharm": {
     "name": "#%%\n"
    }
   }
  },
  {
   "cell_type": "markdown",
   "source": [
    "### 🔹 Generate summary"
   ],
   "metadata": {
    "collapsed": false,
    "pycharm": {
     "name": "#%% md\n"
    }
   }
  },
  {
   "cell_type": "code",
   "execution_count": 10,
   "outputs": [],
   "source": [
    "import pathlib\n",
    "f = open(\"../../result/history/result(new)/summary_remove_invalid.md\", \"w\")\n",
    "FIG_CC_DIR = pathlib.Path('../../result/history/result(new)/fig_cc/')\n",
    "f.write(\"# Summary\\n\")\n",
    "for i in valid_well_list:\n",
    "    f.write(\"## \"+i+\"\\n\")\n",
    "    f.write('\\n')\n",
    "    f.write('![](./fig_cc/'+str(i.replace(' ', '_'))+'.png)\\n')\n",
    "f.close()"
   ],
   "metadata": {
    "collapsed": false,
    "pycharm": {
     "name": "#%%\n"
    }
   }
  },
  {
   "cell_type": "markdown",
   "source": [
    "## 🟦 Prediction with all wells within a radius of 500m\n",
    "\n",
    "### 🔹 distance cal function"
   ],
   "metadata": {
    "collapsed": false,
    "pycharm": {
     "name": "#%% md\n"
    }
   }
  },
  {
   "cell_type": "code",
   "execution_count": 11,
   "outputs": [],
   "source": [
    "from math import sin, cos, sqrt, atan2, radians\n",
    "def cal(c1, c2):\n",
    "    # approximate radius of earth in km\n",
    "    R = 6373.0\n",
    "    lat1 = radians(c1[0])\n",
    "    lon1 = radians(c1[1])\n",
    "    lat2 = radians(c2[0])\n",
    "    lon2 = radians(c2[1])\n",
    "    dlon = lon2 - lon1\n",
    "    dlat = lat2 - lat1\n",
    "    a = sin(dlat / 2)**2 + cos(lat1) * cos(lat2) * sin(dlon / 2)**2\n",
    "    c = 2 * atan2(sqrt(a), sqrt(1 - a))\n",
    "    distance = R * c\n",
    "    return distance"
   ],
   "metadata": {
    "collapsed": false,
    "pycharm": {
     "name": "#%%\n"
    }
   }
  },
  {
   "cell_type": "markdown",
   "source": [
    "### 🔹 select nearby wells for each well"
   ],
   "metadata": {
    "collapsed": false,
    "pycharm": {
     "name": "#%% md\n"
    }
   }
  },
  {
   "cell_type": "code",
   "execution_count": 12,
   "outputs": [],
   "source": [
    "well_coord = {}\n",
    "well_depth = {}\n",
    "for well_name in valid_well_list:\n",
    "    var = gelman_data.loc[gelman_data['Bore'] == well_name].iloc[0]\n",
    "    well_coord[well_name] = (var['lat'], var['lon'])\n",
    "    well_depth[well_name] = (var['Depth1'], var['Depth2'])"
   ],
   "metadata": {
    "collapsed": false,
    "pycharm": {
     "name": "#%%\n"
    }
   }
  },
  {
   "cell_type": "code",
   "execution_count": 13,
   "outputs": [
    {
     "data": {
      "text/plain": "[('110 Parkland Plaza', ['4141 Jackson Rd']), ('170 Aprill', ['MW-35'])]"
     },
     "execution_count": 13,
     "metadata": {},
     "output_type": "execute_result"
    }
   ],
   "source": [
    "nearby = {}\n",
    "MAX_DEPTH = 20\n",
    "for i in valid_well_list:\n",
    "    nb_list = []\n",
    "    coord1 = well_coord[i]\n",
    "    depth1 = well_depth[i]\n",
    "    sum = 0\n",
    "    count = 0\n",
    "    for j in valid_well_list:\n",
    "        if i != j:\n",
    "            coord2 = well_coord[j]\n",
    "            dis = cal(coord1, coord2)\n",
    "            sum += dis\n",
    "            count += 1\n",
    "            depth2 = well_depth[j]\n",
    "            if dis < 0.2:\n",
    "                if abs(depth1[0]-depth2[0]) < MAX_DEPTH or \\\n",
    "                        abs(depth1[1]-depth2[1]) < MAX_DEPTH :\n",
    "                    nb_list.append(j)\n",
    "    # print(sum /  count)\n",
    "    nearby[i] = nb_list\n",
    "list(nearby.items())[:2]"
   ],
   "metadata": {
    "collapsed": false,
    "pycharm": {
     "name": "#%%\n"
    }
   }
  },
  {
   "cell_type": "markdown",
   "source": [
    "### 🔹 predict with nearby data"
   ],
   "metadata": {
    "collapsed": false,
    "pycharm": {
     "name": "#%% md\n"
    }
   }
  },
  {
   "cell_type": "code",
   "execution_count": 14,
   "outputs": [
    {
     "data": {
      "text/plain": "   Unnamed: 0               Bore         Name  Depth1  Depth2 SampleDate  \\\n0           0  1021 Westview Way  1-4 Dioxane   260.0   268.0 2019-05-08   \n1           1  1024 Westview Way  1-4 Dioxane -9999.0 -9999.0 2019-05-08   \n2           2  1049 Westview Way  1-4 Dioxane   272.0   280.0 2019-05-08   \n3           3         105 Myrtle  1-4 Dioxane    61.0    65.0 1999-03-27   \n4           4         105 Myrtle  1-4 Dioxane    61.0    65.0 1999-05-28   \n\n   Value   Comment  Enabled     Easting  ...  utm_x  utm_y  utm_unit  pj4_x  \\\n0    0.5  EGLE Lab    False  13274717.9  ...      0      0         1      0   \n1    0.5  EGLE Lab    False  13274221.6  ...      0      0         1      0   \n2    0.5  EGLE Lab    False  13274722.1  ...      0      0         1      0   \n3    0.5       NaN    False  13269250.0  ...      0      0         1      0   \n4    0.5       NaN    False  13269250.0  ...      0      0         1      0   \n\n  pj4_y  pj4_paramstr        lat        lon    y         ds  \n0     0           NaN  42.269732 -83.807344  0.5 2019-05-08  \n1     0           NaN  42.269808 -83.809177  0.5 2019-05-08  \n2     0           NaN  42.269390 -83.807331  0.5 2019-05-08  \n3     0           NaN  42.285462 -83.827411  0.5 1999-03-27  \n4     0           NaN  42.285462 -83.827411  0.5 1999-05-28  \n\n[5 rows x 50 columns]",
      "text/html": "<div>\n<style scoped>\n    .dataframe tbody tr th:only-of-type {\n        vertical-align: middle;\n    }\n\n    .dataframe tbody tr th {\n        vertical-align: top;\n    }\n\n    .dataframe thead th {\n        text-align: right;\n    }\n</style>\n<table border=\"1\" class=\"dataframe\">\n  <thead>\n    <tr style=\"text-align: right;\">\n      <th></th>\n      <th>Unnamed: 0</th>\n      <th>Bore</th>\n      <th>Name</th>\n      <th>Depth1</th>\n      <th>Depth2</th>\n      <th>SampleDate</th>\n      <th>Value</th>\n      <th>Comment</th>\n      <th>Enabled</th>\n      <th>Easting</th>\n      <th>...</th>\n      <th>utm_x</th>\n      <th>utm_y</th>\n      <th>utm_unit</th>\n      <th>pj4_x</th>\n      <th>pj4_y</th>\n      <th>pj4_paramstr</th>\n      <th>lat</th>\n      <th>lon</th>\n      <th>y</th>\n      <th>ds</th>\n    </tr>\n  </thead>\n  <tbody>\n    <tr>\n      <th>0</th>\n      <td>0</td>\n      <td>1021 Westview Way</td>\n      <td>1-4 Dioxane</td>\n      <td>260.0</td>\n      <td>268.0</td>\n      <td>2019-05-08</td>\n      <td>0.5</td>\n      <td>EGLE Lab</td>\n      <td>False</td>\n      <td>13274717.9</td>\n      <td>...</td>\n      <td>0</td>\n      <td>0</td>\n      <td>1</td>\n      <td>0</td>\n      <td>0</td>\n      <td>NaN</td>\n      <td>42.269732</td>\n      <td>-83.807344</td>\n      <td>0.5</td>\n      <td>2019-05-08</td>\n    </tr>\n    <tr>\n      <th>1</th>\n      <td>1</td>\n      <td>1024 Westview Way</td>\n      <td>1-4 Dioxane</td>\n      <td>-9999.0</td>\n      <td>-9999.0</td>\n      <td>2019-05-08</td>\n      <td>0.5</td>\n      <td>EGLE Lab</td>\n      <td>False</td>\n      <td>13274221.6</td>\n      <td>...</td>\n      <td>0</td>\n      <td>0</td>\n      <td>1</td>\n      <td>0</td>\n      <td>0</td>\n      <td>NaN</td>\n      <td>42.269808</td>\n      <td>-83.809177</td>\n      <td>0.5</td>\n      <td>2019-05-08</td>\n    </tr>\n    <tr>\n      <th>2</th>\n      <td>2</td>\n      <td>1049 Westview Way</td>\n      <td>1-4 Dioxane</td>\n      <td>272.0</td>\n      <td>280.0</td>\n      <td>2019-05-08</td>\n      <td>0.5</td>\n      <td>EGLE Lab</td>\n      <td>False</td>\n      <td>13274722.1</td>\n      <td>...</td>\n      <td>0</td>\n      <td>0</td>\n      <td>1</td>\n      <td>0</td>\n      <td>0</td>\n      <td>NaN</td>\n      <td>42.269390</td>\n      <td>-83.807331</td>\n      <td>0.5</td>\n      <td>2019-05-08</td>\n    </tr>\n    <tr>\n      <th>3</th>\n      <td>3</td>\n      <td>105 Myrtle</td>\n      <td>1-4 Dioxane</td>\n      <td>61.0</td>\n      <td>65.0</td>\n      <td>1999-03-27</td>\n      <td>0.5</td>\n      <td>NaN</td>\n      <td>False</td>\n      <td>13269250.0</td>\n      <td>...</td>\n      <td>0</td>\n      <td>0</td>\n      <td>1</td>\n      <td>0</td>\n      <td>0</td>\n      <td>NaN</td>\n      <td>42.285462</td>\n      <td>-83.827411</td>\n      <td>0.5</td>\n      <td>1999-03-27</td>\n    </tr>\n    <tr>\n      <th>4</th>\n      <td>4</td>\n      <td>105 Myrtle</td>\n      <td>1-4 Dioxane</td>\n      <td>61.0</td>\n      <td>65.0</td>\n      <td>1999-05-28</td>\n      <td>0.5</td>\n      <td>NaN</td>\n      <td>False</td>\n      <td>13269250.0</td>\n      <td>...</td>\n      <td>0</td>\n      <td>0</td>\n      <td>1</td>\n      <td>0</td>\n      <td>0</td>\n      <td>NaN</td>\n      <td>42.285462</td>\n      <td>-83.827411</td>\n      <td>0.5</td>\n      <td>1999-05-28</td>\n    </tr>\n  </tbody>\n</table>\n<p>5 rows × 50 columns</p>\n</div>"
     },
     "execution_count": 14,
     "metadata": {},
     "output_type": "execute_result"
    }
   ],
   "source": [
    "well_data = gelman_data\n",
    "well_data.loc[:, 'y']= pd.to_numeric(well_data['Value'])\n",
    "well_data.loc[:, 'ds']= pd.to_datetime(well_data['SampleDate'])\n",
    "well_data.head(5)"
   ],
   "metadata": {
    "collapsed": false,
    "pycharm": {
     "name": "#%%\n"
    }
   }
  },
  {
   "cell_type": "code",
   "execution_count": 15,
   "outputs": [],
   "source": [
    "grouped = well_data.groupby('Bore')\n",
    "well_data_dict = {}\n",
    "for name, group in grouped:\n",
    "    if name in valid_well_list:\n",
    "        well_data_dict[name] = grouped"
   ],
   "metadata": {
    "collapsed": false,
    "pycharm": {
     "name": "#%%\n"
    }
   }
  },
  {
   "cell_type": "code",
   "execution_count": 16,
   "outputs": [],
   "source": [
    "from autots import AutoTS"
   ],
   "metadata": {
    "collapsed": false,
    "pycharm": {
     "name": "#%%\n"
    }
   }
  },
  {
   "cell_type": "code",
   "execution_count": 70,
   "outputs": [
    {
     "name": "stdout",
     "output_type": "stream",
     "text": [
      "['4141 Jackson Rd', '110 Parkland Plaza']\n",
      "110 Parkland Plaza\n",
      "53\n",
      "111\n",
      "111\n"
     ]
    },
    {
     "name": "stderr",
     "output_type": "stream",
     "text": [
      "[Parallel(n_jobs=1)]: Using backend SequentialBackend with 1 concurrent workers.\n",
      "[Parallel(n_jobs=1)]: Using backend SequentialBackend with 1 concurrent workers.\n",
      "[Parallel(n_jobs=1)]: Using backend SequentialBackend with 1 concurrent workers.\n",
      "[Parallel(n_jobs=1)]: Using backend SequentialBackend with 1 concurrent workers.\n",
      "[Parallel(n_jobs=1)]: Using backend SequentialBackend with 1 concurrent workers.\n",
      "[Parallel(n_jobs=1)]: Using backend SequentialBackend with 1 concurrent workers.\n",
      "[Parallel(n_jobs=1)]: Using backend SequentialBackend with 1 concurrent workers.\n",
      "[Parallel(n_jobs=1)]: Using backend SequentialBackend with 1 concurrent workers.\n",
      "[Parallel(n_jobs=1)]: Using backend SequentialBackend with 1 concurrent workers.\n",
      "[Parallel(n_jobs=1)]: Using backend SequentialBackend with 1 concurrent workers.\n",
      "[Parallel(n_jobs=1)]: Using backend SequentialBackend with 1 concurrent workers.\n",
      "[Parallel(n_jobs=1)]: Using backend SequentialBackend with 1 concurrent workers.\n",
      "[Parallel(n_jobs=1)]: Using backend SequentialBackend with 1 concurrent workers.\n"
     ]
    },
    {
     "name": "stdout",
     "output_type": "stream",
     "text": [
      "[predict success] 110 Parkland Plaza\n"
     ]
    },
    {
     "data": {
      "text/plain": "<Figure size 432x288 with 1 Axes>",
      "image/png": "[encoded data removed]"
     },
     "metadata": {
      "needs_background": "light"
     },
     "output_type": "display_data"
    }
   ],
   "source": [
    "DIR_NAME = '../../result/result(sample)/'\n",
    "count = 0\n",
    "all_well_data = []\n",
    "for name in valid_well_list:\n",
    "\n",
    "    # if name in [\"TW-19\", 'MW-531', 'A2 Cleaning Supply', 'MW-122s', 'MW-92'] :\n",
    "    # if name in ['A2 Cleaning Supply'] :\n",
    "    if name in ['110 Parkland Plaza'] :\n",
    "    # try:\n",
    "        t  = nearby[name] + [name]\n",
    "        print(t)\n",
    "        print(name)\n",
    "        fig, ax = plt.subplots()\n",
    "\n",
    "        ori_group = gelman_data.loc[gelman_data['Bore'] == name]\n",
    "        ori_group['Date'] = pd.to_datetime(ori_group['ds'])\n",
    "        ori_group.set_index('Date', inplace=True)\n",
    "\n",
    "        all_group = gelman_data.loc[gelman_data['Bore'] == name].copy()\n",
    "        ori_length = ori_group.shape[0]\n",
    "        ax.scatter(ori_group.y.index, ori_group.y, label = 'ori')\n",
    "        all_group = all_group.append(all_group)\n",
    "        print(ori_length)\n",
    "        for other_well in nearby[name]:\n",
    "            g = gelman_data.loc[gelman_data['Bore'] == other_well]\n",
    "            if g.shape[0] > ori_length/10:\n",
    "                g= g.sample((int)(ori_length/10))\n",
    "            # print(g)\n",
    "            g['Date'] = pd.to_datetime(g['ds'])\n",
    "            g.set_index('Date', inplace=True)\n",
    "            ax.scatter(g.y.index, g.y, label = other_well)\n",
    "            all_group = all_group.append(g)\n",
    "            print(all_group.shape[0])\n",
    "\n",
    "        all_group['Date'] = pd.to_datetime(all_group['ds'])\n",
    "        all_group.set_index('Date', inplace=True)\n",
    "        print(all_group.shape[0])\n",
    "        mod = AutoTS(forecast_length=5,\n",
    "                 frequency='Y',\n",
    "                 ensemble='simple',\n",
    "                 no_negatives=True,\n",
    "                 min_allowed_train_percent = 0.2,\n",
    "                 verbose=-4)\n",
    "        mod = mod.fit(all_group, date_col='ds', value_col='y', id_col=None)\n",
    "        prediction = mod.predict()\n",
    "        forecast = prediction.forecast\n",
    "\n",
    "        ft = open(DIR_NAME + \"mod/\" + name + '.txt', \"w\")\n",
    "        ft.write(str(mod))\n",
    "        ft.close()\n",
    "\n",
    "        ft = open(DIR_NAME + \"radius/\" + name + '.txt', \"w\")\n",
    "        ft.write(str(name) + \"\\n\" + str(nearby[name]))\n",
    "        ft.close()\n",
    "\n",
    "        # ax.plot(group.y,  label='a')\n",
    "        # ax.plot(forecast,  label='b')\n",
    "\n",
    "        # ax.scatter(all_group.y.index, all_group.y, label = 'a')\n",
    "\n",
    "        ax.scatter(forecast.index, forecast, label = 'b')\n",
    "\n",
    "        # for well_in_radius in nearby[name]:\n",
    "        #     tg = gelman_data.loc[gelman_data['Bore'] == well_in_radius]\n",
    "        #     tg['Date'] = pd.to_datetime(tg['ds'])\n",
    "        #     tg.set_index('Date', inplace=True)\n",
    "        #     ax.scatter(tg.y.index, tg.y, label = well_in_radius)\n",
    "\n",
    "        ax.set_title(name)\n",
    "        plt.savefig(DIR_NAME + '/fig/'+name+'.png')\n",
    "\n",
    "        cache_dir = pathlib.Path(DIR_NAME + '/cache/'+name)\n",
    "        cache_dir.mkdir(parents=True, exist_ok=True)\n",
    "\n",
    "        group.y.to_csv(cache_dir.joinpath('data.csv'))\n",
    "        forecast.index.name = \"Date\"\n",
    "        forecast.squeeze().to_csv(cache_dir.joinpath('predict.csv'))\n",
    "\n",
    "        all_well_data.append((name, group.y, forecast, mod))\n",
    "        count+=1\n",
    "        print(\"[predict success]\", name)\n",
    "\n",
    "    # except KeyboardInterrupt:\n",
    "    #     break\n",
    "    #\n",
    "    # except:\n",
    "    #     print(\"[predict error]\", name)\n",
    "    #     count+=1\n",
    "    #     continue"
   ],
   "metadata": {
    "collapsed": false,
    "pycharm": {
     "name": "#%%\n"
    }
   }
  },
  {
   "cell_type": "markdown",
   "source": [
    "### 🔹 Generate summary"
   ],
   "metadata": {
    "collapsed": false
   }
  },
  {
   "cell_type": "code",
   "execution_count": 18,
   "outputs": [],
   "source": [
    "import pathlib\n",
    "import os\n",
    "RES_DIR = \"../../result/result(colorfulWell)\"\n",
    "f = open(RES_DIR + \"/summary.md\", \"w\")\n",
    "FIG_CC_DIR = pathlib.Path(RES_DIR + '/fig/')\n",
    "f.write(\"# Summary\\n\")\n",
    "for i in valid_well_list:\n",
    "    f.write(\"## \"+i+\"\\n\")\n",
    "    f.write('\\n')\n",
    "    f.write('![](./fig/'+str(i).replace(' ', '_')+'.png)\\n')\n",
    "    rlist_path = RES_DIR + '/radius/'+str(i)+'.txt'\n",
    "    if os.path.isfile(rlist_path):\n",
    "        rad_list = open(rlist_path, 'r').read()\n",
    "        f.write('\\n' + str(rad_list) + '\\n')\n",
    "    mod_path = RES_DIR + '/mod/'+str(i)+'.txt'\n",
    "    if os.path.isfile(mod_path):\n",
    "        t = open(mod_path, 'r').read()\n",
    "        f.write('\\n' + str(t) + '\\n')\n",
    "f.close()"
   ],
   "metadata": {
    "collapsed": false,
    "pycharm": {
     "name": "#%%\n"
    }
   }
  },
  {
   "cell_type": "code",
   "execution_count": 19,
   "outputs": [
    {
     "name": "stdout",
     "output_type": "stream",
     "text": [
      "MW-35.png\n",
      "MW-105s.png\n",
      "MW-105d.png\n",
      "MW-20.png\n",
      "MW-38d.png\n",
      "MW-38s.png\n",
      "PMW-4.png\n",
      "TW-12.png\n",
      "MW-79d.png\n",
      "MW-79s.png\n",
      "MW-130i.png\n",
      "TW-10.png\n",
      "MW-2d.png\n",
      "MW-2s.png\n",
      "MW-18d.png\n",
      "MW-63s.png\n",
      "MW-37.png\n",
      "MW-23.png\n",
      "MW-34d.png\n",
      "MW-34s.png\n",
      "373_Pinewood_Deep.png\n",
      "PMW-3.png\n",
      "MW-62d.png\n",
      "MW-62s.png\n",
      "MW-108d.png\n",
      "MW-32.png\n",
      "170_Aprill.png\n",
      "PMW-2.png\n",
      "MW-58s.png\n",
      "TW-14.png\n",
      "MW-58d.png\n",
      "MW-1_Replacement.png\n",
      "MW-39d.png\n",
      "MW-39s.png\n",
      "MW-BE-1s.png\n",
      "MW-24.png\n",
      "MW-15d.png\n",
      "MW-31.png\n",
      "PMW-1.png\n",
      "MW-54d.png\n",
      "TW-17.png\n",
      "5115_Jackson_Rd.png\n",
      "MW-95.png\n",
      "TW-8.png\n",
      "MW-65d.png\n",
      "TW-9.png\n",
      "A2_Cleaning_Supply.png\n",
      "MW-57.png\n",
      "MW-53s.png\n",
      "MW-96.png\n",
      "465_Dupont.png\n",
      "MW-69.png\n",
      "MW-45s.png\n",
      "MW-45d.png\n",
      "NMW-2d.png\n",
      "NMW-2s.png\n",
      "HZ-S.png\n",
      "MW-93.png\n",
      "NMW-3d.png\n",
      "MW-50.png\n",
      "MW-78.png\n",
      "NMW-3s.png\n",
      "MW-87d.png\n",
      "5005_Jackson_Rd.png\n",
      "LB-1.png\n",
      "MW-92.png\n",
      "MW-52s.png\n",
      "MW-52d.png\n",
      "IW-2.png\n",
      "456_Clarendon.png\n",
      "110_Parkland_Plaza.png\n",
      "MW-134s.png\n",
      "MW-25d.png\n",
      "MW-25s.png\n",
      "MW-122d.png\n",
      "MW-122s.png\n",
      "MW-118.png\n",
      "MW-125.png\n",
      "MW-119.png\n",
      "Saginaw_Forest_Cabin__2.png\n",
      "MW-5d.png\n",
      "MW-30i.png\n",
      "MW-46.png\n",
      "MW-85.png\n",
      "4601_Park_4_inch.png\n",
      "MW-88.png\n",
      "MW-77.png\n",
      "TW-1.png\n",
      "MW-100.png\n",
      "DOLPH.png\n",
      "MW-89.png\n",
      "A2_Cleaning_Supply.png\n",
      "MW-52i.png\n",
      "3365_Jackson_Rd.png\n",
      "MW-48.png\n",
      "MW-84s.png\n",
      "MW-10d.png\n",
      "MW-116.png\n",
      "TW-3.png\n",
      "MW-75.png\n",
      "MW-49.png\n",
      "MW-71.png\n",
      "MW-11d.png\n",
      "MW-107.png\n",
      "TW-6.png\n",
      "NMW-1s.png\n",
      "NMW-1d.png\n",
      "MW-53i.png\n",
      "TW-4.png\n",
      "TW-5.png\n",
      "175_Jackson_Plaza.png\n",
      "MW-KD-1d.png\n",
      "MW-94d.png\n",
      "MW-28.png\n",
      "4141_Jackson_Rd.png\n",
      "4601_Park_6_inch.png\n",
      "MW-131s.png\n",
      "MW-131d.png\n",
      "TW-19.png\n",
      "MW-127d.png\n",
      "MW-17.png\n",
      "MW-61s.png\n",
      "MW-62i.png\n",
      "TW-18.png\n",
      "TW-20.png\n",
      "AMW-2.png\n",
      "4742_Park_Rd.png\n",
      "MW-63i.png\n",
      "PW-1.png\n",
      "MW-126s.png\n",
      "MW-126d.png\n",
      "TW-21.png\n",
      "MW-56d.png\n",
      "MW-56s.png\n",
      "AMW-1.png\n",
      "MW-106d.png\n",
      "MW-106s.png\n",
      "MW-83s.png\n",
      "TW-22.png\n"
     ]
    }
   ],
   "source": [
    "import os\n",
    "\n",
    "dirname = RES_DIR + '/fig/'\n",
    "for f in os.listdir(dirname):\n",
    "    f_new = f.replace('#1', '_1').replace('#2', '_2').replace('#3', '_3').replace(' ', '_')\n",
    "    print(f_new)\n",
    "    os.rename(os.path.join(dirname, f),os.path.join(dirname, f_new))\n"
   ],
   "metadata": {
    "collapsed": false,
    "pycharm": {
     "name": "#%%\n"
    }
   }
  },
  {
   "cell_type": "code",
   "execution_count": 20,
   "outputs": [
    {
     "ename": "FileNotFoundError",
     "evalue": "[Errno 2] No such file or directory: '../../result(scatter+3_label)/summary.md'",
     "output_type": "error",
     "traceback": [
      "\u001B[0;31m---------------------------------------------------------------------------\u001B[0m",
      "\u001B[0;31mFileNotFoundError\u001B[0m                         Traceback (most recent call last)",
      "\u001B[0;32m<ipython-input-20-9cc965f07bd4>\u001B[0m in \u001B[0;36m<module>\u001B[0;34m\u001B[0m\n\u001B[1;32m      1\u001B[0m \u001B[0;32mimport\u001B[0m \u001B[0mpathlib\u001B[0m\u001B[0;34m\u001B[0m\u001B[0;34m\u001B[0m\u001B[0m\n\u001B[1;32m      2\u001B[0m \u001B[0;32mimport\u001B[0m \u001B[0mos\u001B[0m\u001B[0;34m\u001B[0m\u001B[0;34m\u001B[0m\u001B[0m\n\u001B[0;32m----> 3\u001B[0;31m \u001B[0mf\u001B[0m \u001B[0;34m=\u001B[0m \u001B[0mopen\u001B[0m\u001B[0;34m(\u001B[0m\u001B[0;34m\"../../result(scatter+3_label)/summary.md\"\u001B[0m\u001B[0;34m,\u001B[0m \u001B[0;34m\"w\"\u001B[0m\u001B[0;34m)\u001B[0m\u001B[0;34m\u001B[0m\u001B[0;34m\u001B[0m\u001B[0m\n\u001B[0m\u001B[1;32m      4\u001B[0m \u001B[0mFIG_CC_DIR\u001B[0m \u001B[0;34m=\u001B[0m \u001B[0mpathlib\u001B[0m\u001B[0;34m.\u001B[0m\u001B[0mPath\u001B[0m\u001B[0;34m(\u001B[0m\u001B[0;34m'../../result(scatter+3_label)/fig/'\u001B[0m\u001B[0;34m)\u001B[0m\u001B[0;34m\u001B[0m\u001B[0;34m\u001B[0m\u001B[0m\n\u001B[1;32m      5\u001B[0m \u001B[0mf\u001B[0m\u001B[0;34m.\u001B[0m\u001B[0mwrite\u001B[0m\u001B[0;34m(\u001B[0m\u001B[0;34m\"# Summary\\n\"\u001B[0m\u001B[0;34m)\u001B[0m\u001B[0;34m\u001B[0m\u001B[0;34m\u001B[0m\u001B[0m\n",
      "\u001B[0;31mFileNotFoundError\u001B[0m: [Errno 2] No such file or directory: '../../result(scatter+3_label)/summary.md'"
     ]
    }
   ],
   "source": [
    "import pathlib\n",
    "import os\n",
    "f = open(\"../../result(scatter+3_label)/summary.md\", \"w\")\n",
    "FIG_CC_DIR = pathlib.Path('../../result(scatter+3_label)/fig/')\n",
    "f.write(\"# Summary\\n\")\n",
    "name_list = [name for name in os.listdir(\"../../result(scatter+3_label)/cache/\")]\n",
    "print(name_list)\n",
    "for i in name_list:\n",
    "    f.write(\"## \"+i+\"\\n\")\n",
    "    f.write('\\n')\n",
    "    f.write('![](./fig/'+str(i).replace(' ', '_')+'.png)\\n')\n",
    "    rlist_path = '../../result(scatter+3_label)/radius/'+str(i)+'.txt'\n",
    "    if os.path.isfile(rlist_path):\n",
    "        rad_list = open(rlist_path, 'r').read()\n",
    "        f.write('\\n' + str(rad_list) + '\\n')\n",
    "f.close()"
   ],
   "metadata": {
    "collapsed": false,
    "pycharm": {
     "name": "#%%\n"
    }
   }
  }
 ],
 "metadata": {
  "kernelspec": {
   "display_name": "Python 3",
   "language": "python",
   "name": "python3"
  },
  "language_info": {
   "codemirror_mode": {
    "name": "ipython",
    "version": 2
   },
   "file_extension": ".py",
   "mimetype": "text/x-python",
   "name": "python",
   "nbconvert_exporter": "python",
   "pygments_lexer": "ipython2",
   "version": "2.7.6"
  }
 },
 "nbformat": 4,
 "nbformat_minor": 0
}