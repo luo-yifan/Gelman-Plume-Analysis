{
 "cells": [
  {
   "cell_type": "code",
   "execution_count": 8,
   "metadata": {
    "collapsed": true
   },
   "outputs": [],
   "source": [
    "import datetime\n",
    "import pandas as pd\n",
    "import matplotlib.pyplot as plt\n",
    "import numpy as np\n",
    "from autots import AutoTS\n",
    "import pathlib\n",
    "import json\n"
   ]
  },
  {
   "cell_type": "code",
   "execution_count": 9,
   "outputs": [],
   "source": [
    "\n",
    "gelman_data = pd.read_excel('../../data/Gelman_2020_DATA_Rockworks6-2020.xlsx',\n",
    "                          sheet_name = 'TmInterval')\n",
    "\n",
    "loc_data = pd.read_excel('../../data/Gelman_2020_DATA_Rockworks6-2020.xlsx',\n",
    "                          sheet_name = 'Location')\n"
   ],
   "metadata": {
    "collapsed": false,
    "pycharm": {
     "name": "#%%\n"
    }
   }
  },
  {
   "cell_type": "code",
   "execution_count": 10,
   "outputs": [
    {
     "data": {
      "text/plain": "                    Bore  Enabled       Easting    Northing  Elevation  \\\n0      1021 Westview Way    False  1.327472e+07  281015.800  1017.0000   \n1      1024 Westview Way    False  1.327422e+07  281040.300  1002.0800   \n2      1049 Westview Way    False  1.327472e+07  280891.300  1017.5300   \n3             105 Myrtle    False  1.326925e+07  286712.500   886.2000   \n4      1052 Westview Way    False  1.327430e+07  280863.700  1003.2100   \n5      1080 Westview Way    False  1.327433e+07  280728.800  1001.0800   \n6     110 Parkland Plaza    False  1.327283e+07  285907.000   936.1181   \n7      1105 Westview Way    False  1.327476e+07  280633.000  1015.7700   \n8      1108 Westview Way    False  1.327437e+07  280620.000  1000.8500   \n9      1130 Westview Way    False  1.327430e+07  280492.400   994.5400   \n10      1132 South Maple    False  1.328199e+07  280538.600   987.0964   \n11            114 Myrtle    False  1.326921e+07  286591.310   882.4338   \n12     1149 Southwood Ct    False  1.327474e+07  280476.800  1009.8400   \n13         116 LUELLA ST    False  1.326854e+07  286627.931   873.8075   \n14      1210 S Wagner Rd    False -9.999000e+03   -9999.000 -9999.0000   \n15     1239 Westview Way    False  1.327446e+07  280002.860   999.4791   \n16            131 Myrtle    False  1.326931e+07  286475.530   880.9197   \n17            170 Aprill    False  1.327451e+07  285598.000   907.2557   \n18     175 Jackson Plaza    False  1.327635e+07  285337.370   929.4347   \n19  2100 South Wagner Rd    False  1.327687e+07  274919.140  1050.0000   \n\n    TotalDepth  CollarElevation  \\\n0        268.0         -9999.00   \n1      -9999.0         -9999.00   \n2        280.0         -9999.00   \n3         65.0           884.00   \n4        276.0         -9999.00   \n5        276.0         -9999.00   \n6         91.0           936.18   \n7        251.0         -9999.00   \n8        266.0         -9999.00   \n9        282.0         -9999.00   \n10     -9999.0         -9999.00   \n11        54.0         -9999.00   \n12       257.0         -9999.00   \n13        54.0           874.00   \n14       165.0         -9999.00   \n15     -9999.0         -9999.00   \n16        39.0         -9999.00   \n17        50.0           911.07   \n18       103.0           930.02   \n19       217.0         -9999.00   \n\n                                             Comments  GEIcon  Color  ...  \\\n0                                                 NaN       1      0  ...   \n1                                                 NaN       1      0  ...   \n2                                                 NaN       1      0  ...   \n3                      Replacement water supply well.       1      0  ...   \n4                                                 NaN       1      0  ...   \n5                                                 NaN       1      0  ...   \n6                                                 NaN       1      0  ...   \n7                                                 NaN       1      0  ...   \n8                                                 NaN       1      0  ...   \n9                                                 NaN       1      0  ...   \n10                                                NaN       1      0  ...   \n11                                                NaN       1      0  ...   \n12                                                NaN       1      0  ...   \n13                                                NaN       1      0  ...   \n14                                                NaN       1      0  ...   \n15          Sampling requested by owner selling home.       1      0  ...   \n16                           Water Supply Well In Use       1      0  ...   \n17                                                NaN       1      0  ...   \n18  X-Y coordinates resurveyed Oct 2012 & TOC surv...       1      0  ...   \n19  04/14/21/JPR: Elevation changed from -9999 to ...       1      0  ...   \n\n    spc_y  spc_unit  utm_datum  utm_zone  utm_x  utm_y  utm_unit  pj4_x  \\\n0       0         1         22        12      0      0         1      0   \n1       0         1         22        12      0      0         1      0   \n2       0         1         22        12      0      0         1      0   \n3       0         1         22        12      0      0         1      0   \n4       0         1         22        12      0      0         1      0   \n5       0         1         22        12      0      0         1      0   \n6       0         1         22        12      0      0         1      0   \n7       0         1         22        12      0      0         1      0   \n8       0         1         22        12      0      0         1      0   \n9       0         1         22        12      0      0         1      0   \n10      0         1         22        12      0      0         1      0   \n11      0         1         22        12      0      0         1      0   \n12      0         1         22        12      0      0         1      0   \n13      0         1         22        12      0      0         1      0   \n14      0         1         22        12      0      0         1      0   \n15      0         1         22        12      0      0         1      0   \n16      0         1         22        12      0      0         1      0   \n17      0         1         22        12      0      0         1      0   \n18      0         1         22        12      0      0         1      0   \n19      0         1         22        12      0      0         1      0   \n\n    pj4_y  pj4_paramstr  \n0       0           NaN  \n1       0           NaN  \n2       0           NaN  \n3       0           NaN  \n4       0           NaN  \n5       0           NaN  \n6       0           NaN  \n7       0           NaN  \n8       0           NaN  \n9       0           NaN  \n10      0           NaN  \n11      0           NaN  \n12      0           NaN  \n13      0           NaN  \n14      0           NaN  \n15      0           NaN  \n16      0           NaN  \n17      0           NaN  \n18      0           NaN  \n19      0           NaN  \n\n[20 rows x 39 columns]",
      "text/html": "<div>\n<style scoped>\n    .dataframe tbody tr th:only-of-type {\n        vertical-align: middle;\n    }\n\n    .dataframe tbody tr th {\n        vertical-align: top;\n    }\n\n    .dataframe thead th {\n        text-align: right;\n    }\n</style>\n<table border=\"1\" class=\"dataframe\">\n  <thead>\n    <tr style=\"text-align: right;\">\n      <th></th>\n      <th>Bore</th>\n      <th>Enabled</th>\n      <th>Easting</th>\n      <th>Northing</th>\n      <th>Elevation</th>\n      <th>TotalDepth</th>\n      <th>CollarElevation</th>\n      <th>Comments</th>\n      <th>GEIcon</th>\n      <th>Color</th>\n      <th>...</th>\n      <th>spc_y</th>\n      <th>spc_unit</th>\n      <th>utm_datum</th>\n      <th>utm_zone</th>\n      <th>utm_x</th>\n      <th>utm_y</th>\n      <th>utm_unit</th>\n      <th>pj4_x</th>\n      <th>pj4_y</th>\n      <th>pj4_paramstr</th>\n    </tr>\n  </thead>\n  <tbody>\n    <tr>\n      <th>0</th>\n      <td>1021 Westview Way</td>\n      <td>False</td>\n      <td>1.327472e+07</td>\n      <td>281015.800</td>\n      <td>1017.0000</td>\n      <td>268.0</td>\n      <td>-9999.00</td>\n      <td>NaN</td>\n      <td>1</td>\n      <td>0</td>\n      <td>...</td>\n      <td>0</td>\n      <td>1</td>\n      <td>22</td>\n      <td>12</td>\n      <td>0</td>\n      <td>0</td>\n      <td>1</td>\n      <td>0</td>\n      <td>0</td>\n      <td>NaN</td>\n    </tr>\n    <tr>\n      <th>1</th>\n      <td>1024 Westview Way</td>\n      <td>False</td>\n      <td>1.327422e+07</td>\n      <td>281040.300</td>\n      <td>1002.0800</td>\n      <td>-9999.0</td>\n      <td>-9999.00</td>\n      <td>NaN</td>\n      <td>1</td>\n      <td>0</td>\n      <td>...</td>\n      <td>0</td>\n      <td>1</td>\n      <td>22</td>\n      <td>12</td>\n      <td>0</td>\n      <td>0</td>\n      <td>1</td>\n      <td>0</td>\n      <td>0</td>\n      <td>NaN</td>\n    </tr>\n    <tr>\n      <th>2</th>\n      <td>1049 Westview Way</td>\n      <td>False</td>\n      <td>1.327472e+07</td>\n      <td>280891.300</td>\n      <td>1017.5300</td>\n      <td>280.0</td>\n      <td>-9999.00</td>\n      <td>NaN</td>\n      <td>1</td>\n      <td>0</td>\n      <td>...</td>\n      <td>0</td>\n      <td>1</td>\n      <td>22</td>\n      <td>12</td>\n      <td>0</td>\n      <td>0</td>\n      <td>1</td>\n      <td>0</td>\n      <td>0</td>\n      <td>NaN</td>\n    </tr>\n    <tr>\n      <th>3</th>\n      <td>105 Myrtle</td>\n      <td>False</td>\n      <td>1.326925e+07</td>\n      <td>286712.500</td>\n      <td>886.2000</td>\n      <td>65.0</td>\n      <td>884.00</td>\n      <td>Replacement water supply well.</td>\n      <td>1</td>\n      <td>0</td>\n      <td>...</td>\n      <td>0</td>\n      <td>1</td>\n      <td>22</td>\n      <td>12</td>\n      <td>0</td>\n      <td>0</td>\n      <td>1</td>\n      <td>0</td>\n      <td>0</td>\n      <td>NaN</td>\n    </tr>\n    <tr>\n      <th>4</th>\n      <td>1052 Westview Way</td>\n      <td>False</td>\n      <td>1.327430e+07</td>\n      <td>280863.700</td>\n      <td>1003.2100</td>\n      <td>276.0</td>\n      <td>-9999.00</td>\n      <td>NaN</td>\n      <td>1</td>\n      <td>0</td>\n      <td>...</td>\n      <td>0</td>\n      <td>1</td>\n      <td>22</td>\n      <td>12</td>\n      <td>0</td>\n      <td>0</td>\n      <td>1</td>\n      <td>0</td>\n      <td>0</td>\n      <td>NaN</td>\n    </tr>\n    <tr>\n      <th>5</th>\n      <td>1080 Westview Way</td>\n      <td>False</td>\n      <td>1.327433e+07</td>\n      <td>280728.800</td>\n      <td>1001.0800</td>\n      <td>276.0</td>\n      <td>-9999.00</td>\n      <td>NaN</td>\n      <td>1</td>\n      <td>0</td>\n      <td>...</td>\n      <td>0</td>\n      <td>1</td>\n      <td>22</td>\n      <td>12</td>\n      <td>0</td>\n      <td>0</td>\n      <td>1</td>\n      <td>0</td>\n      <td>0</td>\n      <td>NaN</td>\n    </tr>\n    <tr>\n      <th>6</th>\n      <td>110 Parkland Plaza</td>\n      <td>False</td>\n      <td>1.327283e+07</td>\n      <td>285907.000</td>\n      <td>936.1181</td>\n      <td>91.0</td>\n      <td>936.18</td>\n      <td>NaN</td>\n      <td>1</td>\n      <td>0</td>\n      <td>...</td>\n      <td>0</td>\n      <td>1</td>\n      <td>22</td>\n      <td>12</td>\n      <td>0</td>\n      <td>0</td>\n      <td>1</td>\n      <td>0</td>\n      <td>0</td>\n      <td>NaN</td>\n    </tr>\n    <tr>\n      <th>7</th>\n      <td>1105 Westview Way</td>\n      <td>False</td>\n      <td>1.327476e+07</td>\n      <td>280633.000</td>\n      <td>1015.7700</td>\n      <td>251.0</td>\n      <td>-9999.00</td>\n      <td>NaN</td>\n      <td>1</td>\n      <td>0</td>\n      <td>...</td>\n      <td>0</td>\n      <td>1</td>\n      <td>22</td>\n      <td>12</td>\n      <td>0</td>\n      <td>0</td>\n      <td>1</td>\n      <td>0</td>\n      <td>0</td>\n      <td>NaN</td>\n    </tr>\n    <tr>\n      <th>8</th>\n      <td>1108 Westview Way</td>\n      <td>False</td>\n      <td>1.327437e+07</td>\n      <td>280620.000</td>\n      <td>1000.8500</td>\n      <td>266.0</td>\n      <td>-9999.00</td>\n      <td>NaN</td>\n      <td>1</td>\n      <td>0</td>\n      <td>...</td>\n      <td>0</td>\n      <td>1</td>\n      <td>22</td>\n      <td>12</td>\n      <td>0</td>\n      <td>0</td>\n      <td>1</td>\n      <td>0</td>\n      <td>0</td>\n      <td>NaN</td>\n    </tr>\n    <tr>\n      <th>9</th>\n      <td>1130 Westview Way</td>\n      <td>False</td>\n      <td>1.327430e+07</td>\n      <td>280492.400</td>\n      <td>994.5400</td>\n      <td>282.0</td>\n      <td>-9999.00</td>\n      <td>NaN</td>\n      <td>1</td>\n      <td>0</td>\n      <td>...</td>\n      <td>0</td>\n      <td>1</td>\n      <td>22</td>\n      <td>12</td>\n      <td>0</td>\n      <td>0</td>\n      <td>1</td>\n      <td>0</td>\n      <td>0</td>\n      <td>NaN</td>\n    </tr>\n    <tr>\n      <th>10</th>\n      <td>1132 South Maple</td>\n      <td>False</td>\n      <td>1.328199e+07</td>\n      <td>280538.600</td>\n      <td>987.0964</td>\n      <td>-9999.0</td>\n      <td>-9999.00</td>\n      <td>NaN</td>\n      <td>1</td>\n      <td>0</td>\n      <td>...</td>\n      <td>0</td>\n      <td>1</td>\n      <td>22</td>\n      <td>12</td>\n      <td>0</td>\n      <td>0</td>\n      <td>1</td>\n      <td>0</td>\n      <td>0</td>\n      <td>NaN</td>\n    </tr>\n    <tr>\n      <th>11</th>\n      <td>114 Myrtle</td>\n      <td>False</td>\n      <td>1.326921e+07</td>\n      <td>286591.310</td>\n      <td>882.4338</td>\n      <td>54.0</td>\n      <td>-9999.00</td>\n      <td>NaN</td>\n      <td>1</td>\n      <td>0</td>\n      <td>...</td>\n      <td>0</td>\n      <td>1</td>\n      <td>22</td>\n      <td>12</td>\n      <td>0</td>\n      <td>0</td>\n      <td>1</td>\n      <td>0</td>\n      <td>0</td>\n      <td>NaN</td>\n    </tr>\n    <tr>\n      <th>12</th>\n      <td>1149 Southwood Ct</td>\n      <td>False</td>\n      <td>1.327474e+07</td>\n      <td>280476.800</td>\n      <td>1009.8400</td>\n      <td>257.0</td>\n      <td>-9999.00</td>\n      <td>NaN</td>\n      <td>1</td>\n      <td>0</td>\n      <td>...</td>\n      <td>0</td>\n      <td>1</td>\n      <td>22</td>\n      <td>12</td>\n      <td>0</td>\n      <td>0</td>\n      <td>1</td>\n      <td>0</td>\n      <td>0</td>\n      <td>NaN</td>\n    </tr>\n    <tr>\n      <th>13</th>\n      <td>116 LUELLA ST</td>\n      <td>False</td>\n      <td>1.326854e+07</td>\n      <td>286627.931</td>\n      <td>873.8075</td>\n      <td>54.0</td>\n      <td>874.00</td>\n      <td>NaN</td>\n      <td>1</td>\n      <td>0</td>\n      <td>...</td>\n      <td>0</td>\n      <td>1</td>\n      <td>22</td>\n      <td>12</td>\n      <td>0</td>\n      <td>0</td>\n      <td>1</td>\n      <td>0</td>\n      <td>0</td>\n      <td>NaN</td>\n    </tr>\n    <tr>\n      <th>14</th>\n      <td>1210 S Wagner Rd</td>\n      <td>False</td>\n      <td>-9.999000e+03</td>\n      <td>-9999.000</td>\n      <td>-9999.0000</td>\n      <td>165.0</td>\n      <td>-9999.00</td>\n      <td>NaN</td>\n      <td>1</td>\n      <td>0</td>\n      <td>...</td>\n      <td>0</td>\n      <td>1</td>\n      <td>22</td>\n      <td>12</td>\n      <td>0</td>\n      <td>0</td>\n      <td>1</td>\n      <td>0</td>\n      <td>0</td>\n      <td>NaN</td>\n    </tr>\n    <tr>\n      <th>15</th>\n      <td>1239 Westview Way</td>\n      <td>False</td>\n      <td>1.327446e+07</td>\n      <td>280002.860</td>\n      <td>999.4791</td>\n      <td>-9999.0</td>\n      <td>-9999.00</td>\n      <td>Sampling requested by owner selling home.</td>\n      <td>1</td>\n      <td>0</td>\n      <td>...</td>\n      <td>0</td>\n      <td>1</td>\n      <td>22</td>\n      <td>12</td>\n      <td>0</td>\n      <td>0</td>\n      <td>1</td>\n      <td>0</td>\n      <td>0</td>\n      <td>NaN</td>\n    </tr>\n    <tr>\n      <th>16</th>\n      <td>131 Myrtle</td>\n      <td>False</td>\n      <td>1.326931e+07</td>\n      <td>286475.530</td>\n      <td>880.9197</td>\n      <td>39.0</td>\n      <td>-9999.00</td>\n      <td>Water Supply Well In Use</td>\n      <td>1</td>\n      <td>0</td>\n      <td>...</td>\n      <td>0</td>\n      <td>1</td>\n      <td>22</td>\n      <td>12</td>\n      <td>0</td>\n      <td>0</td>\n      <td>1</td>\n      <td>0</td>\n      <td>0</td>\n      <td>NaN</td>\n    </tr>\n    <tr>\n      <th>17</th>\n      <td>170 Aprill</td>\n      <td>False</td>\n      <td>1.327451e+07</td>\n      <td>285598.000</td>\n      <td>907.2557</td>\n      <td>50.0</td>\n      <td>911.07</td>\n      <td>NaN</td>\n      <td>1</td>\n      <td>0</td>\n      <td>...</td>\n      <td>0</td>\n      <td>1</td>\n      <td>22</td>\n      <td>12</td>\n      <td>0</td>\n      <td>0</td>\n      <td>1</td>\n      <td>0</td>\n      <td>0</td>\n      <td>NaN</td>\n    </tr>\n    <tr>\n      <th>18</th>\n      <td>175 Jackson Plaza</td>\n      <td>False</td>\n      <td>1.327635e+07</td>\n      <td>285337.370</td>\n      <td>929.4347</td>\n      <td>103.0</td>\n      <td>930.02</td>\n      <td>X-Y coordinates resurveyed Oct 2012 &amp; TOC surv...</td>\n      <td>1</td>\n      <td>0</td>\n      <td>...</td>\n      <td>0</td>\n      <td>1</td>\n      <td>22</td>\n      <td>12</td>\n      <td>0</td>\n      <td>0</td>\n      <td>1</td>\n      <td>0</td>\n      <td>0</td>\n      <td>NaN</td>\n    </tr>\n    <tr>\n      <th>19</th>\n      <td>2100 South Wagner Rd</td>\n      <td>False</td>\n      <td>1.327687e+07</td>\n      <td>274919.140</td>\n      <td>1050.0000</td>\n      <td>217.0</td>\n      <td>-9999.00</td>\n      <td>04/14/21/JPR: Elevation changed from -9999 to ...</td>\n      <td>1</td>\n      <td>0</td>\n      <td>...</td>\n      <td>0</td>\n      <td>1</td>\n      <td>22</td>\n      <td>12</td>\n      <td>0</td>\n      <td>0</td>\n      <td>1</td>\n      <td>0</td>\n      <td>0</td>\n      <td>NaN</td>\n    </tr>\n  </tbody>\n</table>\n<p>20 rows × 39 columns</p>\n</div>"
     },
     "execution_count": 10,
     "metadata": {},
     "output_type": "execute_result"
    }
   ],
   "source": [
    "loc_data.head(20)"
   ],
   "metadata": {
    "collapsed": false,
    "pycharm": {
     "name": "#%%\n"
    }
   }
  },
  {
   "cell_type": "code",
   "execution_count": 5,
   "outputs": [
    {
     "data": {
      "text/plain": "(42.269731983117495, -83.8073438786552)"
     },
     "execution_count": 5,
     "metadata": {},
     "output_type": "execute_result"
    }
   ],
   "source": [
    "from pyproj import CRS\n",
    "from pyproj import Transformer\n",
    "crs = CRS.from_proj4(\"+proj=lcc +lat_1=42.1 +lat_2=43.66666666666666 +lat_0=41.5 +lon_0=-84.36666666666666 +x_0=4000000 +y_0=0 +ellps=GRS80 +datum=NAD83 +to_meter=0.3048006096012192 no_defs\")\n",
    "\n",
    "crs_4326 = CRS.from_epsg(4326)\n",
    "\n",
    "transformer = Transformer.from_crs(crs, crs_4326)\n",
    "\n",
    "x1,y1  = 13274717.9 , 281015.8\n",
    "\n",
    "transformer.transform(x1,y1)\n"
   ],
   "metadata": {
    "collapsed": false,
    "pycharm": {
     "name": "#%%\n"
    }
   }
  },
  {
   "cell_type": "code",
   "execution_count": 13,
   "outputs": [
    {
     "data": {
      "text/plain": "                Bore  Enabled     Easting  Northing  Elevation  TotalDepth  \\\n0  1021 Westview Way    False  13274717.9  281015.8    1017.00       268.0   \n1  1024 Westview Way    False  13274221.6  281040.3    1002.08     -9999.0   \n2  1049 Westview Way    False  13274722.1  280891.3    1017.53       280.0   \n3         105 Myrtle    False  13269250.0  286712.5     886.20        65.0   \n4  1052 Westview Way    False  13274301.3  280863.7    1003.21       276.0   \n\n   CollarElevation                        Comments  GEIcon  Color  ...  \\\n0          -9999.0                             NaN       1      0  ...   \n1          -9999.0                             NaN       1      0  ...   \n2          -9999.0                             NaN       1      0  ...   \n3            884.0  Replacement water supply well.       1      0  ...   \n4          -9999.0                             NaN       1      0  ...   \n\n   utm_datum  utm_zone  utm_x  utm_y  utm_unit  pj4_x  pj4_y  pj4_paramstr  \\\n0         22        12      0      0         1      0      0           NaN   \n1         22        12      0      0         1      0      0           NaN   \n2         22        12      0      0         1      0      0           NaN   \n3         22        12      0      0         1      0      0           NaN   \n4         22        12      0      0         1      0      0           NaN   \n\n         lat        lon  \n0  42.269732 -83.807344  \n1  42.269808 -83.809177  \n2  42.269390 -83.807331  \n3  42.285462 -83.827411  \n4  42.269322 -83.808887  \n\n[5 rows x 41 columns]",
      "text/html": "<div>\n<style scoped>\n    .dataframe tbody tr th:only-of-type {\n        vertical-align: middle;\n    }\n\n    .dataframe tbody tr th {\n        vertical-align: top;\n    }\n\n    .dataframe thead th {\n        text-align: right;\n    }\n</style>\n<table border=\"1\" class=\"dataframe\">\n  <thead>\n    <tr style=\"text-align: right;\">\n      <th></th>\n      <th>Bore</th>\n      <th>Enabled</th>\n      <th>Easting</th>\n      <th>Northing</th>\n      <th>Elevation</th>\n      <th>TotalDepth</th>\n      <th>CollarElevation</th>\n      <th>Comments</th>\n      <th>GEIcon</th>\n      <th>Color</th>\n      <th>...</th>\n      <th>utm_datum</th>\n      <th>utm_zone</th>\n      <th>utm_x</th>\n      <th>utm_y</th>\n      <th>utm_unit</th>\n      <th>pj4_x</th>\n      <th>pj4_y</th>\n      <th>pj4_paramstr</th>\n      <th>lat</th>\n      <th>lon</th>\n    </tr>\n  </thead>\n  <tbody>\n    <tr>\n      <th>0</th>\n      <td>1021 Westview Way</td>\n      <td>False</td>\n      <td>13274717.9</td>\n      <td>281015.8</td>\n      <td>1017.00</td>\n      <td>268.0</td>\n      <td>-9999.0</td>\n      <td>NaN</td>\n      <td>1</td>\n      <td>0</td>\n      <td>...</td>\n      <td>22</td>\n      <td>12</td>\n      <td>0</td>\n      <td>0</td>\n      <td>1</td>\n      <td>0</td>\n      <td>0</td>\n      <td>NaN</td>\n      <td>42.269732</td>\n      <td>-83.807344</td>\n    </tr>\n    <tr>\n      <th>1</th>\n      <td>1024 Westview Way</td>\n      <td>False</td>\n      <td>13274221.6</td>\n      <td>281040.3</td>\n      <td>1002.08</td>\n      <td>-9999.0</td>\n      <td>-9999.0</td>\n      <td>NaN</td>\n      <td>1</td>\n      <td>0</td>\n      <td>...</td>\n      <td>22</td>\n      <td>12</td>\n      <td>0</td>\n      <td>0</td>\n      <td>1</td>\n      <td>0</td>\n      <td>0</td>\n      <td>NaN</td>\n      <td>42.269808</td>\n      <td>-83.809177</td>\n    </tr>\n    <tr>\n      <th>2</th>\n      <td>1049 Westview Way</td>\n      <td>False</td>\n      <td>13274722.1</td>\n      <td>280891.3</td>\n      <td>1017.53</td>\n      <td>280.0</td>\n      <td>-9999.0</td>\n      <td>NaN</td>\n      <td>1</td>\n      <td>0</td>\n      <td>...</td>\n      <td>22</td>\n      <td>12</td>\n      <td>0</td>\n      <td>0</td>\n      <td>1</td>\n      <td>0</td>\n      <td>0</td>\n      <td>NaN</td>\n      <td>42.269390</td>\n      <td>-83.807331</td>\n    </tr>\n    <tr>\n      <th>3</th>\n      <td>105 Myrtle</td>\n      <td>False</td>\n      <td>13269250.0</td>\n      <td>286712.5</td>\n      <td>886.20</td>\n      <td>65.0</td>\n      <td>884.0</td>\n      <td>Replacement water supply well.</td>\n      <td>1</td>\n      <td>0</td>\n      <td>...</td>\n      <td>22</td>\n      <td>12</td>\n      <td>0</td>\n      <td>0</td>\n      <td>1</td>\n      <td>0</td>\n      <td>0</td>\n      <td>NaN</td>\n      <td>42.285462</td>\n      <td>-83.827411</td>\n    </tr>\n    <tr>\n      <th>4</th>\n      <td>1052 Westview Way</td>\n      <td>False</td>\n      <td>13274301.3</td>\n      <td>280863.7</td>\n      <td>1003.21</td>\n      <td>276.0</td>\n      <td>-9999.0</td>\n      <td>NaN</td>\n      <td>1</td>\n      <td>0</td>\n      <td>...</td>\n      <td>22</td>\n      <td>12</td>\n      <td>0</td>\n      <td>0</td>\n      <td>1</td>\n      <td>0</td>\n      <td>0</td>\n      <td>NaN</td>\n      <td>42.269322</td>\n      <td>-83.808887</td>\n    </tr>\n  </tbody>\n</table>\n<p>5 rows × 41 columns</p>\n</div>"
     },
     "execution_count": 13,
     "metadata": {},
     "output_type": "execute_result"
    }
   ],
   "source": [
    "loc_copy = loc_data.copy()\n",
    "loc_copy.loc[:, 'lat'] = transformer.transform(loc_copy[\"Easting\"],\n",
    "                                               loc_copy[\"Northing\"])[0]\n",
    "loc_copy.loc[:, 'lon'] = transformer.transform(loc_copy[\"Easting\"],\n",
    "                                               loc_copy[\"Northing\"])[1]\n",
    "loc_copy.head(5)"
   ],
   "metadata": {
    "collapsed": false,
    "pycharm": {
     "name": "#%%\n"
    }
   }
  },
  {
   "cell_type": "code",
   "execution_count": 29,
   "outputs": [],
   "source": [
    "result = pd.merge(gelman_data, loc_copy, on=[\"Bore\", \"Bore\"])\n",
    "\n",
    "remove_invalid = result.loc[result['Easting'] != -9999].copy()"
   ],
   "metadata": {
    "collapsed": false,
    "pycharm": {
     "name": "#%%\n"
    }
   }
  },
  {
   "cell_type": "code",
   "execution_count": 31,
   "outputs": [],
   "source": [
    "remove_invalid.to_excel(\"../../result(new)/joined_well_data.xlsx\")\n"
   ],
   "metadata": {
    "collapsed": false,
    "pycharm": {
     "name": "#%%\n"
    }
   }
  }
 ],
 "metadata": {
  "kernelspec": {
   "display_name": "Python 3",
   "language": "python",
   "name": "python3"
  },
  "language_info": {
   "codemirror_mode": {
    "name": "ipython",
    "version": 2
   },
   "file_extension": ".py",
   "mimetype": "text/x-python",
   "name": "python",
   "nbconvert_exporter": "python",
   "pygments_lexer": "ipython2",
   "version": "2.7.6"
  }
 },
 "nbformat": 4,
 "nbformat_minor": 0
}