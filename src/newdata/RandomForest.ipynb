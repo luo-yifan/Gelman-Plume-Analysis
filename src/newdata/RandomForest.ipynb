{
 "cells": [
  {
   "cell_type": "code",
   "execution_count": 1,
   "metadata": {
    "collapsed": true
   },
   "outputs": [
    {
     "data": {
      "text/plain": "   Unnamed: 0               Bore         Name  Depth1  Depth2 SampleDate  \\\n0           0  1021 Westview Way  1-4 Dioxane   260.0   268.0 2019-05-08   \n1           1  1024 Westview Way  1-4 Dioxane -9999.0 -9999.0 2019-05-08   \n2           2  1049 Westview Way  1-4 Dioxane   272.0   280.0 2019-05-08   \n3           3         105 Myrtle  1-4 Dioxane    61.0    65.0 1999-03-27   \n4           4         105 Myrtle  1-4 Dioxane    61.0    65.0 1999-05-28   \n\n   Value   Comment  Enabled     Easting  ...  utm_datum  utm_zone  utm_x  \\\n0    0.5  EGLE Lab    False  13274717.9  ...         22        12      0   \n1    0.5  EGLE Lab    False  13274221.6  ...         22        12      0   \n2    0.5  EGLE Lab    False  13274722.1  ...         22        12      0   \n3    0.5       NaN    False  13269250.0  ...         22        12      0   \n4    0.5       NaN    False  13269250.0  ...         22        12      0   \n\n   utm_y utm_unit  pj4_x  pj4_y  pj4_paramstr        lat        lon  \n0      0        1      0      0           NaN  42.269732 -83.807344  \n1      0        1      0      0           NaN  42.269808 -83.809177  \n2      0        1      0      0           NaN  42.269390 -83.807331  \n3      0        1      0      0           NaN  42.285462 -83.827411  \n4      0        1      0      0           NaN  42.285462 -83.827411  \n\n[5 rows x 48 columns]",
      "text/html": "<div>\n<style scoped>\n    .dataframe tbody tr th:only-of-type {\n        vertical-align: middle;\n    }\n\n    .dataframe tbody tr th {\n        vertical-align: top;\n    }\n\n    .dataframe thead th {\n        text-align: right;\n    }\n</style>\n<table border=\"1\" class=\"dataframe\">\n  <thead>\n    <tr style=\"text-align: right;\">\n      <th></th>\n      <th>Unnamed: 0</th>\n      <th>Bore</th>\n      <th>Name</th>\n      <th>Depth1</th>\n      <th>Depth2</th>\n      <th>SampleDate</th>\n      <th>Value</th>\n      <th>Comment</th>\n      <th>Enabled</th>\n      <th>Easting</th>\n      <th>...</th>\n      <th>utm_datum</th>\n      <th>utm_zone</th>\n      <th>utm_x</th>\n      <th>utm_y</th>\n      <th>utm_unit</th>\n      <th>pj4_x</th>\n      <th>pj4_y</th>\n      <th>pj4_paramstr</th>\n      <th>lat</th>\n      <th>lon</th>\n    </tr>\n  </thead>\n  <tbody>\n    <tr>\n      <th>0</th>\n      <td>0</td>\n      <td>1021 Westview Way</td>\n      <td>1-4 Dioxane</td>\n      <td>260.0</td>\n      <td>268.0</td>\n      <td>2019-05-08</td>\n      <td>0.5</td>\n      <td>EGLE Lab</td>\n      <td>False</td>\n      <td>13274717.9</td>\n      <td>...</td>\n      <td>22</td>\n      <td>12</td>\n      <td>0</td>\n      <td>0</td>\n      <td>1</td>\n      <td>0</td>\n      <td>0</td>\n      <td>NaN</td>\n      <td>42.269732</td>\n      <td>-83.807344</td>\n    </tr>\n    <tr>\n      <th>1</th>\n      <td>1</td>\n      <td>1024 Westview Way</td>\n      <td>1-4 Dioxane</td>\n      <td>-9999.0</td>\n      <td>-9999.0</td>\n      <td>2019-05-08</td>\n      <td>0.5</td>\n      <td>EGLE Lab</td>\n      <td>False</td>\n      <td>13274221.6</td>\n      <td>...</td>\n      <td>22</td>\n      <td>12</td>\n      <td>0</td>\n      <td>0</td>\n      <td>1</td>\n      <td>0</td>\n      <td>0</td>\n      <td>NaN</td>\n      <td>42.269808</td>\n      <td>-83.809177</td>\n    </tr>\n    <tr>\n      <th>2</th>\n      <td>2</td>\n      <td>1049 Westview Way</td>\n      <td>1-4 Dioxane</td>\n      <td>272.0</td>\n      <td>280.0</td>\n      <td>2019-05-08</td>\n      <td>0.5</td>\n      <td>EGLE Lab</td>\n      <td>False</td>\n      <td>13274722.1</td>\n      <td>...</td>\n      <td>22</td>\n      <td>12</td>\n      <td>0</td>\n      <td>0</td>\n      <td>1</td>\n      <td>0</td>\n      <td>0</td>\n      <td>NaN</td>\n      <td>42.269390</td>\n      <td>-83.807331</td>\n    </tr>\n    <tr>\n      <th>3</th>\n      <td>3</td>\n      <td>105 Myrtle</td>\n      <td>1-4 Dioxane</td>\n      <td>61.0</td>\n      <td>65.0</td>\n      <td>1999-03-27</td>\n      <td>0.5</td>\n      <td>NaN</td>\n      <td>False</td>\n      <td>13269250.0</td>\n      <td>...</td>\n      <td>22</td>\n      <td>12</td>\n      <td>0</td>\n      <td>0</td>\n      <td>1</td>\n      <td>0</td>\n      <td>0</td>\n      <td>NaN</td>\n      <td>42.285462</td>\n      <td>-83.827411</td>\n    </tr>\n    <tr>\n      <th>4</th>\n      <td>4</td>\n      <td>105 Myrtle</td>\n      <td>1-4 Dioxane</td>\n      <td>61.0</td>\n      <td>65.0</td>\n      <td>1999-05-28</td>\n      <td>0.5</td>\n      <td>NaN</td>\n      <td>False</td>\n      <td>13269250.0</td>\n      <td>...</td>\n      <td>22</td>\n      <td>12</td>\n      <td>0</td>\n      <td>0</td>\n      <td>1</td>\n      <td>0</td>\n      <td>0</td>\n      <td>NaN</td>\n      <td>42.285462</td>\n      <td>-83.827411</td>\n    </tr>\n  </tbody>\n</table>\n<p>5 rows × 48 columns</p>\n</div>"
     },
     "execution_count": 1,
     "metadata": {},
     "output_type": "execute_result"
    }
   ],
   "source": [
    "import pandas as pd\n",
    "gelman_data = pd.read_excel(\"../../result(new)/joined_well_data.xlsx\")\n",
    "gelman_data.head(5)"
   ]
  },
  {
   "cell_type": "code",
   "execution_count": 2,
   "outputs": [
    {
     "data": {
      "text/plain": "   Unnamed: 0               Bore         Name  Depth1  Depth2 SampleDate  \\\n0           0  1021 Westview Way  1-4 Dioxane   260.0   268.0 2019-05-08   \n1           1  1024 Westview Way  1-4 Dioxane -9999.0 -9999.0 2019-05-08   \n2           2  1049 Westview Way  1-4 Dioxane   272.0   280.0 2019-05-08   \n3           3         105 Myrtle  1-4 Dioxane    61.0    65.0 1999-03-27   \n4           4         105 Myrtle  1-4 Dioxane    61.0    65.0 1999-05-28   \n\n   Value   Comment  Enabled     Easting  ...  utm_x  utm_y  utm_unit  pj4_x  \\\n0    0.5  EGLE Lab    False  13274717.9  ...      0      0         1      0   \n1    0.5  EGLE Lab    False  13274221.6  ...      0      0         1      0   \n2    0.5  EGLE Lab    False  13274722.1  ...      0      0         1      0   \n3    0.5       NaN    False  13269250.0  ...      0      0         1      0   \n4    0.5       NaN    False  13269250.0  ...      0      0         1      0   \n\n  pj4_y  pj4_paramstr        lat        lon    y         ds  \n0     0           NaN  42.269732 -83.807344  0.5 2019-05-08  \n1     0           NaN  42.269808 -83.809177  0.5 2019-05-08  \n2     0           NaN  42.269390 -83.807331  0.5 2019-05-08  \n3     0           NaN  42.285462 -83.827411  0.5 1999-03-27  \n4     0           NaN  42.285462 -83.827411  0.5 1999-05-28  \n\n[5 rows x 50 columns]",
      "text/html": "<div>\n<style scoped>\n    .dataframe tbody tr th:only-of-type {\n        vertical-align: middle;\n    }\n\n    .dataframe tbody tr th {\n        vertical-align: top;\n    }\n\n    .dataframe thead th {\n        text-align: right;\n    }\n</style>\n<table border=\"1\" class=\"dataframe\">\n  <thead>\n    <tr style=\"text-align: right;\">\n      <th></th>\n      <th>Unnamed: 0</th>\n      <th>Bore</th>\n      <th>Name</th>\n      <th>Depth1</th>\n      <th>Depth2</th>\n      <th>SampleDate</th>\n      <th>Value</th>\n      <th>Comment</th>\n      <th>Enabled</th>\n      <th>Easting</th>\n      <th>...</th>\n      <th>utm_x</th>\n      <th>utm_y</th>\n      <th>utm_unit</th>\n      <th>pj4_x</th>\n      <th>pj4_y</th>\n      <th>pj4_paramstr</th>\n      <th>lat</th>\n      <th>lon</th>\n      <th>y</th>\n      <th>ds</th>\n    </tr>\n  </thead>\n  <tbody>\n    <tr>\n      <th>0</th>\n      <td>0</td>\n      <td>1021 Westview Way</td>\n      <td>1-4 Dioxane</td>\n      <td>260.0</td>\n      <td>268.0</td>\n      <td>2019-05-08</td>\n      <td>0.5</td>\n      <td>EGLE Lab</td>\n      <td>False</td>\n      <td>13274717.9</td>\n      <td>...</td>\n      <td>0</td>\n      <td>0</td>\n      <td>1</td>\n      <td>0</td>\n      <td>0</td>\n      <td>NaN</td>\n      <td>42.269732</td>\n      <td>-83.807344</td>\n      <td>0.5</td>\n      <td>2019-05-08</td>\n    </tr>\n    <tr>\n      <th>1</th>\n      <td>1</td>\n      <td>1024 Westview Way</td>\n      <td>1-4 Dioxane</td>\n      <td>-9999.0</td>\n      <td>-9999.0</td>\n      <td>2019-05-08</td>\n      <td>0.5</td>\n      <td>EGLE Lab</td>\n      <td>False</td>\n      <td>13274221.6</td>\n      <td>...</td>\n      <td>0</td>\n      <td>0</td>\n      <td>1</td>\n      <td>0</td>\n      <td>0</td>\n      <td>NaN</td>\n      <td>42.269808</td>\n      <td>-83.809177</td>\n      <td>0.5</td>\n      <td>2019-05-08</td>\n    </tr>\n    <tr>\n      <th>2</th>\n      <td>2</td>\n      <td>1049 Westview Way</td>\n      <td>1-4 Dioxane</td>\n      <td>272.0</td>\n      <td>280.0</td>\n      <td>2019-05-08</td>\n      <td>0.5</td>\n      <td>EGLE Lab</td>\n      <td>False</td>\n      <td>13274722.1</td>\n      <td>...</td>\n      <td>0</td>\n      <td>0</td>\n      <td>1</td>\n      <td>0</td>\n      <td>0</td>\n      <td>NaN</td>\n      <td>42.269390</td>\n      <td>-83.807331</td>\n      <td>0.5</td>\n      <td>2019-05-08</td>\n    </tr>\n    <tr>\n      <th>3</th>\n      <td>3</td>\n      <td>105 Myrtle</td>\n      <td>1-4 Dioxane</td>\n      <td>61.0</td>\n      <td>65.0</td>\n      <td>1999-03-27</td>\n      <td>0.5</td>\n      <td>NaN</td>\n      <td>False</td>\n      <td>13269250.0</td>\n      <td>...</td>\n      <td>0</td>\n      <td>0</td>\n      <td>1</td>\n      <td>0</td>\n      <td>0</td>\n      <td>NaN</td>\n      <td>42.285462</td>\n      <td>-83.827411</td>\n      <td>0.5</td>\n      <td>1999-03-27</td>\n    </tr>\n    <tr>\n      <th>4</th>\n      <td>4</td>\n      <td>105 Myrtle</td>\n      <td>1-4 Dioxane</td>\n      <td>61.0</td>\n      <td>65.0</td>\n      <td>1999-05-28</td>\n      <td>0.5</td>\n      <td>NaN</td>\n      <td>False</td>\n      <td>13269250.0</td>\n      <td>...</td>\n      <td>0</td>\n      <td>0</td>\n      <td>1</td>\n      <td>0</td>\n      <td>0</td>\n      <td>NaN</td>\n      <td>42.285462</td>\n      <td>-83.827411</td>\n      <td>0.5</td>\n      <td>1999-05-28</td>\n    </tr>\n  </tbody>\n</table>\n<p>5 rows × 50 columns</p>\n</div>"
     },
     "execution_count": 2,
     "metadata": {},
     "output_type": "execute_result"
    }
   ],
   "source": [
    "well_data = gelman_data\n",
    "well_data.loc[:, 'y']= pd.to_numeric(well_data['Value'])\n",
    "well_data.loc[:, 'ds']= pd.to_datetime(well_data['SampleDate'])\n",
    "well_data.head(5)"
   ],
   "metadata": {
    "collapsed": false,
    "pycharm": {
     "name": "#%%\n"
    }
   }
  },
  {
   "cell_type": "code",
   "execution_count": 24,
   "outputs": [
    {
     "data": {
      "text/plain": "   Unnamed: 0               Bore         Name  Depth1  Depth2 SampleDate  \\\n0           0  1021 Westview Way  1-4 Dioxane   260.0   268.0 2019-05-08   \n1           1  1024 Westview Way  1-4 Dioxane -9999.0 -9999.0 2019-05-08   \n2           2  1049 Westview Way  1-4 Dioxane   272.0   280.0 2019-05-08   \n3           3         105 Myrtle  1-4 Dioxane    61.0    65.0 1999-03-27   \n4           4         105 Myrtle  1-4 Dioxane    61.0    65.0 1999-05-28   \n\n   Value   Comment  Enabled     Easting  ...  utm_y  utm_unit  pj4_x  pj4_y  \\\n0    0.5  EGLE Lab    False  13274717.9  ...      0         1      0      0   \n1    0.5  EGLE Lab    False  13274221.6  ...      0         1      0      0   \n2    0.5  EGLE Lab    False  13274722.1  ...      0         1      0      0   \n3    0.5       NaN    False  13269250.0  ...      0         1      0      0   \n4    0.5       NaN    False  13269250.0  ...      0         1      0      0   \n\n  pj4_paramstr        lat        lon    y         ds  DaysNum  \n0          NaN  42.269732 -83.807344  0.5 2019-05-08    14372  \n1          NaN  42.269808 -83.809177  0.5 2019-05-08    14372  \n2          NaN  42.269390 -83.807331  0.5 2019-05-08    14372  \n3          NaN  42.285462 -83.827411  0.5 1999-03-27     7025  \n4          NaN  42.285462 -83.827411  0.5 1999-05-28     7087  \n\n[5 rows x 51 columns]",
      "text/html": "<div>\n<style scoped>\n    .dataframe tbody tr th:only-of-type {\n        vertical-align: middle;\n    }\n\n    .dataframe tbody tr th {\n        vertical-align: top;\n    }\n\n    .dataframe thead th {\n        text-align: right;\n    }\n</style>\n<table border=\"1\" class=\"dataframe\">\n  <thead>\n    <tr style=\"text-align: right;\">\n      <th></th>\n      <th>Unnamed: 0</th>\n      <th>Bore</th>\n      <th>Name</th>\n      <th>Depth1</th>\n      <th>Depth2</th>\n      <th>SampleDate</th>\n      <th>Value</th>\n      <th>Comment</th>\n      <th>Enabled</th>\n      <th>Easting</th>\n      <th>...</th>\n      <th>utm_y</th>\n      <th>utm_unit</th>\n      <th>pj4_x</th>\n      <th>pj4_y</th>\n      <th>pj4_paramstr</th>\n      <th>lat</th>\n      <th>lon</th>\n      <th>y</th>\n      <th>ds</th>\n      <th>DaysNum</th>\n    </tr>\n  </thead>\n  <tbody>\n    <tr>\n      <th>0</th>\n      <td>0</td>\n      <td>1021 Westview Way</td>\n      <td>1-4 Dioxane</td>\n      <td>260.0</td>\n      <td>268.0</td>\n      <td>2019-05-08</td>\n      <td>0.5</td>\n      <td>EGLE Lab</td>\n      <td>False</td>\n      <td>13274717.9</td>\n      <td>...</td>\n      <td>0</td>\n      <td>1</td>\n      <td>0</td>\n      <td>0</td>\n      <td>NaN</td>\n      <td>42.269732</td>\n      <td>-83.807344</td>\n      <td>0.5</td>\n      <td>2019-05-08</td>\n      <td>14372</td>\n    </tr>\n    <tr>\n      <th>1</th>\n      <td>1</td>\n      <td>1024 Westview Way</td>\n      <td>1-4 Dioxane</td>\n      <td>-9999.0</td>\n      <td>-9999.0</td>\n      <td>2019-05-08</td>\n      <td>0.5</td>\n      <td>EGLE Lab</td>\n      <td>False</td>\n      <td>13274221.6</td>\n      <td>...</td>\n      <td>0</td>\n      <td>1</td>\n      <td>0</td>\n      <td>0</td>\n      <td>NaN</td>\n      <td>42.269808</td>\n      <td>-83.809177</td>\n      <td>0.5</td>\n      <td>2019-05-08</td>\n      <td>14372</td>\n    </tr>\n    <tr>\n      <th>2</th>\n      <td>2</td>\n      <td>1049 Westview Way</td>\n      <td>1-4 Dioxane</td>\n      <td>272.0</td>\n      <td>280.0</td>\n      <td>2019-05-08</td>\n      <td>0.5</td>\n      <td>EGLE Lab</td>\n      <td>False</td>\n      <td>13274722.1</td>\n      <td>...</td>\n      <td>0</td>\n      <td>1</td>\n      <td>0</td>\n      <td>0</td>\n      <td>NaN</td>\n      <td>42.269390</td>\n      <td>-83.807331</td>\n      <td>0.5</td>\n      <td>2019-05-08</td>\n      <td>14372</td>\n    </tr>\n    <tr>\n      <th>3</th>\n      <td>3</td>\n      <td>105 Myrtle</td>\n      <td>1-4 Dioxane</td>\n      <td>61.0</td>\n      <td>65.0</td>\n      <td>1999-03-27</td>\n      <td>0.5</td>\n      <td>NaN</td>\n      <td>False</td>\n      <td>13269250.0</td>\n      <td>...</td>\n      <td>0</td>\n      <td>1</td>\n      <td>0</td>\n      <td>0</td>\n      <td>NaN</td>\n      <td>42.285462</td>\n      <td>-83.827411</td>\n      <td>0.5</td>\n      <td>1999-03-27</td>\n      <td>7025</td>\n    </tr>\n    <tr>\n      <th>4</th>\n      <td>4</td>\n      <td>105 Myrtle</td>\n      <td>1-4 Dioxane</td>\n      <td>61.0</td>\n      <td>65.0</td>\n      <td>1999-05-28</td>\n      <td>0.5</td>\n      <td>NaN</td>\n      <td>False</td>\n      <td>13269250.0</td>\n      <td>...</td>\n      <td>0</td>\n      <td>1</td>\n      <td>0</td>\n      <td>0</td>\n      <td>NaN</td>\n      <td>42.285462</td>\n      <td>-83.827411</td>\n      <td>0.5</td>\n      <td>1999-05-28</td>\n      <td>7087</td>\n    </tr>\n  </tbody>\n</table>\n<p>5 rows × 51 columns</p>\n</div>"
     },
     "execution_count": 24,
     "metadata": {},
     "output_type": "execute_result"
    }
   ],
   "source": [
    "import datetime as dt\n",
    "start_date = dt.date(1980, 1, 1)\n",
    "def cal_count(row):\n",
    "    delta =row['ds'].date() - start_date\n",
    "    return delta.days\n",
    "well_data['DaysNum'] = well_data.apply(cal_count, axis=1)\n",
    "well_data.head(5)"
   ],
   "metadata": {
    "collapsed": false,
    "pycharm": {
     "name": "#%%\n"
    }
   }
  },
  {
   "cell_type": "code",
   "execution_count": 37,
   "outputs": [
    {
     "data": {
      "text/plain": "   Depth1  Depth2     Easting  Northing  DaysNum    y\n0   260.0   268.0  13274717.9  281015.8    14372  0.5\n1 -9999.0 -9999.0  13274221.6  281040.3    14372  0.5\n2   272.0   280.0  13274722.1  280891.3    14372  0.5\n3    61.0    65.0  13269250.0  286712.5     7025  0.5\n4    61.0    65.0  13269250.0  286712.5     7087  0.5",
      "text/html": "<div>\n<style scoped>\n    .dataframe tbody tr th:only-of-type {\n        vertical-align: middle;\n    }\n\n    .dataframe tbody tr th {\n        vertical-align: top;\n    }\n\n    .dataframe thead th {\n        text-align: right;\n    }\n</style>\n<table border=\"1\" class=\"dataframe\">\n  <thead>\n    <tr style=\"text-align: right;\">\n      <th></th>\n      <th>Depth1</th>\n      <th>Depth2</th>\n      <th>Easting</th>\n      <th>Northing</th>\n      <th>DaysNum</th>\n      <th>y</th>\n    </tr>\n  </thead>\n  <tbody>\n    <tr>\n      <th>0</th>\n      <td>260.0</td>\n      <td>268.0</td>\n      <td>13274717.9</td>\n      <td>281015.8</td>\n      <td>14372</td>\n      <td>0.5</td>\n    </tr>\n    <tr>\n      <th>1</th>\n      <td>-9999.0</td>\n      <td>-9999.0</td>\n      <td>13274221.6</td>\n      <td>281040.3</td>\n      <td>14372</td>\n      <td>0.5</td>\n    </tr>\n    <tr>\n      <th>2</th>\n      <td>272.0</td>\n      <td>280.0</td>\n      <td>13274722.1</td>\n      <td>280891.3</td>\n      <td>14372</td>\n      <td>0.5</td>\n    </tr>\n    <tr>\n      <th>3</th>\n      <td>61.0</td>\n      <td>65.0</td>\n      <td>13269250.0</td>\n      <td>286712.5</td>\n      <td>7025</td>\n      <td>0.5</td>\n    </tr>\n    <tr>\n      <th>4</th>\n      <td>61.0</td>\n      <td>65.0</td>\n      <td>13269250.0</td>\n      <td>286712.5</td>\n      <td>7087</td>\n      <td>0.5</td>\n    </tr>\n  </tbody>\n</table>\n</div>"
     },
     "execution_count": 37,
     "metadata": {},
     "output_type": "execute_result"
    }
   ],
   "source": [
    "features = well_data[[\"Depth1\", \"Depth2\", \"Easting\", \"Northing\",\"DaysNum\" ,\"y\"]]\n",
    "features.head(5)"
   ],
   "metadata": {
    "collapsed": false,
    "pycharm": {
     "name": "#%%\n"
    }
   }
  },
  {
   "cell_type": "code",
   "execution_count": 39,
   "outputs": [],
   "source": [
    "import numpy as np\n",
    "# Labels are the values we want to predict\n",
    "labels = np.array(features['y'])\n",
    "# Remove the labels from the features\n",
    "# axis 1 refers to the columns\n",
    "features= features.drop('y', axis = 1)\n",
    "# Saving feature names for later use\n",
    "feature_list = list(features.columns)\n",
    "# Convert to numpy array"
   ],
   "metadata": {
    "collapsed": false,
    "pycharm": {
     "name": "#%%\n"
    }
   }
  },
  {
   "cell_type": "code",
   "execution_count": 40,
   "outputs": [
    {
     "data": {
      "text/plain": "array([[ 2.60000000e+02,  2.68000000e+02,  1.32747179e+07,\n         2.81015800e+05,  1.43720000e+04],\n       [-9.99900000e+03, -9.99900000e+03,  1.32742216e+07,\n         2.81040300e+05,  1.43720000e+04],\n       [ 2.72000000e+02,  2.80000000e+02,  1.32747221e+07,\n         2.80891300e+05,  1.43720000e+04],\n       [ 6.10000000e+01,  6.50000000e+01,  1.32692500e+07,\n         2.86712500e+05,  7.02500000e+03],\n       [ 6.10000000e+01,  6.50000000e+01,  1.32692500e+07,\n         2.86712500e+05,  7.08700000e+03]])"
     },
     "execution_count": 40,
     "metadata": {},
     "output_type": "execute_result"
    }
   ],
   "source": [
    "features = np.array(features)\n",
    "features[:5]"
   ],
   "metadata": {
    "collapsed": false,
    "pycharm": {
     "name": "#%%\n"
    }
   }
  },
  {
   "cell_type": "code",
   "execution_count": 41,
   "outputs": [
    {
     "data": {
      "text/plain": "array([0.5, 0.5, 0.5, 0.5, 0.5])"
     },
     "execution_count": 41,
     "metadata": {},
     "output_type": "execute_result"
    }
   ],
   "source": [
    "labels[:5]"
   ],
   "metadata": {
    "collapsed": false,
    "pycharm": {
     "name": "#%%\n"
    }
   }
  },
  {
   "cell_type": "code",
   "execution_count": 42,
   "outputs": [],
   "source": [
    "# Using Skicit-learn to split data into training and testing sets\n",
    "from sklearn.model_selection import train_test_split\n",
    "# Split the data into training and testing sets\n",
    "train_features, test_features, train_labels, test_labels \\\n",
    "    = train_test_split(features, labels,\n",
    "                       test_size = 0.25, random_state = 42)\n"
   ],
   "metadata": {
    "collapsed": false,
    "pycharm": {
     "name": "#%%\n"
    }
   }
  },
  {
   "cell_type": "code",
   "execution_count": 43,
   "outputs": [
    {
     "name": "stdout",
     "output_type": "stream",
     "text": [
      "Training Features Shape: (18245, 5)\n",
      "Training Labels Shape: (18245,)\n",
      "Testing Features Shape: (6082, 5)\n",
      "Testing Labels Shape: (6082,)\n"
     ]
    }
   ],
   "source": [
    "print('Training Features Shape:', train_features.shape)\n",
    "print('Training Labels Shape:', train_labels.shape)\n",
    "print('Testing Features Shape:', test_features.shape)\n",
    "print('Testing Labels Shape:', test_labels.shape)"
   ],
   "metadata": {
    "collapsed": false,
    "pycharm": {
     "name": "#%%\n"
    }
   }
  },
  {
   "cell_type": "code",
   "execution_count": 45,
   "outputs": [
    {
     "name": "stdout",
     "output_type": "stream",
     "text": [
      "Average baseline error:  10022.94\n"
     ]
    }
   ],
   "source": [
    "# The baseline predictions are the historical averages\n",
    "baseline_preds = test_features[:, feature_list.index('DaysNum')]\n",
    "# Baseline errors, and display average baseline error\n",
    "baseline_errors = abs(baseline_preds - test_labels)\n",
    "print('Average baseline error: ', round(np.mean(baseline_errors), 2))"
   ],
   "metadata": {
    "collapsed": false,
    "pycharm": {
     "name": "#%%\n"
    }
   }
  },
  {
   "cell_type": "code",
   "execution_count": 46,
   "outputs": [],
   "source": [
    "# Import the model we are using\n",
    "from sklearn.ensemble import RandomForestRegressor\n",
    "# Instantiate model with 1000 decision trees\n",
    "rf = RandomForestRegressor(n_estimators = 1000, random_state = 42)\n",
    "# Train the model on training data\n",
    "rf.fit(train_features, train_labels)"
   ],
   "metadata": {
    "collapsed": false,
    "pycharm": {
     "name": "#%%\n"
    }
   }
  },
  {
   "cell_type": "code",
   "execution_count": 47,
   "outputs": [
    {
     "name": "stdout",
     "output_type": "stream",
     "text": [
      "Mean Absolute Error: 255.82 degrees.\n"
     ]
    }
   ],
   "source": [
    "# Use the forest's predict method on the test data\n",
    "predictions = rf.predict(test_features)\n",
    "# Calculate the absolute errors\n",
    "errors = abs(predictions - test_labels)\n",
    "# Print out the mean absolute error (mae)\n",
    "print('Mean Absolute Error:', round(np.mean(errors), 2), 'degrees.')"
   ],
   "metadata": {
    "collapsed": false,
    "pycharm": {
     "name": "#%%\n"
    }
   }
  },
  {
   "cell_type": "code",
   "execution_count": 48,
   "outputs": [
    {
     "name": "stdout",
     "output_type": "stream",
     "text": [
      "Accuracy: -2038.43 %.\n"
     ]
    }
   ],
   "source": [
    "# Calculate mean absolute percentage error (MAPE)\n",
    "mape = 100 * (errors / test_labels)\n",
    "# Calculate and display accuracy\n",
    "accuracy = 100 - np.mean(mape)\n",
    "print('Accuracy:', round(accuracy, 2), '%.')"
   ],
   "metadata": {
    "collapsed": false,
    "pycharm": {
     "name": "#%%\n"
    }
   }
  },
  {
   "cell_type": "code",
   "execution_count": 49,
   "outputs": [
    {
     "name": "stdout",
     "output_type": "stream",
     "text": [
      "[ 6.525      15.5751854   3.58055556 ...  1.93755981 24.65882353\n",
      "  0.6       ]\n"
     ]
    }
   ],
   "source": [],
   "metadata": {
    "collapsed": false,
    "pycharm": {
     "name": "#%%"
    }
   }
  }
 ],
 "metadata": {
  "kernelspec": {
   "display_name": "Python 3",
   "language": "python",
   "name": "python3"
  },
  "language_info": {
   "codemirror_mode": {
    "name": "ipython",
    "version": 2
   },
   "file_extension": ".py",
   "mimetype": "text/x-python",
   "name": "python",
   "nbconvert_exporter": "python",
   "pygments_lexer": "ipython2",
   "version": "2.7.6"
  }
 },
 "nbformat": 4,
 "nbformat_minor": 0
}