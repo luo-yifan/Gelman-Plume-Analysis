{
 "cells": [
  {
   "cell_type": "code",
   "execution_count": 14,
   "metadata": {
    "collapsed": true
   },
   "outputs": [],
   "source": [
    "import pandas as pd\n",
    "import pymannkendall as mk\n",
    "import matplotlib.pyplot as plt"
   ]
  },
  {
   "cell_type": "code",
   "execution_count": 15,
   "outputs": [
    {
     "data": {
      "text/plain": "             Well Name         ds     y\n16  110 Parkland Plaza 1986-08-22  17.0\n17  110 Parkland Plaza 1986-09-19  17.0\n18  110 Parkland Plaza 1986-10-10  12.0\n19  110 Parkland Plaza 1986-10-10   1.0\n20  110 Parkland Plaza 1987-11-09   7.0",
      "text/html": "<div>\n<style scoped>\n    .dataframe tbody tr th:only-of-type {\n        vertical-align: middle;\n    }\n\n    .dataframe tbody tr th {\n        vertical-align: top;\n    }\n\n    .dataframe thead th {\n        text-align: right;\n    }\n</style>\n<table border=\"1\" class=\"dataframe\">\n  <thead>\n    <tr style=\"text-align: right;\">\n      <th></th>\n      <th>Well Name</th>\n      <th>ds</th>\n      <th>y</th>\n    </tr>\n  </thead>\n  <tbody>\n    <tr>\n      <th>16</th>\n      <td>110 Parkland Plaza</td>\n      <td>1986-08-22</td>\n      <td>17.0</td>\n    </tr>\n    <tr>\n      <th>17</th>\n      <td>110 Parkland Plaza</td>\n      <td>1986-09-19</td>\n      <td>17.0</td>\n    </tr>\n    <tr>\n      <th>18</th>\n      <td>110 Parkland Plaza</td>\n      <td>1986-10-10</td>\n      <td>12.0</td>\n    </tr>\n    <tr>\n      <th>19</th>\n      <td>110 Parkland Plaza</td>\n      <td>1986-10-10</td>\n      <td>1.0</td>\n    </tr>\n    <tr>\n      <th>20</th>\n      <td>110 Parkland Plaza</td>\n      <td>1987-11-09</td>\n      <td>7.0</td>\n    </tr>\n  </tbody>\n</table>\n</div>"
     },
     "execution_count": 15,
     "metadata": {},
     "output_type": "execute_result"
    }
   ],
   "source": [
    "well_data = pd.read_excel('../data/Data-Wells.xlsx')\n",
    "rm_nd = well_data.loc[well_data['1,4-Dioxane Results (ppb)'] != 'nd'].copy()\n",
    "rm_capital_nd = rm_nd.loc[rm_nd['1,4-Dioxane Results (ppb)'] != 'ND'].copy()\n",
    "rm_capital_nd['1,4-Dioxane Results (ppb)'] = rm_capital_nd['1,4-Dioxane Results (ppb)'].map(lambda x: x.replace(',', ''))\n",
    "rm_capital_nd['1,4-Dioxane Results (ppb)'] = rm_capital_nd['1,4-Dioxane Results (ppb)'].map(lambda x: x.replace('<', ''))\n",
    "res = rm_capital_nd\n",
    "res.loc[:, 'ds']= pd.to_datetime(res['Date Sampled'])\n",
    "res.loc[:, 'dioxane_results']= pd.to_numeric(res['1,4-Dioxane Results (ppb)'])\n",
    "di_time = res.iloc[:, lambda df: df.columns.str.contains('Well Name|ds|dioxane_results',\n",
    "                                              case=False)].copy()\n",
    "di_time.rename(columns = {'dioxane_results':'y'}, inplace = True)\n",
    "di_time.head(5)"
   ],
   "metadata": {
    "collapsed": false,
    "pycharm": {
     "name": "#%%\n"
    }
   }
  },
  {
   "cell_type": "code",
   "execution_count": 17,
   "outputs": [
    {
     "name": "stdout",
     "output_type": "stream",
     "text": [
      "zero division error 2655 Dexter Rd\n",
      "zero division error 2828 Dexter Rd\n",
      "zero division error 3041 Dexter Rd\n",
      "zero division error 3225 Dexter Rd\n",
      "zero division error 3250 Kingwood\n",
      "zero division error 3432 Ferry St\n",
      "zero division error 3537 Elizabeth Rd\n",
      "zero division error 3550 Elizabeth Rd\n",
      "zero division error 371 Parkland Plaza #1\n",
      "zero division error 4061-4065 Jackson Rd\n",
      "zero division error 4530 Jackson Rd\n",
      "zero division error 460 Rose\n",
      "zero division error 4709 Breezewood Ct\n",
      "zero division error 777 S. Wagner Road\n",
      "zero division error HCMW-2d\n",
      "zero division error Honey Creek/W Huron Dr\n",
      "zero division error INF-UV1-A\n",
      "zero division error IW-1\n",
      "zero division error LS-1\n",
      "zero division error LS-2\n",
      "zero division error LS-3\n",
      "zero division error LS-5\n",
      "zero division error MW-120s\n",
      "zero division error MW-122d\n",
      "zero division error MW-123s\n",
      "zero division error MW-124d\n",
      "zero division error MW-127d\n",
      "zero division error MW-127s\n",
      "zero division error MW-128s\n",
      "zero division error MW-131d\n",
      "zero division error MW-135\n",
      "zero division error MW-139d\n",
      "zero division error MW-50/MW-58s\n",
      "zero division error MW-51\n",
      "zero division error MW-62d\n",
      "zero division error MW-62i\n",
      "zero division error MW-62s\n",
      "zero division error MW-63s\n",
      "zero division error MW-70\n",
      "zero division error MW-86\n",
      "zero division error OW-1\n",
      "zero division error Production Well #1\n",
      "zero division error SI-MW-2\n",
      "zero division error SI-MW-4\n",
      "zero division error SI-MW-5\n",
      "zero division error SI-MW-7\n",
      "zero division error Tributary/Outfall Upstream\n"
     ]
    },
    {
     "data": {
      "text/plain": "                         Well name       trend      h             p         z  \\\n0               110 Parkland Plaza  decreasing   True  2.326843e-10 -6.338055   \n1                       170 Aprill    no trend  False  7.427813e-01 -0.328172   \n2                175 Jackson Plaza  increasing   True  1.278999e-11  6.770996   \n3                      2575 Valley  increasing   True  2.772549e-04  3.635674   \n4                   2601 Dexter Rd  increasing   True  7.469328e-03  2.675161   \n..                             ...         ...    ...           ...       ...   \n302              Tributary/Outfall    no trend  False  1.000000e+00  0.000000   \n303              Tributary/Park Rd    no trend  False  8.641073e-02  1.714643   \n304                   Varsity Ford    no trend  False  2.415666e-01 -1.171080   \n305  Weber's Drain 1st Sister Lake    no trend  False  1.000000e+00  0.000000   \n306        Weber's Heat Pump Drain    no trend  False  1.000000e+00  0.000000   \n\n          Tau      s         var_s      slope   intercept  \n0   -0.591195 -846.0  17774.666667  -0.200000   12.300000  \n1   -0.039683  -25.0   5348.333333   0.000000   10.500000  \n2    0.616541  984.0  21076.666667  19.795139 -127.263889  \n3    0.594737  113.0    949.000000   4.844444   22.477778  \n4    0.722222   26.0     87.333333   1.000000   -2.000000  \n..        ...    ...           ...        ...         ...  \n302  0.333333    1.0      3.666667   1.650000   -0.050000  \n303  0.800000    8.0     16.666667   0.512500    2.375000  \n304 -0.333333   -5.0     11.666667   0.000000    3.000000  \n305 -1.000000   -1.0      1.000000 -19.000000  249.000000  \n306 -1.000000   -1.0      1.000000  -2.000000  272.000000  \n\n[307 rows x 10 columns]",
      "text/html": "<div>\n<style scoped>\n    .dataframe tbody tr th:only-of-type {\n        vertical-align: middle;\n    }\n\n    .dataframe tbody tr th {\n        vertical-align: top;\n    }\n\n    .dataframe thead th {\n        text-align: right;\n    }\n</style>\n<table border=\"1\" class=\"dataframe\">\n  <thead>\n    <tr style=\"text-align: right;\">\n      <th></th>\n      <th>Well name</th>\n      <th>trend</th>\n      <th>h</th>\n      <th>p</th>\n      <th>z</th>\n      <th>Tau</th>\n      <th>s</th>\n      <th>var_s</th>\n      <th>slope</th>\n      <th>intercept</th>\n    </tr>\n  </thead>\n  <tbody>\n    <tr>\n      <th>0</th>\n      <td>110 Parkland Plaza</td>\n      <td>decreasing</td>\n      <td>True</td>\n      <td>2.326843e-10</td>\n      <td>-6.338055</td>\n      <td>-0.591195</td>\n      <td>-846.0</td>\n      <td>17774.666667</td>\n      <td>-0.200000</td>\n      <td>12.300000</td>\n    </tr>\n    <tr>\n      <th>1</th>\n      <td>170 Aprill</td>\n      <td>no trend</td>\n      <td>False</td>\n      <td>7.427813e-01</td>\n      <td>-0.328172</td>\n      <td>-0.039683</td>\n      <td>-25.0</td>\n      <td>5348.333333</td>\n      <td>0.000000</td>\n      <td>10.500000</td>\n    </tr>\n    <tr>\n      <th>2</th>\n      <td>175 Jackson Plaza</td>\n      <td>increasing</td>\n      <td>True</td>\n      <td>1.278999e-11</td>\n      <td>6.770996</td>\n      <td>0.616541</td>\n      <td>984.0</td>\n      <td>21076.666667</td>\n      <td>19.795139</td>\n      <td>-127.263889</td>\n    </tr>\n    <tr>\n      <th>3</th>\n      <td>2575 Valley</td>\n      <td>increasing</td>\n      <td>True</td>\n      <td>2.772549e-04</td>\n      <td>3.635674</td>\n      <td>0.594737</td>\n      <td>113.0</td>\n      <td>949.000000</td>\n      <td>4.844444</td>\n      <td>22.477778</td>\n    </tr>\n    <tr>\n      <th>4</th>\n      <td>2601 Dexter Rd</td>\n      <td>increasing</td>\n      <td>True</td>\n      <td>7.469328e-03</td>\n      <td>2.675161</td>\n      <td>0.722222</td>\n      <td>26.0</td>\n      <td>87.333333</td>\n      <td>1.000000</td>\n      <td>-2.000000</td>\n    </tr>\n    <tr>\n      <th>...</th>\n      <td>...</td>\n      <td>...</td>\n      <td>...</td>\n      <td>...</td>\n      <td>...</td>\n      <td>...</td>\n      <td>...</td>\n      <td>...</td>\n      <td>...</td>\n      <td>...</td>\n    </tr>\n    <tr>\n      <th>302</th>\n      <td>Tributary/Outfall</td>\n      <td>no trend</td>\n      <td>False</td>\n      <td>1.000000e+00</td>\n      <td>0.000000</td>\n      <td>0.333333</td>\n      <td>1.0</td>\n      <td>3.666667</td>\n      <td>1.650000</td>\n      <td>-0.050000</td>\n    </tr>\n    <tr>\n      <th>303</th>\n      <td>Tributary/Park Rd</td>\n      <td>no trend</td>\n      <td>False</td>\n      <td>8.641073e-02</td>\n      <td>1.714643</td>\n      <td>0.800000</td>\n      <td>8.0</td>\n      <td>16.666667</td>\n      <td>0.512500</td>\n      <td>2.375000</td>\n    </tr>\n    <tr>\n      <th>304</th>\n      <td>Varsity Ford</td>\n      <td>no trend</td>\n      <td>False</td>\n      <td>2.415666e-01</td>\n      <td>-1.171080</td>\n      <td>-0.333333</td>\n      <td>-5.0</td>\n      <td>11.666667</td>\n      <td>0.000000</td>\n      <td>3.000000</td>\n    </tr>\n    <tr>\n      <th>305</th>\n      <td>Weber's Drain 1st Sister Lake</td>\n      <td>no trend</td>\n      <td>False</td>\n      <td>1.000000e+00</td>\n      <td>0.000000</td>\n      <td>-1.000000</td>\n      <td>-1.0</td>\n      <td>1.000000</td>\n      <td>-19.000000</td>\n      <td>249.000000</td>\n    </tr>\n    <tr>\n      <th>306</th>\n      <td>Weber's Heat Pump Drain</td>\n      <td>no trend</td>\n      <td>False</td>\n      <td>1.000000e+00</td>\n      <td>0.000000</td>\n      <td>-1.000000</td>\n      <td>-1.0</td>\n      <td>1.000000</td>\n      <td>-2.000000</td>\n      <td>272.000000</td>\n    </tr>\n  </tbody>\n</table>\n<p>307 rows × 10 columns</p>\n</div>"
     },
     "execution_count": 17,
     "metadata": {},
     "output_type": "execute_result"
    }
   ],
   "source": [
    "grouped = di_time.groupby('Well Name')\n",
    "mk_res = []\n",
    "for name, group in grouped:\n",
    "\n",
    "    try:\n",
    "        data = group.y\n",
    "        trend, h, p, z, Tau, s, var_s, slope, intercept = mk.original_test(data)\n",
    "\n",
    "        mk_res.append([name, trend, h, p, z, Tau, s, var_s, slope, intercept])\n",
    "    except ZeroDivisionError:\n",
    "        # print(group)\n",
    "        print(\"zero division error\", name)\n",
    "        # plt.plot(group.ds, group.y)\n",
    "        # plt.show()\n",
    "\n",
    "    except KeyboardInterrupt:\n",
    "        break\n",
    "    except:\n",
    "        print(\"[mk error]\", name)\n",
    "        continue\n",
    "\n",
    "\n",
    "mk_df = pd.DataFrame(mk_res, columns=['Well name', 'trend', 'h', 'p', 'z', 'Tau', 's', 'var_s','slope' , 'intercept'])\n",
    "mk_df\n"
   ],
   "metadata": {
    "collapsed": false,
    "pycharm": {
     "name": "#%%\n"
    }
   }
  }
 ],
 "metadata": {
  "kernelspec": {
   "display_name": "Python 3",
   "language": "python",
   "name": "python3"
  },
  "language_info": {
   "codemirror_mode": {
    "name": "ipython",
    "version": 2
   },
   "file_extension": ".py",
   "mimetype": "text/x-python",
   "name": "python",
   "nbconvert_exporter": "python",
   "pygments_lexer": "ipython2",
   "version": "2.7.6"
  }
 },
 "nbformat": 4,
 "nbformat_minor": 0
}